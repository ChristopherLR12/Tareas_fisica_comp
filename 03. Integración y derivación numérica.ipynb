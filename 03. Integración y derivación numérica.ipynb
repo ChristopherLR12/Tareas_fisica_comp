{
 "cells": [
  {
   "cell_type": "markdown",
   "metadata": {},
   "source": [
    "# Integración numérica\n",
    "\n",
    "**Integrar analíticamente, al contrario de derivar, no es una operación *algorítmica*,** es decir, no existe una manera de, dada una función, calcular su integral definida en un intervalo. \n",
    "\n",
    "Debido a esto, integrar analíticamente es mucho más dificil que derivar analíticamente. Más aún, existen funciones cuyas integrales, aunque existan, no se pueden expresar de manera simple.\n",
    "\n",
    "Para atacar todos estos problemas, en análisis numérico se han desarrollado distintos métodos para calcular la integral de una función."
   ]
  },
  {
   "cell_type": "markdown",
   "metadata": {},
   "source": [
    "## Planteamiento del problema\n",
    "\n",
    "Dada una función $f:[a,b] \\to \\mathbb{R}$ continua a pedazos (tiene a lo más un número numerable de discontinuidades), quiero calcular $\\int_{a}^{b} f(s) ds$, que corresponde al área algebraica entre la función y el eje x\n",
    "\n",
    "![](https://lh3.googleusercontent.com/KiLWWFTJW6EF3SNuzVS9nAmbA1xlwvPfZbfy0sTweVdrqlTsrpBP6rYzYVIGYMKAmVQ1_CouwBu0hR4rIaR467hmYXvDfSGD39wgcrLv0cwnPoMizRnEuNNcU2Dks3RKNbHBLjROyA=w400)\n",
    "\n",
    "## ¿Cómo calculo una integral numéricamente?\n",
    "\n",
    "Primero debemos recordar la definición de una integral sobre el intervalo $[a,b]$. \n",
    "\n",
    "### Particiones regulares\n",
    "Sea $P = \\{x_0=a, x_1, \\ldots, x_{n-1}, x_n = b\\}$. Decimos que $P$ es una **partición regular** de $[a,b]$ si y solo si, para toda $i$ se cumple que\n",
    "\n",
    "1. $x_{i} < x_{i+1}$ \n",
    "\n",
    "2.  $x_{i+1} - x_{i} = h = \\frac{b-a}{n}$\n",
    "\n",
    "En este ejemplo, la partición tiene $n+1$ puntos y $n$ subintervalos. La función `np.linspace(a,b,n)` de python, como recordarán, construye un arreglo que corresponde a una partición regular de $[a,b]$ con $n-1$ subintervalos y n puntos. Estaremos continuamente recurriendo a esta función durante este notebook."
   ]
  },
  {
   "cell_type": "code",
   "execution_count": 1,
   "metadata": {},
   "outputs": [],
   "source": [
    "import numpy as np"
   ]
  },
  {
   "cell_type": "code",
   "execution_count": 2,
   "metadata": {},
   "outputs": [
    {
     "data": {
      "text/plain": [
       "array([ 1.,  2.,  3.,  4.,  5.,  6.,  7.,  8.,  9., 10.])"
      ]
     },
     "execution_count": 2,
     "metadata": {},
     "output_type": "execute_result"
    }
   ],
   "source": [
    "np.linspace(1,10,10)"
   ]
  },
  {
   "cell_type": "markdown",
   "metadata": {},
   "source": [
    "### Sumas de Riemann\n",
    "\n",
    "Primero la integral se aproxima mediante la suma de las áreas de varios rectángulos cuyas bases están sobre una partición regular del invervalo $[a,b]$\n",
    "\n",
    "$$\n",
    "\\int_{a}^{b} f(s) ds \\approx \\sum_{i=1}^{n} f(\\xi_i)(x_{i} - x_{i-1}) = h \\sum_{i=1}^{n}  f(\\xi_i)\n",
    "$$\n",
    "\n",
    "con $\\xi_i \\in [x_{i-1},x_{i}]$. Notemos que la altura del rectángulo, dada por $f(\\xi_i)$, es arbitraria. Para tener la integral, simplemente tomamos el límite cuando el número de puntos de la partición tiende a infinito:\n",
    "\n",
    "$$\n",
    "\\int_{a}^{b} f(s) ds = \\lim_{n \\to \\infty} \\sum_{i=1}^{n} f(\\xi_i)(x_{i} - x_{i-1}) = \\lim_{n \\to \\infty} h \\sum_{i=1}^{n}  f(\\xi_i)\n",
    "$$\n",
    "\n",
    "con $\\xi_i \\in [x_{i-1},x_{i}]$\n",
    "\n",
    "\n",
    "![](https://lh3.googleusercontent.com/-W_1UtNF8I6txqirGvNCW_aQI5lYB6vHOnAt9F1Pg7QSj8uUqaZPLwiAIUc-nxysR3x8hcNK-Kx8Mpn-M2OeqXJW5HZiv0skhmw0Hh67N3m5yCEZ5-IdC_nQngwprbDydmiue3d0EA=w400)"
   ]
  },
  {
   "cell_type": "markdown",
   "metadata": {},
   "source": [
    "### Sumas importantes\n",
    "\n",
    "Si **$f$ es continua**, sabemos que en cualquier intervalo cerrado alcanza su máximo y su mínimo. Así, podemos tomar como alturas de los rectángulos los valores máximos y mínimos de la función y así obtener:\n",
    "\n",
    "#### Suma superior:\n",
    "\n",
    "$$\\xi_i = \\text{argmax}_{x\\in[x_{i-1},x_i]}{f(x)} \\quad , \\quad f(\\xi_i) = \\max_{x \\in [x_{i-1},x_i]}{f(x)}$$\n",
    "\n",
    "#### Suma inferior:\n",
    "\n",
    "$$\\xi_i = \\text{argmin}_{x\\in[x_{i-1},x_i]}{f(x)} \\quad , \\quad f(\\xi_i) = \\min_{x \\in [x_{i-1},x_i]}{f(x)}$$\n",
    "\n"
   ]
  },
  {
   "cell_type": "markdown",
   "metadata": {},
   "source": [
    "## ¿Podemos implementar una suma superior o inferior en la computadora? \n",
    "\n",
    "Generalmente **NO**: encontrar mínimos y máximos no es necesariamente sencillo y eso se tendría que hacer para cada subintervalo de la partición ($n$ veces), lo que haría la integración muy tardada.\n",
    "\n",
    "## ¿Cómo calculamos entonces la integral? \n",
    "\n",
    "Ya que no podemos hacer sumas superiores o inferiores, lo más sencillo es tomar $\\xi_i$ de manera que sea fácil calcular la integral en la computadora:\n",
    "\n",
    "Recordamos que $\\xi_i \\in [x_{i-1},x_i]$\n",
    "\n",
    "### Primera opción: $\\xi_i = x_{i}$ (Integral rectangular hacia adelante)\n",
    "\n",
    "$$\n",
    "\\int_{a}^{b} f(s) ds \\approx h \\sum_{i=1}^{n}  f(\\xi_i) =  h \\sum_{i=1}^{n}  f(x_i)\n",
    "$$\n",
    "\n",
    "Tomar el punto $\\xi_i = x_{i}$ corresponde a aproximar la integral como se muestra en la siguiente figura\n",
    "\n",
    "<div>\n",
    "<img src=\"https://math24.net/images/riemann-sum4.svg\" width=\"300\"/>\n",
    "</div>\n",
    "\n"
   ]
  },
  {
   "cell_type": "markdown",
   "metadata": {},
   "source": [
    "## Preludio computacional: diferencia entre los indices de la partición y de la lista de Python\n",
    "\n",
    "Muchas veces, cuando planteamos un problema de manera matemática, la notación del problema puede incluir índices que nosotros también quisiéramos utilizar. Es importante recordar que **los índices en un objeto iterable en Python siempre empiezan en 0**. Para el caso de la partición, se cumple que:\n",
    "\n",
    "\n",
    "- Partición: $\\{x_0, x_1, x_2 \\ldots, x_{n-1},x_n\\}$.  \n",
    "- Lista en python: $xx$\n",
    "\n",
    "Si queremos representar todos los puntos de la partición en un arreglo, debemos notar que tendrán la siguiente correspondencia\n",
    "\n",
    "$xx[0] = x_0$\n",
    "\n",
    "$xx[1] = x_1$\n",
    "\n",
    ".\n",
    ".\n",
    ".\n",
    "\n",
    "$xx[i] = x_{i}$\n",
    ".  \n",
    ".  \n",
    ".  \n",
    "\n",
    "$xx[-1] =  xx[len(xx)] = x_{n}$\n",
    "\n",
    "Es fundamental que dicha correspondencia se respete para no tener problemas entre lo teórico y lo computacional"
   ]
  },
  {
   "cell_type": "code",
   "execution_count": 5,
   "metadata": {
    "tags": []
   },
   "outputs": [],
   "source": [
    "def intAdelante(f,a,b,n):\n",
    "    xx = np.linspace(a,b,n)\n",
    "    integral = 0\n",
    "    for i in range(n):\n",
    "        integral = integral + f(xx[i])\n",
    "    dx = (b-a)/(n-1.)\n",
    "    integral = integral*dx\n",
    "    return integral"
   ]
  },
  {
   "cell_type": "markdown",
   "metadata": {},
   "source": [
    "Podemos probar nuestra implementación en la función $f(x) = \\cos(2x)$\n",
    "\n",
    "Analíticamente, sabemos que (chéquenle, chéquenle)\n",
    "\n",
    "$$\n",
    "\\int_a^b \\cos(2x) dx= \\sin(x)\\cos(x) \\big|_a^b\n",
    "$$"
   ]
  },
  {
   "cell_type": "code",
   "execution_count": 3,
   "metadata": {
    "tags": []
   },
   "outputs": [],
   "source": [
    "def prueba(x):\n",
    "    return np.cos(2*x)"
   ]
  },
  {
   "cell_type": "code",
   "execution_count": 6,
   "metadata": {
    "tags": []
   },
   "outputs": [
    {
     "name": "stdout",
     "output_type": "stream",
     "text": [
      "0.5423633471957212\n",
      "0.5039561677663122\n",
      "0.5003929891595635\n"
     ]
    }
   ],
   "source": [
    "# con 10 subintervalos, o rectángulos, la aproximación es mala\n",
    "print(intAdelante(prueba,0,np.pi/4,10))\n",
    "# tomando más mejora \n",
    "print(intAdelante(prueba,0,np.pi/4,100))\n",
    "print(intAdelante(prueba,0,np.pi/4,1000))"
   ]
  },
  {
   "cell_type": "markdown",
   "metadata": {},
   "source": [
    "________"
   ]
  },
  {
   "cell_type": "markdown",
   "metadata": {},
   "source": [
    "### Sobre la convergencia del error\n",
    "\n",
    "Si queremos ver como mejora nuestra integral conforme aumentemos el número de puntos que usamos ($n$), debemos calcular el valor para distintos valores de $n$. Para ello es necesario espaciar los valores $n$ a usar, no linealmente sino logaritmicamente, para así cubrir un rango más amplio."
   ]
  },
  {
   "cell_type": "markdown",
   "metadata": {},
   "source": [
    "En escala logaritmica, la separación entre $n_i$ y $n_{i+1}$ es\n",
    "\n",
    "$$\n",
    "\\log(n_{i+1}) - \\log(n_i)\n",
    "$$\n",
    "\n",
    "Si queremos que eso sea una constante, entonces pedimos que se cumpla la condición\n",
    "\n",
    "$$\n",
    "\\log(n_{i+1}) - \\log(n_i) = c\n",
    "\\\\ \n",
    "\\implies \\log(\\frac{n_{i+1}}{n_i})  = c\n",
    "\\\\\n",
    "\\implies \\frac{n_{i+1}}{n_i}  = 10^c\n",
    "\\\\\n",
    "\\implies n_{i+1}  = (10^c)n_i\n",
    "$$\n",
    "\n",
    "Esto es equivalente a que hagamos lo siguiente: sea $n_{i+1} = 10^{m_{i+1}}$, $n_{i} = 10^{m_{i}}$, en este caso entonces:\n",
    "\n",
    "$$\n",
    "\\log(n_{i+1}) - \\log(n_i) = m_{i+1} - m_{i}\n",
    "$$\n",
    "\n",
    "Si se cumple que $m_{i+1} - m_{i} = c$ para toda $i$, entonces en escala logarítmica los puntos estarán separados linealmente"
   ]
  },
  {
   "cell_type": "markdown",
   "metadata": {},
   "source": [
    "**Conclusión**: hay que generar puntos de la forma $n_i = 10^{m_i}$ con los $m_i$ separados linealmente"
   ]
  },
  {
   "cell_type": "code",
   "execution_count": 46,
   "metadata": {
    "tags": []
   },
   "outputs": [
    {
     "name": "stdout",
     "output_type": "stream",
     "text": [
      "[10, 13, 17, 21, 26, 33, 42, 53, 68, 86, 109, 138, 175, 222, 281, 357, 453, 574, 728, 924, 1173, 1488, 1888, 2396, 3040, 3857, 4894, 6211, 7881, 10000]\n"
     ]
    }
   ],
   "source": [
    "# seleccionamos ns espaciadas logaritmicamente\n",
    "# generamos exponentes linealmente espaciados\n",
    "expns = np.linspace(1,4,30)\n",
    "# ns va a guardar mis ns (los distintos numeros de subintervalos)\n",
    "# todos los elementos de n deben ser enteros, por lo que debemos redondearlos hacia arriba con la función\n",
    "# ceil (función techo) y luego convertirlos a enteros con la función Int64()\n",
    "nn = [int(np.ceil(10**k)) for k in expns]\n",
    "print(nn)\n",
    "errores = [abs(intAdelante(prueba,0,np.pi/4,n)-.5) for n in nn]"
   ]
  },
  {
   "cell_type": "markdown",
   "metadata": {},
   "source": [
    "Grafiquemos esto para una mejor visualización"
   ]
  },
  {
   "cell_type": "code",
   "execution_count": 8,
   "metadata": {},
   "outputs": [],
   "source": [
    "import matplotlib.pyplot as plt"
   ]
  },
  {
   "cell_type": "code",
   "execution_count": 9,
   "metadata": {
    "tags": []
   },
   "outputs": [
    {
     "data": {
      "image/png": "[encoded data removed]",
      "text/plain": [
       "<Figure size 800x400 with 1 Axes>"
      ]
     },
     "metadata": {},
     "output_type": "display_data"
    }
   ],
   "source": [
    "plt.figure(figsize=(8,4))\n",
    "plt.scatter(nn,errores,label=\"Integral hacia adelante de $f(x)=\\cos(2x)$\")\n",
    "plt.title(\"Errores integral hacía adelante\")\n",
    "plt.legend()\n",
    "plt.xscale(\"log\")\n",
    "plt.yscale(\"log\")\n",
    "plt.xlabel(\"$n$\")\n",
    "plt.ylabel(\"$Error$\")\n",
    "plt.grid()\n",
    "plt.show()"
   ]
  },
  {
   "cell_type": "markdown",
   "metadata": {},
   "source": [
    "_____\n",
    "#### Ejercicio 1\n",
    "\n",
    "Resuelve las siguientes dos integrales utilizando la regla de integración hacia adelante:\n",
    "\n",
    "1. $$\\int_{0}^{1} e^{x^2} \\; \\mathrm{d} x \\approx 1.462651746$$\n",
    "\n",
    "\n",
    "\n",
    "2. $$\\int_{0}^{\\pi} \\ln{\\left(1 - 2 e \\cos{x}+ e^2 \\right) } \\; \\mathrm{d} x = 2\\pi$$\n",
    "\n",
    "$e$ es el número de Euler (pueden usar `np.e`).\n",
    "\n",
    "Usando el resultado que se muestra, grafica el error absoluto como función del número de puntos de la partición $n$ y discute cuál es la velocidad de convergencia del error.  \n",
    "\n",
    "Recuerda que una linea recta en escala log-log implica que:"
   ]
  },
  {
   "cell_type": "markdown",
   "metadata": {},
   "source": [
    "$$\\log(y) = m+a\\log(x)\\rightarrow y = Ax^a \\rightarrow y \\propto x^a.$$\n",
    "\n",
    "Si $y$ es el error y $n$ el número de puntos, decimos que el error es de orden $a$ (primer order, segundo orden, etc.) respecto a $n$. Notemos que aquí no estamos calculando errores relativos, entonces no estamos obteniendo información resecto al tamaño de los errores sino sobre su comportamiento respecto a aumentar o disminuir el número de puntos usados."
   ]
  },
  {
   "cell_type": "code",
   "execution_count": 12,
   "metadata": {},
   "outputs": [],
   "source": [
    "def fun1(x):\n",
    "    return np.e**x**2"
   ]
  },
  {
   "cell_type": "code",
   "execution_count": 27,
   "metadata": {},
   "outputs": [
    {
     "name": "stdout",
     "output_type": "stream",
     "text": [
      "1.4628376831232537\n"
     ]
    }
   ],
   "source": [
    "print(intAdelante(fun1,0,1,10000))"
   ]
  },
  {
   "cell_type": "code",
   "execution_count": 47,
   "metadata": {},
   "outputs": [],
   "source": [
    "errores_f1 = [abs(intAdelante(fun1,0,1,n)-1.462651746) for n in nn]"
   ]
  },
  {
   "cell_type": "code",
   "execution_count": 54,
   "metadata": {},
   "outputs": [
    {
     "data": {
      "image/png": "[encoded data removed]",
      "text/plain": [
       "<Figure size 800x400 with 1 Axes>"
      ]
     },
     "metadata": {},
     "output_type": "display_data"
    }
   ],
   "source": [
    "plt.figure(figsize=(8,4))\n",
    "plt.scatter(nn,errores_f1,label=\"Integral hacia adelante de $f(x)=e^{x^2}$\")\n",
    "plt.title(\"Errores integral hacía adelante\")\n",
    "plt.legend()\n",
    "plt.xscale(\"log\")\n",
    "plt.yscale(\"log\")\n",
    "plt.xlabel(\"$n$\")\n",
    "plt.ylabel(\"$Error$\")\n",
    "plt.grid()\n",
    "plt.show()"
   ]
  },
  {
   "cell_type": "code",
   "execution_count": 36,
   "metadata": {},
   "outputs": [],
   "source": [
    "def fun2(x):\n",
    "    return np.log(1-2*np.e*np.cos(x)+np.e**2)"
   ]
  },
  {
   "cell_type": "code",
   "execution_count": 40,
   "metadata": {},
   "outputs": [
    {
     "name": "stdout",
     "output_type": "stream",
     "text": [
      "6.283768000994603\n"
     ]
    }
   ],
   "source": [
    "print(intAdelante(fun2,0,np.pi,10000))"
   ]
  },
  {
   "cell_type": "code",
   "execution_count": 49,
   "metadata": {},
   "outputs": [],
   "source": [
    "errores_f2 = [abs(intAdelante(fun2,0,np.pi,n)-2*np.pi) for n in nn]"
   ]
  },
  {
   "cell_type": "code",
   "execution_count": 50,
   "metadata": {},
   "outputs": [
    {
     "data": {
      "image/png": "[encoded data removed]",
      "text/plain": [
       "<Figure size 800x400 with 1 Axes>"
      ]
     },
     "metadata": {},
     "output_type": "display_data"
    }
   ],
   "source": [
    "plt.figure(figsize=(8,4))\n",
    "plt.scatter(nn,errores_f2,label=\"Integral hacia adelante de $f(x)$\")\n",
    "plt.title(\"Errores integral hacía adelante\")\n",
    "plt.legend()\n",
    "plt.xscale(\"log\")\n",
    "plt.yscale(\"log\")\n",
    "plt.xlabel(\"$n$\")\n",
    "plt.ylabel(\"$Error$\")\n",
    "plt.grid()\n",
    "plt.show()"
   ]
  },
  {
   "cell_type": "markdown",
   "metadata": {},
   "source": [
    "_____"
   ]
  },
  {
   "cell_type": "markdown",
   "metadata": {},
   "source": [
    "## Otras opciones para definir integrales mediante sumas de Riemman:\n",
    "\n",
    "### Segunda opción: $\\xi_i = x_{i-1}$ (Integral rectangular hacia atras)\n",
    "\n",
    "\n",
    "$$\n",
    "\\int_{a}^{b} f(s) ds \\approx h \\sum_{i=1}^{n}  f(\\xi_i) =  h \\sum_{i=1}^{n}  f(x_{i-1})\n",
    "$$"
   ]
  },
  {
   "cell_type": "markdown",
   "metadata": {},
   "source": [
    "____\n",
    "#### Ejercicio 2\n",
    "\n",
    "Implementa una función `intAtrás(f,a,b,n)` regrese el valor la integral $\\int_a^b f(s) \\; ds$ calculado utilizando la fórmula de la integral rectangular hacia atrás con $n$ subintervalos. Prueba tu función integrando la función  `prueba`."
   ]
  },
  {
   "cell_type": "code",
   "execution_count": 93,
   "metadata": {},
   "outputs": [],
   "source": [
    "def intAtrás(f,a,b,n):\n",
    "    xx = np.linspace(a,b,n)\n",
    "    integral = 0\n",
    "    for i in range(1,n+1):\n",
    "        integral = integral + f(xx[i-1])\n",
    "    dx = (b-a)/(n-1.)\n",
    "    integral = integral*dx\n",
    "    return integral"
   ]
  },
  {
   "cell_type": "code",
   "execution_count": 94,
   "metadata": {},
   "outputs": [
    {
     "name": "stdout",
     "output_type": "stream",
     "text": [
      "0.5423633471957212\n"
     ]
    }
   ],
   "source": [
    "print(intAtrás(prueba,0,np.pi/4,10))"
   ]
  },
  {
   "cell_type": "markdown",
   "metadata": {},
   "source": [
    "___\n",
    "### Tercera opción: tomar el punto medio $\\xi_i = \\frac{x_{i-1} + x_{i}}{2}$ (Integral rectangular Centrada o regla rectangular)\n",
    "\n",
    "$$\n",
    "\\int_{a}^{b} f(s) ds \\approx h \\sum_{i=1}^{n}  f(\\xi_i) =  h \\sum_{i=1}^{n}  f\\left( \\frac{x_{i-1} + x_{i}}{2} \\right) \n",
    "$$"
   ]
  },
  {
   "cell_type": "markdown",
   "metadata": {},
   "source": [
    "______\n",
    "#### Ejercicio 3\n",
    "\n",
    "Implementa una función `intCentrada(f,a,b,n)` regrese el valor la integral $\\int_a^b f(s) \\; ds$ calculado utilizando la fórmula de la regla centrada con $n$ subintervalos. Prueba tu función integrando la función  `prueba`."
   ]
  },
  {
   "cell_type": "code",
   "execution_count": 90,
   "metadata": {},
   "outputs": [],
   "source": [
    "def intCentrada(f,a,b,n):\n",
    "    xx = np.linspace(a,b,n)\n",
    "    integral = 0\n",
    "    for i in range(1,n):\n",
    "        integral = integral + f((xx[i-1]+xx[i])/2)\n",
    "    dx = (b-a)/(n-1.)\n",
    "    integral = integral*dx\n",
    "    return integral"
   ]
  },
  {
   "cell_type": "code",
   "execution_count": 91,
   "metadata": {},
   "outputs": [
    {
     "name": "stdout",
     "output_type": "stream",
     "text": [
      "0.50063518391656\n"
     ]
    }
   ],
   "source": [
    "print(intCentrada(prueba,0,np.pi/4,10))"
   ]
  },
  {
   "cell_type": "markdown",
   "metadata": {},
   "source": [
    "____\n",
    "#### Ejercicio 4\n",
    "\n",
    "Repite el ejercicio 1 pero ahora utilizando las reglas de integración del ejercicio 2 y 3. ¿la tasa de convergencia mejora con las nuevas reglas?"
   ]
  },
  {
   "cell_type": "code",
   "execution_count": 95,
   "metadata": {},
   "outputs": [],
   "source": [
    "errores_f1_a = [abs(intAtrás(fun1,0,1,n)-1.462651746) for n in nn]\n",
    "errores_f1_c = [abs(intCentrada(fun1,0,1,n)-1.462651746) for n in nn]"
   ]
  },
  {
   "cell_type": "code",
   "execution_count": 97,
   "metadata": {
    "scrolled": true
   },
   "outputs": [
    {
     "data": {
      "image/png": "[encoded data removed]",
      "text/plain": [
       "<Figure size 800x400 with 1 Axes>"
      ]
     },
     "metadata": {},
     "output_type": "display_data"
    }
   ],
   "source": [
    "plt.figure(figsize=(8,4))\n",
    "plt.scatter(nn,errores_f1_a,label=\"Integral hacia atrás de $f(x)=e^{x^2}$\")\n",
    "plt.scatter(nn,errores_f1_c,label=\"Integral centrada de $f(x)=e^{x^2}$\")\n",
    "plt.title(\"Errores integral hacía adelante\")\n",
    "plt.legend()\n",
    "plt.xscale(\"log\")\n",
    "plt.yscale(\"log\")\n",
    "plt.xlabel(\"$n$\")\n",
    "plt.ylabel(\"$Error$\")\n",
    "plt.grid()\n",
    "plt.show()"
   ]
  },
  {
   "cell_type": "code",
   "execution_count": 98,
   "metadata": {},
   "outputs": [],
   "source": [
    "errores_f2_a = [abs(intAtrás(fun2,0,1,n)-1.462651746) for n in nn]\n",
    "errores_f2_c = [abs(intCentrada(fun2,0,1,n)-1.462651746) for n in nn]"
   ]
  },
  {
   "cell_type": "code",
   "execution_count": 100,
   "metadata": {},
   "outputs": [
    {
     "data": {
      "image/png": "[encoded data removed]",
      "text/plain": [
       "<Figure size 800x400 with 1 Axes>"
      ]
     },
     "metadata": {},
     "output_type": "display_data"
    }
   ],
   "source": [
    "plt.figure(figsize=(8,4))\n",
    "plt.scatter(nn,errores_f2_a,label=\"Integral hacia atrás de $f(x)=ln$\")\n",
    "plt.scatter(nn,errores_f2_c,label=\"Integral centrada de $f(x)=ln$\")\n",
    "plt.title(\"Errores integral hacía adelante\")\n",
    "plt.legend()\n",
    "plt.xscale(\"log\")\n",
    "plt.yscale(\"log\")\n",
    "plt.xlabel(\"$n$\")\n",
    "plt.ylabel(\"$Error$\")\n",
    "plt.grid()\n",
    "plt.show()"
   ]
  },
  {
   "cell_type": "markdown",
   "metadata": {},
   "source": [
    "_______\n",
    "## Aproximación más compleja: regla trapezoidal"
   ]
  },
  {
   "cell_type": "markdown",
   "metadata": {},
   "source": [
    "Notemos que todas las aproximaciones rectangulares de la integral, por su construcción a partir de sumas de Riemann, aproximaban a la función $f(x)$ en cada intervalo $[x_{i-1},x_{i}]$ como una función constante, es decir, un **polinomio de grado 0**. \n",
    "\n",
    "Una aproximación más compleja para la función en dicho intervalo sería aproximar a la función no como una constante si no como una recta (o un **polinomio de grado 1**) que pasa por los puntos $(x_{i-1},f(x_{i-1}))$ y $(x_{i},f(x_{i}))$. Así, el area de la integral se aproxima como la siguiente figura\n",
    "\n",
    "\n",
    "<div>\n",
    "<img src=\"https://mathlake.com/uploads/images/1c7959f2e222b606eeb6fa0508a2f4a2.svg\" width=\"500\"/>\n",
    "</div>"
   ]
  },
  {
   "cell_type": "markdown",
   "metadata": {},
   "source": [
    "______\n",
    "#### Ejercicio 5\n",
    "\n",
    "Deduce la fórmula para el valor de $\\int_{x_{i-1}}^{x_{i}} f(s) \\; ds$ cuando aproximamos la función como una recta. Es decir, da la fórmula para el área del trapecio en un intervalo $[x_{i-1},x_{i}]$ de la figura anterior. La fórmula solo debe depender de $x_{i-1},f(x_{i-1}), x_{i},f(x_{i})$"
   ]
  },
  {
   "cell_type": "code",
   "execution_count": 101,
   "metadata": {},
   "outputs": [],
   "source": [
    "#Poner fórmula del valor medo para integrales"
   ]
  },
  {
   "cell_type": "markdown",
   "metadata": {},
   "source": [
    "____\n",
    "### Planteamiento de la regla\n",
    "\n",
    "De lo obtenido del ejercicio anterior para crear una nueva regla de integración. Recordando que, dada una partición regular de orden $n$, se cumple que \n",
    "\n",
    "$$\n",
    "\\int_{a}^b f(s) \\; ds = \\sum_{i=1}^{n} \\int_{x_{i-1}}^{x_{i}} f(s) \\; ds\n",
    "$$\n",
    "\n",
    "Podemos entonces utilizar la fórmula de $\\int_{x_{i-1}}^{x_{i}} f(s) \\; ds$ que encontramos en el ejercicio anterior para calcular la integral en todo el intervalo $[a,b]$. A este método de cálculo de la integral se le llama la **regla trapezoidal**"
   ]
  },
  {
   "cell_type": "markdown",
   "metadata": {},
   "source": [
    "_______\n",
    "#### Ejercicio 6\n",
    "\n",
    "Escribe una función `intTrapezoidal(f,a,b,n)` que regresa el valor de la integral $\\int_{a}^b f(s) \\; ds$ calculado utilizando la regla trapezoidal. Es decir, que para cada integral $\\int_{x_{i-1}}^{x_{i}} f(s) \\; ds$ se calcula como el area de un trapecio."
   ]
  },
  {
   "cell_type": "markdown",
   "metadata": {},
   "source": [
    "_______\n",
    "#### Ejercicio 7\n",
    "\n",
    "Repite el ejercicio 1 utilizando ahora la regla de integración trapezoidal. ¿Mejora la tasa de convergencia?"
   ]
  },
  {
   "cell_type": "markdown",
   "metadata": {},
   "source": [
    "_______"
   ]
  },
  {
   "cell_type": "markdown",
   "metadata": {},
   "source": [
    "# Derivacion numérica"
   ]
  },
  {
   "cell_type": "markdown",
   "metadata": {},
   "source": [
    "Antes de comenzar con la derivación numérica, recordemos el teorema de Taylor\n",
    "\n",
    "### Teorema de Taylor\n",
    "\n",
    "Sea $f:\\mathbb{R} \\to \\mathbb{R}$ diferenciable $k$ veces en un punto $a$. Entonces :\n",
    "\n",
    "$$\n",
    "f(x) = f(a) + f'(a)(x-a)+ \\frac{f''(a)}{2!} (x-a)^2 + \\ldots + \\frac{f^{(k)}(a)}{k!}(x-a)^k + R_{k}(x)\n",
    "$$\n",
    "\n",
    "Y $R_{k}(x)$ cumple que\n",
    "\n",
    "$$\n",
    "\\lim_{x\\to a} \\frac{R_{k}(x)}{(x-a)^k} = 0 \\quad \\left( R_k(x) \\sim (x-a)^{k+1}\\right).\n",
    "$$\n",
    "\n",
    "En forma aproximada, se cumple que:\n",
    "$$\n",
    "f(x) \\approx f(a) + f'(a)(x-a)+ \\frac{f''(a)}{2!} (x-a)^2 + \\ldots + \\frac{f^{(k)}(a)}{k!}(x-a)^k.\n",
    "$$"
   ]
  },
  {
   "cell_type": "markdown",
   "metadata": {},
   "source": [
    "Modifiquemos un poco esta expresión. Sustituyendo $x-a = h \\implies x = a+h$, obtenemos\n",
    "\n",
    "$$\n",
    "f(a+h) = f(a) + f'(a)(h)+ \\frac{f''(a)}{2!} (h)^2 + \\ldots + \\frac{f^{(k)}(a)}{k!}(h)^k + R_{k}(a+h),\n",
    "$$\n",
    "\n",
    "donde $R_{k}(a+h)$ cumple que\n",
    "\n",
    "$$\n",
    "\\lim_{h\\to 0} \\frac{R_{k}(a+h)}{h^k} = 0 \\quad \\left( R_k(a+h) \\sim h^{k+1}\\right).\n",
    "$$"
   ]
  },
  {
   "cell_type": "markdown",
   "metadata": {},
   "source": [
    "### ¿Cómo aproximar la derivada?\n",
    "\n",
    "$$\n",
    "f'(a) = \\lim_{h\\to 0 } \\frac{f(a+h) - f(a)}{h}\n",
    "$$\n",
    "\n",
    "No podemos hacer limites en la computadora. ¿Qué hacemos? **Usar polinomios de taylor y despejar la derivada**:  **diferencias finitas**\n",
    "\n",
    "Mientras más pequeño sea el valor de $h$, mejor será nuestra aproximación.\n",
    "\n",
    "### Primera aproximación: diferencia hacia adelante (forward difference)\n",
    "\n",
    "Sea $h > 0$, $h << a$\n",
    "\n",
    "$$\n",
    "f(a+h) = f(a) + f'(a)h + R_{1}(a+h)\n",
    "$$\n",
    "\n",
    "Despejo la derivada:\n",
    "\n",
    "$$\n",
    "f'(a) = \\frac{f(a+h)-f(a)}{h} - \\frac{R_{1}(a+h)}{h} \\approx \\frac{f(a+h)-f(a)}{h}\n",
    "$$\n",
    "\n",
    "$$\n",
    "\\lim_{h \\to 0} \\frac{R_1(a+h)}{h} = 0\n",
    "$$"
   ]
  },
  {
   "cell_type": "code",
   "execution_count": null,
   "metadata": {},
   "outputs": [],
   "source": [
    "def diferenciaAdelante(f,a,h):\n",
    "    return (f(a+h) - f(a))/h"
   ]
  },
  {
   "cell_type": "markdown",
   "metadata": {},
   "source": [
    "#### Ejemplo:\n",
    "$f(x) = \\sin{x}$, $f'(x) = \\cos{x}$\n",
    "\n",
    "Sea $a = 0$. $f(a) = 0$, $f'(a) = 1$"
   ]
  },
  {
   "cell_type": "code",
   "execution_count": null,
   "metadata": {},
   "outputs": [],
   "source": [
    "diferenciaAdelante(np.sin,0,0.1)"
   ]
  },
  {
   "cell_type": "code",
   "execution_count": null,
   "metadata": {},
   "outputs": [],
   "source": [
    "diferenciaAdelante(np.sin,0,0.01)"
   ]
  },
  {
   "cell_type": "code",
   "execution_count": null,
   "metadata": {},
   "outputs": [],
   "source": [
    "xx = np.linspace(0,1,100)\n",
    "yy1 = [np.cos(a) for a in xx]\n",
    "yy2 = [diferenciaAdelante(np.sin,a,0.1) for a in xx]\n",
    "yy3 = [diferenciaAdelante(np.sin,a,0.05) for a in xx]\n",
    "fig = plt.figure(figsize=(8,4))\n",
    "plt.plot(xx,yy1,label = \"Derivada exacta\")\n",
    "plt.plot(xx,yy2,label=\"Diferencia hacia adelante con h= 0.1\")\n",
    "plt.plot(xx,yy3,label=\"Diferencia hacia adelante con h= 0.05\")\n",
    "plt.xlabel(\"$x$\",fontsize=15)\n",
    "plt.ylabel(\"$f\\'(x)$\",fontsize=15)\n",
    "plt.grid()\n",
    "plt.legend()\n",
    "plt.title(\"Diferencia hacia atras\")\n",
    "plt.show()"
   ]
  },
  {
   "cell_type": "markdown",
   "metadata": {},
   "source": [
    "## Otras aproximaciones\n",
    "\n",
    "### Diferencia hacia atrás (backwards difference)\n",
    "\n",
    "Sea $h > 0$, $h << a$\n",
    "\n",
    "$$\n",
    "f(a-h) = f(a) + f'(a)(-h) + R_{1}(a-h)\n",
    "$$\n",
    "\n",
    "Despejo la derivada:\n",
    "\n",
    "$$\n",
    "f'(a) = \\frac{f(a-h)-f(a)}{-h} - \\frac{R_{1}(a-h)}{-h} = \\frac{f(a)-f(a-h)}{h} + \\frac{R_{1}(a-h)}{h}\n",
    "$$\n",
    "\n",
    "$$\n",
    "f'(a) \\approx \\frac{f(a)-f(a-h)}{h} \n",
    "$$\n",
    "\n",
    "$$\n",
    "\\lim_{h \\to 0} \\frac{R_1(a-h)}{h} = 0\n",
    "$$"
   ]
  },
  {
   "cell_type": "markdown",
   "metadata": {},
   "source": [
    "_______\n",
    "#### Ejercicio 8\n",
    "\n",
    "i) Implementa una función que calcula la derivada de una función, pero ahora usando diferencia hacía atras.  \n",
    "ii) Prueba tu función para alguna función de tu elección Y haz una gráfica similar a la que hicimos en el ejemplo de derivada hacía adelante en la que compres un par de valores distintos de `h` y la derivada analítica."
   ]
  },
  {
   "cell_type": "code",
   "execution_count": null,
   "metadata": {},
   "outputs": [],
   "source": [
    "def diferenciaAtras(f,a,h):\n",
    "    return "
   ]
  },
  {
   "cell_type": "markdown",
   "metadata": {},
   "source": [
    "_____"
   ]
  },
  {
   "cell_type": "markdown",
   "metadata": {},
   "source": [
    "### Diferencia centrada (central difference)\n",
    "\n",
    "$$\n",
    "f(a+h) = f(a) + f'(a) h + \\frac{f''(a)}{2!} h^2 + R_2 (a+h)\n",
    "$$\n",
    "\n",
    "\n",
    "$$\n",
    "\\begin{split}\n",
    "f(a-h) &= f(a) + f'(a)(- h) + \\frac{f''(a)}{2!} (-h)^2 + R_2 (a-h) \\\\\n",
    "&= f(a) - f'(a)h + \\frac{f''(a)}{2!} h^2 + R_2 (a-h)\n",
    "\\end{split}\n",
    "$$\n",
    "\n",
    "Podemos restar ambas aproximaciones:\n",
    "\n",
    "$$\n",
    "\\begin{split}\n",
    "f(a+h) - f(a-h) &= (f(a) - f(a)) + (f'(a)h - (-f'(a) h)) + (\\frac{f''(a)}{2!} h^2 - \\frac{f''(a)}{2!} h^2) +  (R_2(a+h) - R_2(a-h)) \\\\\n",
    " &=  2 f'(a) h + (R_2(a+h) - R_2(a-h))\n",
    "\\end{split}\n",
    "$$\n",
    "\n",
    "Despejo la derivada:\n",
    "\n",
    "$$\n",
    "f'(a) = \\frac{f(a+h) - f(a-h)}{2h} - \\frac{R_2(a+h) - R_2(a-h)}{2h} \\approx \\frac{f(a+h) - f(a-h)}{2h}\n",
    "$$\n",
    "\n",
    "$$\n",
    "\\lim_{h \\to 0} \\frac{R_2(a+h) - R_2(a-h)}{2h} = 0\n",
    "$$"
   ]
  },
  {
   "cell_type": "markdown",
   "metadata": {},
   "source": [
    "#### Ejercicio 9\n",
    "\n",
    "i) Implementa una función que calcula la derivada de una función, pero ahora usando diferencia centrada.  \n",
    "ii) Prueba tu función para alguna función de tu elección Y haz una gráfica similar a la que hicimos en el ejemplo de derivada hacía adelante en la que compres un par de valores distintos de `h` y la derivada analítica."
   ]
  },
  {
   "cell_type": "code",
   "execution_count": null,
   "metadata": {},
   "outputs": [],
   "source": [
    "def diferenciaCentral(f,a,h):\n",
    "    return "
   ]
  },
  {
   "cell_type": "markdown",
   "metadata": {},
   "source": [
    "#### Ejercicio 10\n",
    "\n",
    "i) Usa cada los tres métodos que aprendimos para calcular la derivada numérica para calcular la derivada de \n",
    "\n",
    "$$f(x) = x^3 + 20\\sin(2x) - 5x$$\n",
    "\n",
    "en el intervalo $[-\\pi,\\pi]. Para ello haz una gráfica como las de los ejercicios anteriores. Usa el mismo valor de `h` para cada método. Además, escoge un número adecuado de puntos para que tu gráfica se vea bien.\n",
    "\n",
    "ii). Grafica el error para cada método en la misma figura."
   ]
  },
  {
   "cell_type": "code",
   "execution_count": null,
   "metadata": {},
   "outputs": [],
   "source": []
  }
 ],
 "metadata": {
  "kernelspec": {
   "display_name": "Python 3 (ipykernel)",
   "language": "python",
   "name": "python3"
  },
  "language_info": {
   "codemirror_mode": {
    "name": "ipython",
    "version": 3
   },
   "file_extension": ".py",
   "mimetype": "text/x-python",
   "name": "python",
   "nbconvert_exporter": "python",
   "pygments_lexer": "ipython3",
   "version": "3.10.4"
  }
 },
 "nbformat": 4,
 "nbformat_minor": 4
}

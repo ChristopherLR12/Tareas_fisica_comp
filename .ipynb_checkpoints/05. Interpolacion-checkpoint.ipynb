{
 "cells": [
  {
   "cell_type": "markdown",
   "metadata": {},
   "source": [
    "# Interpolación"
   ]
  },
  {
   "cell_type": "markdown",
   "metadata": {},
   "source": [
    "En el notebook 03, vimos cómo utilizar una discretización de una función continua para calcular numéricamente una derivada.\n",
    "\n",
    "Un problema muy común en el cómputo científico es el problema opuesto: obtener una función continua a partir de datos discretos de tal forma que la función sea valida para los puntos discretos, pero también aproxime los intervalos entre ellos. Una manera de hacer esto es la **interpolación**: \n",
    "\n",
    "> dados datos $(x_i, y_i)$ para $i=1,\\ldots,N$, queremos encontrar una función $f(x)$ que pasa exactamente por los puntos, es decir, tal que $f(x_i) = y_i$ para cada $i$.\n",
    "\n",
    "Podemos escoger distintas formas de interpolar, especificamente, las funciones que usamos para calcular los valores intermedios. En está primera parte usaremos **polinomios**."
   ]
  },
  {
   "cell_type": "markdown",
   "metadata": {},
   "source": [
    "#### Ejercicio 1\n",
    "\n",
    "El primer caso que tratar es el de dos puntos $(x_1, y_1)$ y $(x_2, y_2)$. Podemos interpolar dos puntos con una recta. Para encontrar cuál recta es, hacemos lo siguiente.\n",
    "\n",
    "(i) Define una función $L_1(x)$ que es lineal y tal que $L_1(x)$ tome el valor $0$ en $x = x_2$. Ahora haz que también tome el valor $1$ en $x = x_1$.\n",
    "\n",
    "(ii) Por simetría, encuentra la función $L_2(x)$ tal que $L_2(x_1) = 0$ y $L_2(x_2) = 1$.\n",
    "\n",
    "(iii) Utiliza $L_1$ y $L_2$ para encontrar un polinomio lineal (una recta) que interpola los datos.\n",
    "\n",
    "(iv) Impleméntalo y dibuja el resultado."
   ]
  },
  {
   "cell_type": "markdown",
   "metadata": {},
   "source": [
    "#### Ejercicio 2\n",
    "\n",
    "Ahora generalicemos esto a $N$ puntos:\n",
    "\n",
    "(i) Encuentra un polinomio $L_1(x)$, tal que $L(x)$ sea igual a $0$ para los puntos $x_i\\neq x_1$ ($x=x_2$, $x=x_3$, ..., $x=x_N$). Posteriormente normalízalo para que $L_1(x_1) = 1$.\n",
    "\n",
    "(ii) De manera similar, encuentra $L_i(x)$ que sea igual a $1$ en $x_i$, y que se anule en $x_j$ para $j \\neq i$. Esto \n",
    "\n",
    "(iii) Dibuja algunas $L_i$ para $N$ chiquitas. ¡Asegúrate de que sí se comporten correctamente!\n",
    "\n",
    "(iii) Utiliza las $L_i$ para interpolar los datos $(x_i, y_i)_{i=1}^N$ con un polinomio $p(x)$. ¿De qué orden es el polinomio resultante? Nota que $p$ es un polinomio *único* en el espacio de polinomios de grado menor o igual al de $p$."
   ]
  },
  {
   "cell_type": "markdown",
   "metadata": {},
   "source": [
    "#### Ejercicio 3\n",
    "\n",
    "(i) Escribe una función `interpolar` que acepta un vector de $N$ pares $(x_i, y_i)$, y regresa una función que las interpole. **_Hint_**: Puedes definir una función adentro de la función `interpolar`, y es esa función lo que `interpolar` debe regresar. Este inciso es básicamente poner en una función lo que hiciste en el ejercicio 2.\n",
    "\n",
    "(ii) Para probar nuestra función haremos lo siguiente: toma algun polinomio $g(x)$ de tu elección y genera $n+1$ puntos $(x_i,g(x_i)$, donde $n$ es el orden de $g(x)$. Espacía uniformemente las $x$s que usas para muestrar $g(x)$. Usa la función `interpolar` para obtener el polinomio resultante de interpolar tus puntos. Dibuja la función original y la función interpolada. Repite para un par de funciones $g(x)$.\n",
    "\n",
    "(iii) Repite el inciso anterior pero ahora para funciones $g(x)$ que *no sean* polinomiales. ¿Qué observas?"
   ]
  },
  {
   "cell_type": "markdown",
   "metadata": {},
   "source": [
    "#### Ejercicio 4\n",
    "\n",
    "Considera la función de Runge, $f(x) = \\frac{1}{1+25x^2}$, en la región $x \\in [-1, 1]$. Interpólala con tu función `interpolar` para diferentes números de puntos $n$. Grafica en la misma figura lo obtenido para varios valores de $n$ ¿Qué observas?"
   ]
  },
  {
   "cell_type": "markdown",
   "metadata": {},
   "source": [
    "Le que observaste en el ejercicio 4 se llama el **fenómeno de Runge**. Demuestra que en general es una mala idea interpolar en puntos espaciados uniformemente. Sin embargo, resulta que el problema no es la interpolación en sí, sino la elección de puntos donde interpolar."
   ]
  },
  {
   "cell_type": "markdown",
   "metadata": {},
   "source": [
    "## Interpolación en puntos espaciados no-uniformemente"
   ]
  },
  {
   "cell_type": "markdown",
   "metadata": {},
   "source": [
    "Resulta que la solución es tomar puntos en el intervalo $[-1,1]$, espaciados tales que se amontonen cerca de los puntos extremos del intervalo. [La razón por esto se puede entender con la teoría de potenciales (\"potential theory\"); ver e.g. Trefethen, *Approximation Theory and Approximation Practice*.] \n",
    "\n",
    "Lo más común es utilizar los **puntos de Chebyshev** con parámetro $n$, definidos como \n",
    "\n",
    "$$x_j := \\cos \\left( \\frac{j \\pi}{n} \\right) \\quad \\text{con } 0 \\le j \\le n.$$"
   ]
  },
  {
   "cell_type": "markdown",
   "metadata": {},
   "source": [
    "#### Ejercicio 5\n",
    "\n",
    "(i) Escribe una función que calcula los puntos de Chebyshev para un valor de $n$ dado.\n",
    "\n",
    "(ii) Escribe una función que interpola una función dada en los puntos de Chebyshev. Grafica los resultados.\n",
    "\n",
    "(iii) Interpola la función de Runge con puntos de Chebyshev. ¿Qué observas?"
   ]
  },
  {
   "cell_type": "markdown",
   "metadata": {},
   "source": [
    "#### Ejercicio 6\n",
    "\n",
    "(i) Sea $f_6(x) = e^{-5x}$. Calcula numéricamente el error al utilizar la interpolación de Chebyshev $p$ con respecto a la función original $f_5$, dado por la norma\n",
    "\n",
    "$$\\|f_5 - p\\|_{\\infty} := \\max |f_5(x) - p(x)|,$$\n",
    "\n",
    "para distintos números de puntos de Chebyshev. ¿Cómo es la convergencia conforme se aumenta el número de puntos?\n",
    "\n",
    "(ii) Repite para alguna función polinomial de tu elección. Qué observas cuando el número de puntos que usas es mayor al orden del polínomio? **_Hint_**: [teorema de interpolación de Lagrange](https://en.wikipedia.org/wiki/Lagrange_polynomial)"
   ]
  },
  {
   "cell_type": "markdown",
   "metadata": {},
   "source": [
    "## Más allá"
   ]
  },
  {
   "cell_type": "markdown",
   "metadata": {},
   "source": [
    "Lo que hemos logrado es reemplazar (aproximar) una función continua $f$ por un conjunto discreto de sus valores $f(x_i)$ en la **malla** $(x_i)_{i=1}^N$."
   ]
  },
  {
   "cell_type": "markdown",
   "metadata": {},
   "source": [
    "Resulta que es más útil **cambiar de base** en el espacio de polinomios, y utilizar los **polinomios de Chebyshev**. \n",
    "\n",
    "La idea es escribir el polinomio interpolante como una suma de polinomios de Chebyshev y examinar los coeficientes de estos polinomios, que tienen propiedades muy útiles. Esto lo podran trabajar lueo de ver álgebra lineal numérica.  Podría formar un **proyecto final** interesante.\n",
    "\n",
    "Otra cosa interesante es la interpolación multivariable, que se encarga de interpolar funciones $f: \\mathbb{R}^n\\rightarrow\\mathbb{R}$. Explorar alguno de estos métodos y alguna aplicación a la física podría ser también un **proyecto final**."
   ]
  },
  {
   "cell_type": "code",
   "execution_count": null,
   "metadata": {},
   "outputs": [],
   "source": []
  }
 ],
 "metadata": {
  "anaconda-cloud": {},
  "hide_input": false,
  "kernelspec": {
   "display_name": "Python 3 (ipykernel)",
   "language": "python",
   "name": "python3"
  },
  "language_info": {
   "codemirror_mode": {
    "name": "ipython",
    "version": 3
   },
   "file_extension": ".py",
   "mimetype": "text/x-python",
   "name": "python",
   "nbconvert_exporter": "python",
   "pygments_lexer": "ipython3",
   "version": "3.10.4"
  },
  "widgets": {
   "state": {
    "4fcce2f6-03c9-4093-9560-2f1a107f23d0": {
     "views": [
      {
       "cell_index": 22
      }
     ]
    },
    "55aeb0b8-99e6-49b3-ba55-a5b92bbe5afc": {
     "views": [
      {
       "cell_index": 16
      }
     ]
    }
   },
   "version": "1.2.0"
  }
 },
 "nbformat": 4,
 "nbformat_minor": 2
}

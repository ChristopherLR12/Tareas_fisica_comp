{
 "cells": [
  {
   "cell_type": "markdown",
   "metadata": {},
   "source": [
    "# El notebook de jupyter"
   ]
  },
  {
   "cell_type": "markdown",
   "metadata": {},
   "source": [
    "El notebook es una manera interactiva de correr `python`. En él tenemos una combinación de celdas de código y celdas de texto (celdas _Markdown_)."
   ]
  },
  {
   "cell_type": "code",
   "execution_count": 1,
   "metadata": {},
   "outputs": [
    {
     "data": {
      "text/plain": [
       "4"
      ]
     },
     "execution_count": 1,
     "metadata": {},
     "output_type": "execute_result"
    }
   ],
   "source": [
    "#Ésta es una celda de código. Para añadir comentarios en una celda de código es necesario teclear #\n",
    "#Luego de un numeral, el comentario continua hasta la siguiente línea\n",
    "2+2 # <-- una suma sencilla\n",
    "#Para correr una celda de código tienen dos opciones. La primera: usar el botón de \"Run\" que está en el menú de aquí arriba,\n",
    "#la segunda: Teclear al mismo tiempo \"Shift\"+\"Enter\""
   ]
  },
  {
   "cell_type": "markdown",
   "metadata": {},
   "source": [
    "Notarán lo engorroso que puede llegar a ser leer la última celda. Ese es un ejemplo de como hay demasiados comentarios en una celda. Si quieren explicar algo, ya sea de la parte teórica de su tarea o el código con el que resolvieron algo, mejor usen una (o varias) celdas _Markdown_."
   ]
  },
  {
   "cell_type": "markdown",
   "metadata": {},
   "source": [
    "Encontraran utiles los siguientes \"atajos\" del teclado. Para cada uno de ellos, existe la misma acción en algún lugar de los mnús de aquí arriba. Incluso pueden consultar una lista de los atajos que existen y modificarlos. Para ello, hay que ir al menú _Help_.\n",
    "\n",
    "- \"Esc\"/\"Enter\": Salir y entrar de modo edición de una celda\n",
    "\n",
    "En modo comando:\n",
    "- \"Y\": Convierte la celda a una celda de código\n",
    "- \"M\": Convierte la celda a una celda _Markdown_\n",
    "- \"d\"+\"d\": Borra celda seleccionada\n",
    "- \"a\": Abre una nueva celda arriba\n",
    "- \"b\": Abre una nueva celda abajo\n",
    "- \"z\": Recupera la última celda borrada\n",
    "\n",
    "En modo edición:\n",
    "- La mayoria de los atajos que ya conocen para editores de texto (copiar, pegar, cortar, etc)\n",
    "- \"Ctrl\"/\"Cmnd\"+\"/\": Comentar lineas seleccionadas\n"
   ]
  },
  {
   "cell_type": "markdown",
   "metadata": {},
   "source": [
    "Pueden dar formato a sus celdas _Markdown_. Por ejemplo, Agregar \"#\" al inicio de una linea en una celda _Markdown_ hará que esa línea sea un _heading_ (título?), y si agregas más \"#\", será un _heading_ de distinto tamaño:\n",
    "\n",
    "# _Heading_ nivel 1\n",
    "\n",
    "## _Heading_ nivel 2\n",
    "\n",
    "### nivel 3\n",
    "\n",
    "#### nivel 4\n",
    "\n",
    "##### nivel 5\n",
    "\n",
    "###### nivel 6 <br />\n",
    "\n",
    "Para producir texto en negritas, italicas o con formato de código, lo logran con\n",
    "\\*\\*en negritas\\*\\*, \\_\\_en negritas\\_\\_, \\*en italicas\\*, \\_en italicas\\_, \\`codigo\\`:\n",
    "\n",
    "**en negritas**, __en negritas__, *en italicas*, _en italicas_, `codigo`.\n",
    "\n",
    "Para una guia mucho más extensa y detallada sobre _Markdown_ pueden consultar [esta liga](https://daringfireball.net/projects/markdown/syntax)\n",
    "\n",
    "![Imagen](https://media1.giphy.com/media/MT5UUV1d4CXE2A37Dg/200w.gif?cid=82a1493bmjvkbtndi648visc4cu5iuvdfuvxpujuqmbj50u0&rid=200w.gif&ct=g)"
   ]
  },
  {
   "cell_type": "markdown",
   "metadata": {},
   "source": [
    "______________________________________"
   ]
  },
  {
   "cell_type": "markdown",
   "metadata": {},
   "source": [
    "# Sintaxis básica de Python\n"
   ]
  },
  {
   "cell_type": "markdown",
   "metadata": {},
   "source": [
    "Bueno, regresando al código. Ahora vamos a resolver algunos ejercicios sencillo para recordar un poco de sintaxis de **`python`**. Los temas que cubriremos y que se volverán cada vez más familiares conforme avance el curso son:\n",
    "\n",
    "- La función `print`\n",
    "- `strings`\n",
    "- Números y operaciones aritméticas\n",
    "- Asignación de variables\n",
    "- Listas, conjuntos y tuplas\n",
    "- Funciones"
   ]
  },
  {
   "cell_type": "markdown",
   "metadata": {},
   "source": [
    "## La función print"
   ]
  },
  {
   "cell_type": "markdown",
   "metadata": {},
   "source": [
    "Para imprimir cierto mensaje en la salida de Python (ya sea en el notebook, el interprete, la terminal o un IDE) usamos la función `print`. Cómo ya les había mencionado antes, `print` comenzó a ser una función desde `python3` y por ello es necesario pasar lo que queremos imprimir como argumentos de la siguiente manera:  \n",
    "```\n",
    "print(<Lo que queramos imprimir>)\n",
    "```\n",
    "\n",
    "Por ejemplo:"
   ]
  },
  {
   "cell_type": "code",
   "execution_count": 1,
   "metadata": {
    "scrolled": true
   },
   "outputs": [
    {
     "name": "stdout",
     "output_type": "stream",
     "text": [
      "Saludo cliché a la Tierra\n"
     ]
    }
   ],
   "source": [
    "print(\"Saludo cliché a la Tierra\")"
   ]
  },
  {
   "cell_type": "markdown",
   "metadata": {},
   "source": [
    "o este otro ejemplo:"
   ]
  },
  {
   "cell_type": "code",
   "execution_count": 2,
   "metadata": {},
   "outputs": [
    {
     "name": "stdout",
     "output_type": "stream",
     "text": [
      "4 texto 2.0\n"
     ]
    }
   ],
   "source": [
    "print(4,\"texto\",2.0)"
   ]
  },
  {
   "cell_type": "markdown",
   "metadata": {},
   "source": [
    "Si estamos trabajando en el notebook, incluso cuando no usemos la función `print`, Python \"escupira\" lo último que haya leido en un bloque de código. Como en la siguiente celda:"
   ]
  },
  {
   "cell_type": "code",
   "execution_count": 3,
   "metadata": {
    "scrolled": true
   },
   "outputs": [
    {
     "name": "stdout",
     "output_type": "stream",
     "text": [
      "Aquí había texto antes\n"
     ]
    },
    {
     "data": {
      "text/plain": [
       "'Otro saludo cliché'"
      ]
     },
     "execution_count": 3,
     "metadata": {},
     "output_type": "execute_result"
    }
   ],
   "source": [
    "print(\"Aquí había texto antes\")\n",
    "\"Otro saludo cliché\""
   ]
  },
  {
   "cell_type": "markdown",
   "metadata": {},
   "source": [
    "## strings"
   ]
  },
  {
   "cell_type": "markdown",
   "metadata": {},
   "source": [
    "Los `strings` o cadenas de texto son un tipo de objeto en python que, con un nombre autodescriptivo, consisten en texto. La syntaxis con la que se escribe un string es usando comillas (\"\") encerrando el texto, de esta forma:\n",
    "```\n",
    "\"<El texto del `string`>\"\n",
    "```\n",
    "\n",
    "`\"Saludo cliché a la Tierra\"` es un ejemplo de un string.\n",
    "\n",
    "A un `string` se le pueden remplazar subcadenas de texto, buscar ciertas subcadenas, indexar sus elementos, entre oras varias cosas que iremos viendo. Aunque la manipulación de `strings` no es como tal algo que nos competa al hacer computo cientifico más que en ciertos casos específicos, las ideas detras de ello suelen ser útiles."
   ]
  },
  {
   "cell_type": "code",
   "execution_count": 2,
   "metadata": {},
   "outputs": [
    {
     "data": {
      "text/plain": [
       "'ä'"
      ]
     },
     "execution_count": 2,
     "metadata": {},
     "output_type": "execute_result"
    }
   ],
   "source": [
    "\"ä\""
   ]
  },
  {
   "cell_type": "markdown",
   "metadata": {},
   "source": [
    "## Números y operaciones aritméticas"
   ]
  },
  {
   "cell_type": "markdown",
   "metadata": {},
   "source": [
    "En `python` podemos realizar operaciones aritméticas como lo son la suma, el producto, la exponenciación y sus respectivas funciones inversas. Esto además puede ser realizado a enteros y reales. En el contexto de la programación se le llaman flotantes a los reales. Esto tiene que ver con la manera en la que números con una parte no entera es representada por la computadora."
   ]
  },
  {
   "cell_type": "markdown",
   "metadata": {},
   "source": [
    "La manera en la que son realizadas las sumas, restas, multiplicaciones y divisiones es mediante los simbolos `+`, `-`, `*` y `/` respectivamente. La jerarquia de las operaciones que sigue Python es la que convencionalmente se usa en la programación cientifica que involucra el uso de parentesis para aclarar qué terminos involucra cada operador."
   ]
  },
  {
   "cell_type": "markdown",
   "metadata": {},
   "source": [
    "Esto funciona de la siguiente manera, dado alguno de los operadores, por ejemplo `+`, lo que `python` entiende que debe hacer es sumar lo que esta inmediatamente a la izquierda con lo que está inmediatamente a la derecha hasta el siguiente operador y en caso de encontrar un parentesis, toma el resultado de todas las operaciones realizadas dentro del parentesis. Esto además de seguir la jerarquia de operaciones que les enseñan desde la primaría (que curiosamente no es más que una convensión)."
   ]
  },
  {
   "cell_type": "markdown",
   "metadata": {},
   "source": [
    "Para llevar a cabo la exponenciación, ya sea de un entero o un racional, la sintaxis que se usa es:\n",
    "\n",
    "```\n",
    "<base>**<potencia>\n",
    "```\n",
    "\n",
    "o también la función `pow`:\n",
    "\n",
    "```\n",
    "pow(base,potencia)\n",
    "```\n",
    "\n",
    "\n",
    "Ejemplos:"
   ]
  },
  {
   "cell_type": "code",
   "execution_count": 5,
   "metadata": {},
   "outputs": [
    {
     "data": {
      "text/plain": [
       "(5, 5.0, -22.0, 2048, 10.0)"
      ]
     },
     "execution_count": 5,
     "metadata": {},
     "output_type": "execute_result"
    }
   ],
   "source": [
    "2+3, 10/2, 3-10/2*5, 2**11, pow(100,.5)"
   ]
  },
  {
   "cell_type": "markdown",
   "metadata": {},
   "source": [
    "Notemos la diferencia entre el primer y el segundo número que nos regresó la celda anterior. Podemos usar la función `type` para ver qué es diferente entre ellos:"
   ]
  },
  {
   "cell_type": "code",
   "execution_count": 4,
   "metadata": {},
   "outputs": [
    {
     "data": {
      "text/plain": [
       "(int, float)"
      ]
     },
     "execution_count": 4,
     "metadata": {},
     "output_type": "execute_result"
    }
   ],
   "source": [
    "type(2+3), type(10/2)"
   ]
  },
  {
   "cell_type": "markdown",
   "metadata": {},
   "source": [
    "Esto ocurre porque el resultado en `python3` de una división es siempre un flotante. Un par de operadores adicionales que pueden llegar a ser de utilidad son \n",
    "- `//` que regresa la parte entera de una división\n",
    "- `%` que regresa la congruencia de un primer número modulo el segundo. Esto es, el residuo de llevar a cabo la divisíon."
   ]
  },
  {
   "cell_type": "code",
   "execution_count": 5,
   "metadata": {},
   "outputs": [
    {
     "data": {
      "text/plain": [
       "2"
      ]
     },
     "execution_count": 5,
     "metadata": {},
     "output_type": "execute_result"
    }
   ],
   "source": [
    "10//5"
   ]
  },
  {
   "cell_type": "code",
   "execution_count": 6,
   "metadata": {},
   "outputs": [
    {
     "data": {
      "text/plain": [
       "2"
      ]
     },
     "execution_count": 6,
     "metadata": {},
     "output_type": "execute_result"
    }
   ],
   "source": [
    "17%3"
   ]
  },
  {
   "cell_type": "markdown",
   "metadata": {},
   "source": [
    "Esto es un párrafo donde escribí $\\alpha$ dentro de la línea-\n",
    "\n",
    "$$\\alpha=\\frac{1}{2}$$\n",
    "\n",
    "\\begin{equation}\n",
    "\\alpha=\\frac{1}{2}\n",
    "\\end{equation}\n",
    "\n",
    "En matemáticas la congruencia se escribe así:\n",
    "$$a\\equiv b \\,(\\mathrm{mod}\\, c) \\Leftrightarrow a = c\\times n+b,\\, n\\in \\mathcal{Z} ,$$\n",
    "    \n",
    "y se lee \"a es congruente con b, modulo c\" o \"la congruencia de a modulo c es b\""
   ]
  },
  {
   "cell_type": "markdown",
   "metadata": {},
   "source": [
    "## Asignación de variables"
   ]
  },
  {
   "cell_type": "markdown",
   "metadata": {},
   "source": [
    "Hasta ahora, todo lo que hemos corrido no ha sido más que leido, interpretado e impreso por `python`. ¿Qué pasa si quiero usar alguno de esos valores? Para ello es necesario definir **variables** que son la manera en la que `python` guarda los datos en su memoria, asignandoles un nombre (_**identifier**_) que luego puede ser llamado en alguna otra parte del código. La sintaxis para crear y asignar una variable es muy sencilla:\n",
    "\n",
    "```\n",
    "<nombre de la variable> = <Lo que sea que va a guardar>\n",
    "```\n",
    "\n",
    "Por ejmplo:"
   ]
  },
  {
   "cell_type": "code",
   "execution_count": 7,
   "metadata": {},
   "outputs": [],
   "source": [
    "x = 2"
   ]
  },
  {
   "cell_type": "code",
   "execution_count": 8,
   "metadata": {},
   "outputs": [
    {
     "name": "stdout",
     "output_type": "stream",
     "text": [
      "11\n"
     ]
    }
   ],
   "source": [
    "print(x+9)"
   ]
  },
  {
   "cell_type": "code",
   "execution_count": 10,
   "metadata": {},
   "outputs": [
    {
     "name": "stdout",
     "output_type": "stream",
     "text": [
      "4\n"
     ]
    }
   ],
   "source": [
    "print(z)"
   ]
  },
  {
   "cell_type": "code",
   "execution_count": 9,
   "metadata": {},
   "outputs": [],
   "source": [
    "z = x*x"
   ]
  },
  {
   "cell_type": "code",
   "execution_count": 11,
   "metadata": {},
   "outputs": [
    {
     "name": "stdout",
     "output_type": "stream",
     "text": [
      "4\n"
     ]
    }
   ],
   "source": [
    "print(z)"
   ]
  },
  {
   "cell_type": "code",
   "execution_count": 12,
   "metadata": {},
   "outputs": [],
   "source": [
    "z = \"ahora soy texto\""
   ]
  },
  {
   "cell_type": "code",
   "execution_count": 13,
   "metadata": {},
   "outputs": [
    {
     "name": "stdout",
     "output_type": "stream",
     "text": [
      "ahora soy texto\n"
     ]
    }
   ],
   "source": [
    "print(z)"
   ]
  },
  {
   "cell_type": "markdown",
   "metadata": {},
   "source": [
    "Ojo: ¿Por qué aquí, `python` no \"escupe\" nada en las celdas en las que se definieron `x` y `z`?"
   ]
  },
  {
   "cell_type": "markdown",
   "metadata": {},
   "source": [
    "Existen ciertas palabras que no podemos usar como un _identifier_ para nuestras variables (o funciones, clases, modulos) pues están reservadas por `python`. Un ejemplo es `True`. A estas palabras se les llama _keywords_. Aquí hay una lista de algunas de ellas:\n",
    "```\n",
    "False      class      finally    is         return\n",
    "None       continue   for        lambda     try\n",
    "True       def        from       nonlocal   while\n",
    "and        del        global     not        with\n",
    "as         elif       if         or         yield\n",
    "assert     else       import     pass\n",
    "break      except     in         raise\n",
    "```"
   ]
  },
  {
   "cell_type": "code",
   "execution_count": 14,
   "metadata": {},
   "outputs": [
    {
     "ename": "SyntaxError",
     "evalue": "cannot assign to True (210365840.py, line 1)",
     "output_type": "error",
     "traceback": [
      "\u001b[1;36m  Input \u001b[1;32mIn [14]\u001b[1;36m\u001b[0m\n\u001b[1;33m    True = 2\u001b[0m\n\u001b[1;37m    ^\u001b[0m\n\u001b[1;31mSyntaxError\u001b[0m\u001b[1;31m:\u001b[0m cannot assign to True\n"
     ]
    }
   ],
   "source": [
    "True = 2"
   ]
  },
  {
   "cell_type": "markdown",
   "metadata": {},
   "source": [
    "## Listas, conjuntos y tuplas"
   ]
  },
  {
   "cell_type": "markdown",
   "metadata": {},
   "source": [
    "Otro tipo de objeto que usaremos de manera regular en el curso son las listas (_lists_), conjuntos (_sets_) y las tuplas (_tuples_). Ambos pueden pensarse como arreglos que contienen elementos. Ahora abordaremos los _caveats_ de cada uno. La sintaxis para declaralas son las siguientes:\n",
    "\n",
    "```\n",
    "<nombre de la tupla> = (<e1>,<e2>,<e3>)\n",
    "<nombre de la lista> = [<e1>,<e2>,<e3>]\n",
    "<nombre del conjunto> = {<e1>,<e2>,<e3>}\n",
    "```\n",
    "\n",
    "donde en cada caso estamos definiendo algo que contiene tres elementos, `<e1>` ,`<e2>` y `<e3>`.\n",
    "\n",
    "Por ejmplo:"
   ]
  },
  {
   "cell_type": "code",
   "execution_count": 15,
   "metadata": {},
   "outputs": [],
   "source": [
    "tupla1 = (1,2.,\"a\")\n",
    "lista1 = [1,2.,\"a\"]\n",
    "conj1 = {1,2.,\"a\"}"
   ]
  },
  {
   "cell_type": "code",
   "execution_count": 16,
   "metadata": {},
   "outputs": [],
   "source": [
    "lista1[1] = 100"
   ]
  },
  {
   "cell_type": "code",
   "execution_count": 17,
   "metadata": {},
   "outputs": [
    {
     "data": {
      "text/plain": [
       "[1, 100, 'a']"
      ]
     },
     "execution_count": 17,
     "metadata": {},
     "output_type": "execute_result"
    }
   ],
   "source": [
    "lista1"
   ]
  },
  {
   "cell_type": "code",
   "execution_count": 18,
   "metadata": {},
   "outputs": [
    {
     "ename": "TypeError",
     "evalue": "'tuple' object does not support item assignment",
     "output_type": "error",
     "traceback": [
      "\u001b[1;31m---------------------------------------------------------------------------\u001b[0m",
      "\u001b[1;31mTypeError\u001b[0m                                 Traceback (most recent call last)",
      "Input \u001b[1;32mIn [18]\u001b[0m, in \u001b[0;36m<module>\u001b[1;34m\u001b[0m\n\u001b[1;32m----> 1\u001b[0m tupla1[\u001b[38;5;241m1\u001b[39m] \u001b[38;5;241m=\u001b[39m \u001b[38;5;241m100\u001b[39m\n",
      "\u001b[1;31mTypeError\u001b[0m: 'tuple' object does not support item assignment"
     ]
    }
   ],
   "source": [
    "tupla1[1] = 100"
   ]
  },
  {
   "cell_type": "code",
   "execution_count": 19,
   "metadata": {},
   "outputs": [],
   "source": [
    "lista2 = lista1+lista1+[\"Crhis\",(1,2)]"
   ]
  },
  {
   "cell_type": "code",
   "execution_count": 36,
   "metadata": {},
   "outputs": [
    {
     "name": "stdout",
     "output_type": "stream",
     "text": [
      "lista2: [1, 100, 'a', 1, 100, 'a', 'Crhis', (1, 2)]\n",
      "elemento -1 de lista2: (1, 2)\n",
      "elemento 0 del elemento -1 de la lista2: 1\n"
     ]
    }
   ],
   "source": [
    "print(\"lista2:\", lista2)\n",
    "print(\"elemento -1 de lista2:\",lista2[-1])\n",
    "print(\"elemento 0 del elemento -1 de la lista2:\",lista2[-1][0])"
   ]
  },
  {
   "cell_type": "code",
   "execution_count": 38,
   "metadata": {},
   "outputs": [],
   "source": [
    "tupla2 = tupla1+tupla1+(1000,(20,30,40))"
   ]
  },
  {
   "cell_type": "code",
   "execution_count": 39,
   "metadata": {},
   "outputs": [
    {
     "name": "stdout",
     "output_type": "stream",
     "text": [
      "tupla2: (1, 2.0, 'a', 1, 2.0, 'a', 1000, (20, 30, 40))\n",
      "elemento -1 de tupla2: 1000\n",
      "elemento 0 del elemento -1 de la tupla2: 20\n"
     ]
    }
   ],
   "source": [
    "print(\"tupla2:\", tupla2)\n",
    "print(\"elemento -1 de tupla2:\",tupla2[-2])\n",
    "print(\"elemento 0 del elemento -1 de la tupla2:\",tupla2[-1][0])"
   ]
  },
  {
   "cell_type": "code",
   "execution_count": 31,
   "metadata": {},
   "outputs": [
    {
     "ename": "TypeError",
     "evalue": "can only concatenate list (not \"tuple\") to list",
     "output_type": "error",
     "traceback": [
      "\u001b[0;31m---------------------------------------------------------------------------\u001b[0m",
      "\u001b[0;31mTypeError\u001b[0m                                 Traceback (most recent call last)",
      "Input \u001b[0;32mIn [31]\u001b[0m, in \u001b[0;36m<cell line: 1>\u001b[0;34m()\u001b[0m\n\u001b[0;32m----> 1\u001b[0m \u001b[43mlista1\u001b[49m\u001b[38;5;241;43m+\u001b[39;49m\u001b[43mtupla1\u001b[49m\n",
      "\u001b[0;31mTypeError\u001b[0m: can only concatenate list (not \"tuple\") to list"
     ]
    }
   ],
   "source": [
    "lista1+tupla1"
   ]
  },
  {
   "cell_type": "code",
   "execution_count": 40,
   "metadata": {},
   "outputs": [],
   "source": [
    "conj1 = {1,2.,\"a\",2,\"b\",1,1,2}\n",
    "conj2 = {1,2,3,4,5}\n",
    "conj3 = {\"a\",\"b\"}"
   ]
  },
  {
   "cell_type": "code",
   "execution_count": 46,
   "metadata": {},
   "outputs": [
    {
     "data": {
      "text/plain": [
       "False"
      ]
     },
     "execution_count": 46,
     "metadata": {},
     "output_type": "execute_result"
    }
   ],
   "source": [
    "conj1.issubset(conj3)"
   ]
  },
  {
   "cell_type": "code",
   "execution_count": 47,
   "metadata": {},
   "outputs": [
    {
     "data": {
      "text/plain": [
       "True"
      ]
     },
     "execution_count": 47,
     "metadata": {},
     "output_type": "execute_result"
    }
   ],
   "source": [
    "conj1.issubset(conj2.union(conj3))"
   ]
  },
  {
   "cell_type": "code",
   "execution_count": 49,
   "metadata": {},
   "outputs": [
    {
     "data": {
      "text/plain": [
       "{1, 2.0, 3, 4, 5, 'a', 'b'}"
      ]
     },
     "execution_count": 49,
     "metadata": {},
     "output_type": "execute_result"
    }
   ],
   "source": [
    "conj1.union(conj2)"
   ]
  },
  {
   "cell_type": "code",
   "execution_count": 50,
   "metadata": {},
   "outputs": [],
   "source": [
    "lista4 = [1,2,3,4,5]"
   ]
  },
  {
   "cell_type": "code",
   "execution_count": 53,
   "metadata": {},
   "outputs": [],
   "source": [
    "lista5 = [i**2 for i in lista4]\n",
    "#List comprension"
   ]
  },
  {
   "cell_type": "code",
   "execution_count": 52,
   "metadata": {},
   "outputs": [
    {
     "data": {
      "text/plain": [
       "[1, 4, 9, 16, 25]"
      ]
     },
     "execution_count": 52,
     "metadata": {},
     "output_type": "execute_result"
    }
   ],
   "source": [
    "lista5"
   ]
  },
  {
   "cell_type": "markdown",
   "metadata": {},
   "source": [
    "$$\\{i² | i \\in lista4\\}$$\n",
    "\n",
    "La sintáxis para crear una lista por \"comprensión de arreglo\" (_array comprehension_) es\n",
    "<nombre de la lista> = [<expresión dependiente del elemento tal> for <elemento tal> in <arreglo con los elementos deseados>]"
   ]
  },
  {
   "cell_type": "markdown",
   "metadata": {},
   "source": [
    "## Funciones"
   ]
  },
  {
   "cell_type": "code",
   "execution_count": 54,
   "metadata": {},
   "outputs": [
    {
     "data": {
      "text/plain": [
       "8"
      ]
     },
     "execution_count": 54,
     "metadata": {},
     "output_type": "execute_result"
    }
   ],
   "source": [
    "len(tupla2)"
   ]
  },
  {
   "cell_type": "code",
   "execution_count": 55,
   "metadata": {},
   "outputs": [
    {
     "data": {
      "text/plain": [
       "range(2, 8)"
      ]
     },
     "execution_count": 55,
     "metadata": {},
     "output_type": "execute_result"
    }
   ],
   "source": [
    "range(2,8)"
   ]
  },
  {
   "cell_type": "markdown",
   "metadata": {},
   "source": [
    "$$[2,5) \\subset \\mathbb{N}$$"
   ]
  },
  {
   "cell_type": "code",
   "execution_count": 56,
   "metadata": {},
   "outputs": [],
   "source": [
    "lista6 = [i for i in range(2,100)]"
   ]
  },
  {
   "cell_type": "code",
   "execution_count": 57,
   "metadata": {},
   "outputs": [
    {
     "name": "stdout",
     "output_type": "stream",
     "text": [
      "[2, 3, 4, 5, 6, 7, 8, 9, 10, 11, 12, 13, 14, 15, 16, 17, 18, 19, 20, 21, 22, 23, 24, 25, 26, 27, 28, 29, 30, 31, 32, 33, 34, 35, 36, 37, 38, 39, 40, 41, 42, 43, 44, 45, 46, 47, 48, 49, 50, 51, 52, 53, 54, 55, 56, 57, 58, 59, 60, 61, 62, 63, 64, 65, 66, 67, 68, 69, 70, 71, 72, 73, 74, 75, 76, 77, 78, 79, 80, 81, 82, 83, 84, 85, 86, 87, 88, 89, 90, 91, 92, 93, 94, 95, 96, 97, 98, 99]\n"
     ]
    }
   ],
   "source": [
    "print(lista6)"
   ]
  },
  {
   "cell_type": "markdown",
   "metadata": {},
   "source": [
    "Sintaxis para definir funciones:\n",
    "    \n",
    "```\n",
    "def <nombre de la función>(<par1>,<par2>,<etc>,<keyword1>=<valor default1>,...):\n",
    "    <Lo que sea que quiero que haga mi función>\n",
    "    <Algún otro lo que sea>\n",
    "    return <lo que sea que quiero que regrese mi función>\n",
    "```"
   ]
  },
  {
   "cell_type": "markdown",
   "metadata": {},
   "source": [
    "#### Ejercicio 0\n",
    "\n",
    "Hacer una función `sumavec` que sume uno a uno los elementos de dos listas. Los parámetros de la función serán las dos listas que hay que sumar."
   ]
  },
  {
   "cell_type": "code",
   "execution_count": 1,
   "metadata": {},
   "outputs": [
    {
     "data": {
      "text/plain": [
       "[4, 6, 5]"
      ]
     },
     "execution_count": 1,
     "metadata": {},
     "output_type": "execute_result"
    }
   ],
   "source": [
    "def sumavec(v1,v2):\n",
    "    n=len(v1)\n",
    "    resultado=[v1[i]+v2[i] for i in range(0,n)]\n",
    "    return resultado\n",
    "\n",
    "listA=[1,2,4]\n",
    "listB=[3,4,1]\n",
    "\n",
    "sumavec(listA,listB)"
   ]
  },
  {
   "cell_type": "markdown",
   "metadata": {},
   "source": [
    "$$\\{v_{1,i}+v_{2,i} | i \\in [0,3)\\}$$"
   ]
  },
  {
   "cell_type": "markdown",
   "metadata": {},
   "source": [
    "#### Ejercicio 1:\n",
    "Crea una función `miNorma` que tome como argumento un vector `v` (en forma de lista) y regrese la norma de ese vector. Recordatorio, la norma de un vector es:\n",
    "\n",
    "$$\\lVert\\boldsymbol{\\mathrm{v}}\\rVert = \\sqrt{\\sum_{i}v_i^2}$$"
   ]
  },
  {
   "cell_type": "code",
   "execution_count": 21,
   "metadata": {},
   "outputs": [
    {
     "data": {
      "text/plain": [
       "2.23606797749979"
      ]
     },
     "execution_count": 21,
     "metadata": {},
     "output_type": "execute_result"
    }
   ],
   "source": [
    "def miNorma(v):\n",
    "    n=len(v)\n",
    "    cuadrados=[v[i]**2 for i in range(0,n)]\n",
    "    resultado=(sum(cuadrados))**(1/2)\n",
    "    return resultado\n",
    "\n",
    "miNorma([1,2])"
   ]
  },
  {
   "cell_type": "markdown",
   "metadata": {},
   "source": [
    "#### Ejercicio 2:\n",
    "Crea una función `imprimir_saludo` que tenga dos _keywords_: `nombre` y `semestre`. Asigna los valores default de tu elección. La función debe regresar el saludo:\n",
    "```\n",
    "Hola, mi nombre es <nombre> y voy en <semestre> semestre.\n",
    "```"
   ]
  },
  {
   "cell_type": "code",
   "execution_count": 25,
   "metadata": {},
   "outputs": [
    {
     "data": {
      "text/plain": [
       "'Hola, mi nombre es Chris y voy en 5to semestre.'"
      ]
     },
     "execution_count": 25,
     "metadata": {},
     "output_type": "execute_result"
    }
   ],
   "source": [
    "def imprimir_saludo(nombre = \"Chris\" , semestre = \"5to\" ):\n",
    "    saludo= \"Hola, mi nombre es \" + nombre + \" y voy en \" + semestre + \" semestre.\"\n",
    "    return saludo\n",
    "\n",
    "imprimir_saludo()"
   ]
  },
  {
   "cell_type": "markdown",
   "metadata": {},
   "source": [
    "___________________"
   ]
  },
  {
   "cell_type": "markdown",
   "metadata": {},
   "source": [
    "# Iteraciones: ciclos for y while"
   ]
  },
  {
   "cell_type": "markdown",
   "metadata": {},
   "source": [
    "Una caracteristica importante de los algoritmos computacionales es la habilidad que nos proporcionan de llevar a cabo cálculos de forma repetida que tomarían un muy largo tiempo de realizar a mano. Llamamos **iteración** al proceso de repetir ciertas instrucciones para distintos objetos. Esto se refiere a que cierta variable recorra un conjunto de valores, a través de un **bucle** (ciclo o _loop_).\n",
    "\n",
    "Empezaremos discutiendo los ciclos `for` (\"para\", en español) y continuaremos con los ciclos `while` (\"mientras\", en español).\n",
    "\n",
    "Ya hemos visto las comprensiones de arreglo, que proveen una forma sencilla y rápida para crear arreglos, y ocupan la palabra `for`. Los bucles `for` nos permiten realizar iteraciones sobre un conjunto de variables previamente definidas, ya sea sobre un indice que etiqueta a los elementos de un conjunto o sobre los elementos mismos. Es decir, realizar un proceso **para** cada elemento de un conjunto.\n",
    "\n",
    "Los ciclos `while` por su lado, nos permiten realizar iteraciones **mientras** se cumpla cierta condición, es decir mientras cierta pregunta con respuesta sí o no pueda ser contestada y además la respuesta sea sí. En este sentido, los ciclos `while` no tienen una cantidad de pasos definida como los ciclos `for`, por lo que hay que tener cuidado con la manera en la que son programados para evitar un bucle infinito."
   ]
  },
  {
   "cell_type": "markdown",
   "metadata": {},
   "source": [
    "### Ciclos \"for\""
   ]
  },
  {
   "cell_type": "markdown",
   "metadata": {},
   "source": [
    "La sintaxis en `Python` para los ciclos `for` es la siguiente:\n",
    "\n",
    "```\n",
    "for <variable> in <arreglo>:\n",
    "    [haz esto]\n",
    "    [y esto]\n",
    "```\n",
    "\n",
    "En un bucle de este tipo, la variable toma cada valor en turno del arreglo. Se refiere a los comandos adentro como el \"cuerpo\" del bucle. Estos comandos se ejecutarán una y otra vez, hasta que se agote el iterable.\n",
    "\n",
    "Por lo tanto, este tipo de bucle se ocupa cuando se conoce de antemano el número de veces que se requiera repetir algo.\n",
    "\n",
    "Aquí un ejemplo:"
   ]
  },
  {
   "cell_type": "code",
   "execution_count": 1,
   "metadata": {},
   "outputs": [
    {
     "name": "stdout",
     "output_type": "stream",
     "text": [
      "25\n",
      "16\n",
      "9\n",
      "4\n",
      "1\n",
      "0\n",
      "1\n",
      "4\n",
      "9\n",
      "16\n",
      "25\n",
      "36\n",
      "49\n",
      "64\n",
      "81\n",
      "ya me salí del `for`\n"
     ]
    }
   ],
   "source": [
    "for i in range(-5,10):\n",
    "    print(i**2)\n",
    "print(\"ya me salí del `for`\")"
   ]
  },
  {
   "cell_type": "markdown",
   "metadata": {},
   "source": [
    "Vemos que la variable `i` toma cada valor en el rango, de -5 hasta 9, uno por uno. Recordemos que `range(a,b)`, es una función de `python` que crea un arreglo iterable que va desde `a` hasta `b-1` de 1 en 1 y con `a`, `b` enteros. En un lenguaje \"más matemático\", `range(a,b)` representa $[a,b)\\subset\\mathbb{Z}$.\n",
    "\n",
    "En el ejemplo anterior, se iteró sobre un objeto de typo `range`. También se puede iterar sobre una lista o una tupla:"
   ]
  },
  {
   "cell_type": "code",
   "execution_count": 2,
   "metadata": {},
   "outputs": [
    {
     "name": "stdout",
     "output_type": "stream",
     "text": [
      "3\n",
      "4\n",
      "7\n",
      "terminé el primer bucle\n",
      "Crhis \n",
      "\n",
      "Leo \n",
      "\n",
      "Todxs lxs demxs \n",
      "\n",
      "terminé el segundo bucle\n"
     ]
    }
   ],
   "source": [
    "for num in [3, 4, 7]:\n",
    "    print(num)\n",
    "print(\"terminé el primer bucle\")\n",
    "for num in (\"Crhis\", \"Leo\", \"Todxs lxs demxs\"):\n",
    "    print(num,\"\\n\")\n",
    "print(\"terminé el segundo bucle\")"
   ]
  },
  {
   "cell_type": "markdown",
   "metadata": {},
   "source": [
    "#### Ejercicio 3\n",
    "\n",
    "La multiplicación $a\\cdot b$ con alguno de los dos números un entero puede pensarse como repetir el proceso de sumar un número $a$ una cantidad $b$ de veces. Intenta programar un ciclo `for` que lleve a cabo una multiplicación de esta forma. Para ello define las variables `a`, `b` y total.\n"
   ]
  },
  {
   "cell_type": "code",
   "execution_count": 26,
   "metadata": {},
   "outputs": [
    {
     "name": "stdout",
     "output_type": "stream",
     "text": [
      "70\n"
     ]
    }
   ],
   "source": [
    "a = 7\n",
    "b = 10\n",
    "total = 0\n",
    "for i in range(b):\n",
    "    total = total+a\n",
    "print(total)"
   ]
  },
  {
   "cell_type": "markdown",
   "metadata": {},
   "source": [
    "#### Ejercicio 4\n",
    "\n",
    "Inserta tu código adentro de una función `miMult` que tome `a` y `n` como argumentos."
   ]
  },
  {
   "cell_type": "code",
   "execution_count": 28,
   "metadata": {},
   "outputs": [
    {
     "name": "stdout",
     "output_type": "stream",
     "text": [
      "80\n"
     ]
    }
   ],
   "source": [
    "def miMult(a,n):\n",
    "    '''\n",
    "    Esta es mi documentación. miMult es una función que regresa la multiplicación de dos números a y n.\n",
    "    La implementación es tal que suma n veces a. Por ello n debe ser entero.\n",
    "    \n",
    "    a: factor 1 (número)\n",
    "    n: factor 2 (entero)\n",
    "    '''\n",
    "    \n",
    "    total=0\n",
    "    for i in range(n):\n",
    "        total=total + a\n",
    "    print(total)\n",
    "    \n",
    "miMult(8,10)"
   ]
  },
  {
   "cell_type": "code",
   "execution_count": 29,
   "metadata": {},
   "outputs": [],
   "source": [
    "?miMult"
   ]
  },
  {
   "cell_type": "markdown",
   "metadata": {},
   "source": [
    "#### Ejercicio 5\n",
    "Crea una función `miSum` que calcula la suma de los primeros $N$ enteros utilizando un bucle `for` y que regrese el resultado.\n",
    "Verifica con algunos ejemplos comparando con el resultado analítico:\n",
    "\n",
    "$$\\sum_{i=1}^n i = \\frac{n(n+1)}{2}$$"
   ]
  },
  {
   "cell_type": "code",
   "execution_count": 5,
   "metadata": {},
   "outputs": [
    {
     "name": "stdout",
     "output_type": "stream",
     "text": [
      "6\n"
     ]
    }
   ],
   "source": [
    "def miSum(n):\n",
    "    suma=0\n",
    "    for i in range(n+1):\n",
    "        suma=suma+i\n",
    "    print(suma)\n",
    "    \n",
    "miSum(3)"
   ]
  },
  {
   "cell_type": "markdown",
   "metadata": {},
   "source": [
    "#### Ejercicio 6\n",
    "\n",
    "Crea una función `miCuad_suma` que calcula, en un solo bucle, la suma de los cuadrados de los primeros $N$ enteros y regrese el total. Verifica que funcione utilizando la fórmula para la suma de los cuadrados. Verifica con algunos ejemplos comparando con el resultado analítico (si no lo conoces, dedúcelo 🤭)."
   ]
  },
  {
   "cell_type": "code",
   "execution_count": 33,
   "metadata": {},
   "outputs": [
    {
     "name": "stdout",
     "output_type": "stream",
     "text": [
      "14\n"
     ]
    }
   ],
   "source": [
    "def miCuad_suma(n):\n",
    "    cuad=0\n",
    "    suma=0\n",
    "    for i in range(n+1):\n",
    "        cuad=i**2\n",
    "        suma=suma+cuad\n",
    "    print(suma)\n",
    "    \n",
    "miCuad_suma(3)"
   ]
  },
  {
   "cell_type": "markdown",
   "metadata": {},
   "source": [
    "____________"
   ]
  },
  {
   "cell_type": "markdown",
   "metadata": {},
   "source": [
    "### Ciclos \"while\""
   ]
  },
  {
   "cell_type": "markdown",
   "metadata": {},
   "source": [
    "La sintaxis en `Python` para los ciclos `while` es la siguiente:\n",
    "\n",
    "```\n",
    "while <condición>:\n",
    "    [haz esto]\n",
    "    [y esto]\n",
    "```\n",
    "\n",
    "En un bucle de este tipo, la condición que evaluamos para decidir si volver o no a entrar a otro ciclo puede irse actualizando dentro de bucle. De hecho, en general queremos que se vaya actualizando, de lo contrario, podríamos terminar con un bucle infinito.\n",
    "\n",
    "En este tipo de bucle no es necesario conocer de antemano el número de veces que se requiera repetir algo.\n",
    "\n",
    "Aquí un ejemplo:"
   ]
  },
  {
   "cell_type": "code",
   "execution_count": 21,
   "metadata": {},
   "outputs": [
    {
     "name": "stdout",
     "output_type": "stream",
     "text": [
      "-5\n",
      "-4\n",
      "-3\n",
      "-2\n",
      "-1\n",
      "0\n",
      "1\n",
      "2\n",
      "3\n",
      "4\n",
      "5\n",
      "6\n",
      "7\n",
      "8\n",
      "9\n"
     ]
    }
   ],
   "source": [
    "i = -5\n",
    "while i<10:\n",
    "    print(i)\n",
    "    i=i+1"
   ]
  },
  {
   "cell_type": "code",
   "execution_count": 22,
   "metadata": {},
   "outputs": [
    {
     "data": {
      "text/plain": [
       "False"
      ]
     },
     "execution_count": 22,
     "metadata": {},
     "output_type": "execute_result"
    }
   ],
   "source": [
    "2 not in [1,23] and 1 not in [1,23]"
   ]
  },
  {
   "cell_type": "markdown",
   "metadata": {},
   "source": [
    "La siguiente es alguna sintaxis importante a la hora de evaluar condiciones lógicas:  \n",
    "\n",
    "- Condiciones de orden:  \n",
    "    - Mayor que: `>`\n",
    "    - Menor que`<`-\n",
    "    - Igual que `==`\n",
    "    - Distinto que `!=`\n",
    "    - Mayor o igual que `>=`\n",
    "    - Menor o igual que `<=`\n",
    "- Pertenencia:\n",
    "    - Pertenece a: `in`\n",
    "    - No pertenece a: `not in`\n",
    "    \n",
    "Además de poder usar `and` y `or` para escribir condiciones combinadas. Al final, cualquier condición que queramos usar debe regresar un _Booleano_, es decir, `True` o `False`.\n",
    "\n",
    "Ejemplos:"
   ]
  },
  {
   "cell_type": "code",
   "execution_count": 23,
   "metadata": {},
   "outputs": [
    {
     "data": {
      "text/plain": [
       "(True, False, True, True, True, False)"
      ]
     },
     "execution_count": 23,
     "metadata": {},
     "output_type": "execute_result"
    }
   ],
   "source": [
    "2<3, 2==\"2\", 1 in (1,2,3), 1 in [1,2,3], 1 in range(3), 10/2!=5"
   ]
  },
  {
   "cell_type": "markdown",
   "metadata": {},
   "source": [
    "Nota: estas condiciones también pueden ser guardadas en una variable. ¿De que tipo sería esa variable?"
   ]
  },
  {
   "cell_type": "markdown",
   "metadata": {},
   "source": [
    "#### Ejercicio 7\n",
    "\n",
    "Evalua las siguientes condiciones (usando python):\n",
    "\n",
    "i) `3` pertenece a `range(-2,3)` y `\"a\"` pertence a `[\"a\",\"b\",\"c\"]`  \n",
    "ii) `\"a\"` pertenece a `\"Aquí\"` y `\"a\"` pertenece a `\"aqui\"`  \n",
    "iii) `25` es menor o igual que `3**2+4**2` o `25` es mayor que `100`\n"
   ]
  },
  {
   "cell_type": "code",
   "execution_count": 38,
   "metadata": {},
   "outputs": [
    {
     "data": {
      "text/plain": [
       "(False, False, True)"
      ]
     },
     "execution_count": 38,
     "metadata": {},
     "output_type": "execute_result"
    }
   ],
   "source": [
    "#Tu código:\n",
    "3 in range (-2,3) and \"a\" in [\"a\",\"b\",\"c\"],\"a\" in \"Aquí\" and \"a\" in \"aqui\", 25<=3**2+4**2 or 25>100"
   ]
  },
  {
   "cell_type": "markdown",
   "metadata": {},
   "source": [
    "#### Ejercicio 8\n",
    "\n",
    "Escribe un bucle while que imprima los primeros 10 números de la sucesión de Fibonacci. Recuerda que la sucesión de Fibonacci se define como: \n",
    "$$\\begin{align}\n",
    "F_1&=1,\\\\\n",
    "F_2&=1,\\\\\n",
    "F_n &= F_{n-1}+F_{n-2}.\\\\\n",
    "\\end{align}$$"
   ]
  },
  {
   "cell_type": "code",
   "execution_count": 39,
   "metadata": {},
   "outputs": [
    {
     "name": "stdout",
     "output_type": "stream",
     "text": [
      "1\n",
      "1\n",
      "2\n",
      "3\n",
      "5\n",
      "8\n",
      "13\n",
      "21\n",
      "34\n",
      "55\n"
     ]
    }
   ],
   "source": [
    "fm2=1\n",
    "fm1=1\n",
    "c=2\n",
    "print(fm2)\n",
    "print(fm1)\n",
    "while c<10:\n",
    "    fn=fm1+fm2\n",
    "    print(fn)\n",
    "    fm2=fm1\n",
    "    fm1=fn\n",
    "    c=c+1"
   ]
  },
  {
   "cell_type": "markdown",
   "metadata": {},
   "source": [
    "#### Ejercicio 8bis\n",
    "i) Encuentra el número de enteros sucesivos, comenzando en 1, que debes multiplicar para que el resultado sea mayor que 1000000, es decir, encuentra el $n$ más pequeño tal que $n!>1000000$  \n",
    "ii) Encuentra el número de veces que debes multiplicar el número 2 para que el resultado sea mayor que 1000000, es decir, encuentra el $n$ más pequeño tal que $2^n>1000000$  \n",
    "Para ambos incisos, usa un ciclo `while`"
   ]
  },
  {
   "cell_type": "code",
   "execution_count": 215,
   "metadata": {},
   "outputs": [
    {
     "name": "stdout",
     "output_type": "stream",
     "text": [
      "n = 10\n"
     ]
    }
   ],
   "source": [
    "#I)\n",
    "\n",
    "def fact(n):\n",
    "    x=1\n",
    "    \n",
    "    if n<0:\n",
    "        return \"error: el factorial sólo admite n>=0\"\n",
    "    \n",
    "    elif n==0:\n",
    "        return 1\n",
    "    \n",
    "    else:\n",
    "        for i in range(1,n+1):\n",
    "            x=x*i\n",
    "        return x\n",
    "\n",
    "a=1\n",
    "n=1\n",
    "\n",
    "while a<1000000:\n",
    "    n=n+1\n",
    "    a=fact(n)    \n",
    "print(\"n =\",n)"
   ]
  },
  {
   "cell_type": "code",
   "execution_count": 216,
   "metadata": {},
   "outputs": [
    {
     "name": "stdout",
     "output_type": "stream",
     "text": [
      "n = 20\n"
     ]
    }
   ],
   "source": [
    "#II)\n",
    "\n",
    "b=1\n",
    "while b<1000000:\n",
    "    n=n+1\n",
    "    b=2**n    \n",
    "print(\"n =\",n)"
   ]
  },
  {
   "cell_type": "markdown",
   "metadata": {},
   "source": [
    "_____"
   ]
  },
  {
   "cell_type": "markdown",
   "metadata": {},
   "source": [
    "# Condicionales. if, else y elif"
   ]
  },
  {
   "cell_type": "markdown",
   "metadata": {},
   "source": [
    "Otra herramienta importante al programar es el poder decidir qué hacer (como al inicio de un ciclo `while`) dependiendo de qué caso se cumpla. Para ello podemos usar las palabras `if`, `else` y `elif`.  \n",
    "\n",
    "La sintaxis es la siguiente:\n",
    "\n",
    "```\n",
    "if <condición 1>:\n",
    "    <Haz esto si la condición 1 se cumple>\n",
    "else:\n",
    "    <Haz esto otro si la condición 1 NO se cumple>\n",
    "```\n",
    "\n",
    "y:\n",
    "\n",
    "```\n",
    "if <condición 1>:\n",
    "    <Haz esto si la condición 1 se cumple>\n",
    "elif <condición 2>:\n",
    "    <Haz esto otro si la condición 1 NO se cumple, pero sí la condición 2>\n",
    "else:\n",
    "    <Haz esto otro si NO se cumple la condición 1 NI la condición 2>\n",
    "```\n",
    "\n"
   ]
  },
  {
   "cell_type": "markdown",
   "metadata": {},
   "source": [
    "Ejemplos bobo:"
   ]
  },
  {
   "cell_type": "code",
   "execution_count": null,
   "metadata": {},
   "outputs": [],
   "source": [
    "a = 1\n",
    "if a==1:\n",
    "    print(\"entre al if\")\n",
    "elif a==2:\n",
    "    print(\"entre al elif\")\n",
    "else:\n",
    "    print(\"entre al else\")"
   ]
  },
  {
   "cell_type": "markdown",
   "metadata": {},
   "source": [
    "#### Ejercicio 9\n",
    "\n",
    "i) Crea una función `esDiv3` que tome como argumento un entero `n` y regrese un booleano `True` si el entero es divisible entre 3 o `False` si no lo es.  \n",
    "ii) Repite i), pero en esta ocación llama a la función `esDiv5` y pide que revise si `n` es divisible entre 5.  \n",
    "iii) Crea una función `esDiv15` que use tus funciones `esDiv3` y `esDiv5` para revisar si un entero `n` (que tome como argumento) es divisible entre 15 y regrese la respuesta como un booleano.\n",
    "\n",
    "Prueba todas tus funciones"
   ]
  },
  {
   "cell_type": "code",
   "execution_count": 221,
   "metadata": {},
   "outputs": [
    {
     "data": {
      "text/plain": [
       "True"
      ]
     },
     "execution_count": 221,
     "metadata": {},
     "output_type": "execute_result"
    }
   ],
   "source": [
    "#I)\n",
    "\n",
    "def esDiv3(n):\n",
    "    parte_en = n/3-n//3\n",
    "    if parte_en == 0:\n",
    "        return True\n",
    "    else:\n",
    "        return False\n",
    "    \n",
    "esDiv3(6)"
   ]
  },
  {
   "cell_type": "code",
   "execution_count": 222,
   "metadata": {},
   "outputs": [
    {
     "data": {
      "text/plain": [
       "True"
      ]
     },
     "execution_count": 222,
     "metadata": {},
     "output_type": "execute_result"
    }
   ],
   "source": [
    "#II)\n",
    "\n",
    "def esDiv5(n):\n",
    "    n_str = str(n)\n",
    "    if n_str[-1] in [\"0\",\"5\"]:\n",
    "        return True\n",
    "    else:\n",
    "        return False\n",
    "\n",
    "esDiv5(40)"
   ]
  },
  {
   "cell_type": "code",
   "execution_count": 292,
   "metadata": {},
   "outputs": [
    {
     "data": {
      "text/plain": [
       "True"
      ]
     },
     "execution_count": 292,
     "metadata": {},
     "output_type": "execute_result"
    }
   ],
   "source": [
    "#III)\n",
    "\n",
    "def esDiv15(n):\n",
    "    if esDiv3(n) and esDiv5(n) == True :\n",
    "        return True\n",
    "    else:\n",
    "        return False\n",
    "    \n",
    "esDiv15(45)"
   ]
  },
  {
   "cell_type": "markdown",
   "metadata": {},
   "source": [
    "#### Ejercicio 10\n",
    "\n",
    "Escribe una función que tome un número, `n`, y dos listas, `lista1` y `lista2` como argumentos y que regrese `True` si `n` está solo en una de ellas y `False` en cualquier otro caso, es decir, que esté en ambas o que no esté en ninguna."
   ]
  },
  {
   "cell_type": "code",
   "execution_count": 291,
   "metadata": {},
   "outputs": [
    {
     "data": {
      "text/plain": [
       "True"
      ]
     },
     "execution_count": 291,
     "metadata": {},
     "output_type": "execute_result"
    }
   ],
   "source": [
    "def is_in(n, lista1, lista2):\n",
    "    if (n in lista1 or n in lista2) and not (n in lista1 and n in lista2):\n",
    "        return True\n",
    "    return False\n",
    "\n",
    "is_in(0,[1,4],[1,0,2])"
   ]
  },
  {
   "cell_type": "markdown",
   "metadata": {},
   "source": [
    "#### Ejercicio 11\n",
    "Repite el Ejercicio 9 usando el operador `%` (el de checar si los n son divisibles entre 3, 5 y 15)"
   ]
  },
  {
   "cell_type": "code",
   "execution_count": 303,
   "metadata": {},
   "outputs": [
    {
     "data": {
      "text/plain": [
       "True"
      ]
     },
     "execution_count": 303,
     "metadata": {},
     "output_type": "execute_result"
    }
   ],
   "source": [
    "#I)\n",
    "\n",
    "def div3(n):\n",
    "    mod=n%3\n",
    "    if mod == 0:\n",
    "        return True\n",
    "    else:\n",
    "        return False\n",
    "    \n",
    "div3(6)"
   ]
  },
  {
   "cell_type": "code",
   "execution_count": 310,
   "metadata": {},
   "outputs": [
    {
     "data": {
      "text/plain": [
       "True"
      ]
     },
     "execution_count": 310,
     "metadata": {},
     "output_type": "execute_result"
    }
   ],
   "source": [
    "#II)\n",
    "\n",
    "def div5(n):\n",
    "    mod=n%5\n",
    "    if mod == 0:\n",
    "        return True\n",
    "    else:\n",
    "        return False\n",
    "div5(10)"
   ]
  },
  {
   "cell_type": "code",
   "execution_count": 319,
   "metadata": {},
   "outputs": [
    {
     "data": {
      "text/plain": [
       "True"
      ]
     },
     "execution_count": 319,
     "metadata": {},
     "output_type": "execute_result"
    }
   ],
   "source": [
    "#III)\n",
    "\n",
    "def div15(n):\n",
    "    mod=n%15\n",
    "    if mod == 0:\n",
    "        return True\n",
    "    else:\n",
    "        return False\n",
    "    \n",
    "div15(60)"
   ]
  },
  {
   "cell_type": "markdown",
   "metadata": {},
   "source": [
    "____________"
   ]
  },
  {
   "cell_type": "markdown",
   "metadata": {},
   "source": [
    "## Ejercicios más interesantes: ~Problemas"
   ]
  },
  {
   "cell_type": "markdown",
   "metadata": {},
   "source": [
    "#### Problema 1 \n",
    "Recordemos que los números primos son los enteros positivos mayores que $1$ que sólo son divisibles exactamente entre $1$ y sí mismo.\n",
    "\n",
    "i) Escribe una función que verifica si un número es primo o no.  \n",
    "ii) Escribe una función que construye un arreglo de `nPrimos(n)`, el número de primos menores o iguales a `n`."
   ]
  },
  {
   "cell_type": "code",
   "execution_count": 1,
   "metadata": {},
   "outputs": [
    {
     "data": {
      "text/plain": [
       "True"
      ]
     },
     "execution_count": 1,
     "metadata": {},
     "output_type": "execute_result"
    }
   ],
   "source": [
    "#I)\n",
    "\n",
    "def esPrimo(n):\n",
    "    mod_n=n%n\n",
    "    mod_1=n%1\n",
    "    \n",
    "    l=[n%i for i in range(2,n-1)]\n",
    "    \n",
    "    if mod_n == 0 and mod_1 == 0:\n",
    "        if 0 in l:\n",
    "            return False\n",
    "        else:\n",
    "            return True\n",
    "    else:\n",
    "        return False\n",
    "    \n",
    "esPrimo(31)"
   ]
  },
  {
   "cell_type": "code",
   "execution_count": 2,
   "metadata": {},
   "outputs": [
    {
     "data": {
      "text/plain": [
       "[2, 3, 5, 7, 11, 13, 17, 19, 23, 29, 31, 37, 41, 43, 47]"
      ]
     },
     "execution_count": 2,
     "metadata": {},
     "output_type": "execute_result"
    }
   ],
   "source": [
    "#II)\n",
    "\n",
    "def nPrimos(n):\n",
    "    primos=[]\n",
    "    \n",
    "    for i in range(2,n+1):\n",
    "        if esPrimo(i) == True:\n",
    "            primos.append(i)\n",
    "        else:\n",
    "            continue\n",
    "    return(primos)\n",
    "\n",
    "nPrimos(50)"
   ]
  },
  {
   "cell_type": "markdown",
   "metadata": {},
   "source": [
    "#### Problema 2\n",
    "i) Escribe una función `factPrimos` que tome como argumento un entero `n` y calcule todos los factores primos de `n` ($p_i$), así como las veces que cada factor divide a `n` ($\\alpha_i$). Esto es, todos los $p_i$, $\\alpha_i$ tal que\n",
    "\n",
    "$$n=\\Pi_i p_i^{\\alpha_1}.$$\n",
    "\n",
    "Tu función debe regresar dos listas. La primera con todos los $p_i$ y la segunda con todos los $\\alpha_i$.  \n",
    "Sugerencias:\n",
    "\n",
    "-Recuerda que puedes crear una lista vacia y agregar elementos a una lista usando las sintaxis\n",
    "\n",
    "```\n",
    "listaVacia = [] #Lista vacia\n",
    "```\n",
    "\n",
    "```\n",
    "miLista.append(a) #Agregar la variable a a la lista miLista\n",
    "```\n",
    "-Define una lista con los primeros 100 primos usando tu función del Problema 1, un ciclo `while` y condicionales.\n",
    "\n",
    "ii) Verifica que tu programa funcione con los siguientes casos:\n",
    "        - `factPrimos(25)` debe regresar las listas `[5]`,`[2]`\n",
    "        - `factPrimos(1540)` debe regresar las listas `[2,5,7,11]`,`[2,1,1,1]`\n",
    "        - `factPrimos(5508)` debe regresar las listas `[2,3,17]`,`[2,4,1]`"
   ]
  },
  {
   "cell_type": "code",
   "execution_count": 76,
   "metadata": {
    "scrolled": true
   },
   "outputs": [],
   "source": [
    "#I)\n",
    "\n",
    "def factPrimos(n):\n",
    "    primos=nPrimos(100)\n",
    "    lv1=[]\n",
    "    lv2=[]\n",
    "    lv3=[]\n",
    "    \n",
    "    d=n\n",
    "    \n",
    "    while not d==1:\n",
    "        for i in range(len(primos)):\n",
    "            if d%primos[i] == 0:\n",
    "                lv1.append(primos[i])\n",
    "                d=d/primos[i]\n",
    "            else:\n",
    "                continue\n",
    "                \n",
    "    for i in range(len(primos)):\n",
    "        if i in lv1:\n",
    "            lv2.append(i)\n",
    "        else:\n",
    "            continue\n",
    "\n",
    "    if not len(lv2)==1:\n",
    "        for i in lv1:\n",
    "            for y in lv2:\n",
    "                if i == y:\n",
    "                    try:\n",
    "                        lv3[y-2]=lv3[y-2]+1\n",
    "                    except:\n",
    "                        lv3.append(1)\n",
    "                else:\n",
    "                    continue\n",
    "    else:\n",
    "        lv3.append(len(lv1))\n",
    "            \n",
    "    return(lv2,lv3)"
   ]
  },
  {
   "cell_type": "code",
   "execution_count": 82,
   "metadata": {},
   "outputs": [
    {
     "name": "stdout",
     "output_type": "stream",
     "text": [
      "([5], [2]) ([2, 5, 7, 11], [2, 1, 1, 1]) ([2, 3, 17], [2, 4, 1])\n"
     ]
    }
   ],
   "source": [
    "#II)\n",
    "\n",
    "print(factPrimos(25),factPrimos(1540),factPrimos(5508))"
   ]
  }
 ],
 "metadata": {
  "kernelspec": {
   "display_name": "Python 3 (ipykernel)",
   "language": "python",
   "name": "python3"
  },
  "language_info": {
   "codemirror_mode": {
    "name": "ipython",
    "version": 3
   },
   "file_extension": ".py",
   "mimetype": "text/x-python",
   "name": "python",
   "nbconvert_exporter": "python",
   "pygments_lexer": "ipython3",
   "version": "3.10.2"
  }
 },
 "nbformat": 4,
 "nbformat_minor": 2
}

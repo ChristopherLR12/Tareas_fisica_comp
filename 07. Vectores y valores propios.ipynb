{
 "cells": [
  {
   "cell_type": "code",
   "execution_count": 21,
   "metadata": {},
   "outputs": [],
   "source": [
    "import numpy as np"
   ]
  },
  {
   "cell_type": "markdown",
   "metadata": {},
   "source": [
    "# Eigenvalores y eigenvectores "
   ]
  },
  {
   "cell_type": "markdown",
   "metadata": {},
   "source": [
    "Otro problema crucial de la álgebra lineal, y, por lo tanto, de la álgebra lineal numérica, es encontrar valores y vectores propios, también llamados eigenvalores y eigenvectores (\"eigen\" = \"propio\" en alemán).\n",
    "\n",
    "Recordemos que $\\mathbf{v}$ es un eigenvector de la matriz $\\mathbf{M}$,  con eigenvalor $\\lambda \\in \\mathbb{C}$,  si\n",
    "\n",
    "$$\\mathbf{M} \\cdot \\mathbf{v} = \\lambda \\, \\mathbf{v},$$\n",
    "\n",
    "es decir que la *dirección* de $\\mathbf{v}$ es invariante bajo la transformación $\\mathbf{M}$, pero la *magnitud* se puede cambiar (o sea, el vector se puede \"estirar\").\n",
    "\n",
    "Recordemos que si $\\mathbf{v}$ es un eigenvector de $\\mathbf{M}$ con eigenvalor $\\lambda$, entonces $\\alpha \\mathbf{v}$ también lo es, para cualquier escalar $\\alpha \\neq 0$."
   ]
  },
  {
   "cell_type": "markdown",
   "metadata": {},
   "source": [
    "¿Por qué son importantes este tipo de problemas? Surgen en problemas físicos como son el encontrar los modos normales de un conjunto de osciladores acoplados, o las energías posibles de un sistema cuántico. En particular, surgen al llevar a cabo una separación de variables en ecuaciones diferenciales parciales.\n",
    "\n",
    "Por ejemplo, consideremos el problema de encontrar las energías y estados posibles de una partícula libre en una caja finita de longitud $L$. El problema se reduce a encontrar los valores posibles de $E$ y $\\psi$ que satisfacen la ecuación de Helmholtz,\n",
    "\n",
    "$$\\nabla^2 \\psi = E \\psi$$\n",
    "\n",
    "con condiciones dadas en la frontera, por ejemplo\n",
    "$\\psi(x=0) = \\psi(x=L) = 0$."
   ]
  },
  {
   "cell_type": "markdown",
   "metadata": {},
   "source": [
    "## El método de potencias "
   ]
  },
  {
   "cell_type": "markdown",
   "metadata": {},
   "source": [
    "No pueden existir métodos directos para calcular eigenvalores para matrices generales, ya que los eigenvalores satisfacen la ecuación polinomial $\\mathrm{det}(\\mathbf{M} - \\lambda \\mathbf{I}) = 0$, la cual sabemos que, en general, no se puede resolver de manera analítica cuando el grado $>4$.\n",
    "\n",
    "Por lo tanto, debemos considerar métodos numéricos."
   ]
  },
  {
   "cell_type": "markdown",
   "metadata": {},
   "source": [
    "El método numérico más sencillo para calcular un eigenvalor particular de una matriz es el [**método de potencias**](https://en.wikipedia.org/wiki/Power_iteration). En un método iterativo que consiste en calcular potencias de la matriz $\\mathbf{M}$, aplicadas a un vector $\\mathbf{v}$ inicial arbitrario (pero no-cero).\n",
    "\n",
    "El algoritmo es como sigue: Se escoge un vector inicial arbitrario $\\mathbf{v}_0$ y se aplica $\\mathbf{M}$ a este vector (es decir, se calcula $\\mathbf{M} \\cdot \\mathbf{v}$). Luego se aplica $\\mathbf{M}$ al resultado, y así sucesivamente, obteniendo una sucesión de vectores:\n",
    "\n",
    "\\begin{equation}\n",
    "    \\mathbf{v}_i =\n",
    "    \\begin{cases}\n",
    "    \\mathbf{v}_0, \\quad i=0, \\\\\n",
    "    \\mathbf{M}^i\\cdot\\mathbf{v}_0 = \\mathbf{M}\\cdot\\mathbf{v}_{i-1}, \\quad i>0.\n",
    "    \\end{cases}\n",
    "\\end{equation}\n",
    "\n",
    "Para $\\vert \\lambda \\vert > 1$, conforme $t \\to \\infty$ sucede que $\\lambda^{t-1} \\to \\pm \\infty$ y la sucesión vectorial divergirá. por otro lado, si $\\vert \\lambda \\vert < 1$, conforme $t \\to \\infty$ sucede que $\\lambda^{t-1} \\to 0$ y nuestro la sucesión converge a $\\mathbf{0}$, que no puede ser vector propio por definición. Se puede probar que, aunque tomemos cualquier otro vector como condición inicial, eventualmente se cumplirá alguno de estos dos casos.\n",
    "\n",
    "Una manera de resolver este problema es multiplicando el vector de la sucesión en cada paso de tal manera que su norma no cambia abruptamente hacia cero o infinito, es decir, **normalizando**. \n",
    "\n",
    "\\begin{equation}\n",
    "    \\mathbf{v}_i =\n",
    "    \\begin{cases}\n",
    "    \\mathbf{v}_0, \\quad i=0, \\\\\n",
    "    \\frac{\\mathbf{M}\\cdot\\mathbf{v}_{i-1}}{\\|\\mathbf{M}\\cdot\\mathbf{v}_{i-1}\\|}, \\quad i>0.\n",
    "    \\end{cases}\n",
    "\\end{equation}\n",
    "\n",
    "Luego de suficientes iteraciones, obtendremos un vector propio,\n",
    "\n",
    "$$\n",
    "\\lim_{i \\to \\infty} \\mathbf{v}_{i} = \\mathbf{v}_{p,1} \\quad \\quad \\mathbf{M}\\cdot\\mathbf{v}_{p,1} = \\lambda_{1}\\mathbf{v}_{p,1} \n",
    "$$\n",
    "\n",
    "\n",
    "Con $\\lambda_1$ el valor propio más grande (en valor absoluto) de la matriz $\\mathbf{M}$ y $\\mathbf{v}_{p,1}$ su vector propio asociado. Notemos que una vez conocido $\\mathbf{v}_{p,1}$ podemos encontrar $\\lambda_1$ usando la relación\n",
    "\n",
    "$$(\\mathbf{M}\\cdot\\mathbf{v}_{p,1})\\cdot\\mathbf{v}_{p,1} = \\lambda_{1}\\mathbf{v}_{p,1}\\cdot\\mathbf{v}_{p,1} \\Rightarrow \\lambda_{i} = \\frac{(\\mathbf{M}\\cdot\\mathbf{v}_{p,1})\\cdot\\mathbf{v}_{p,1}}{\\|\\mathbf{v}_{p,1}|\\|}$$"
   ]
  },
  {
   "cell_type": "markdown",
   "metadata": {},
   "source": [
    "##### Ejercicio 1\n",
    "\n",
    "i) Escribe una función potencias(M,v0,n_iter) que implementa este método, para una matriz `M` dada como argumento de la función además del vector inicial `v0` y el número de iteraciones. Tu función debe regresar el valor y vector propio encontrados.\n",
    "\n",
    "ii) Considera una matriz $\\mathbf{M}$ de $2 \\times 2$, e.g. $\\begin{pmatrix} 2 & 1 \\\\ 1 & 1 \\end{pmatrix}$. \n",
    "Aplica el método. Imprime los resultados después de cada paso.\n",
    "\n",
    "iii) Calcula a mano los eigenvalores y eigenvectores de tu matriz. ¿Funciona el método? ¿Cuál eigenvector y eigenvalor te da?\n",
    "\n",
    "iv) Supón que la matriz $\\mathbf{M}$ cuenta con una base completa de eigenvectores $\\mathbf{v}_i$. Descompon un vector inicial arbitrario $\\mathbf{v}$ como una combinación lineal de los eigenvectores, e investiga el resultado de aplicar $\\mathbf{M}^n$ a esta combinación lineal de vectores propios. Explica (en una celda de texto) el comportamiento del método."
   ]
  },
  {
   "cell_type": "code",
   "execution_count": 3,
   "metadata": {},
   "outputs": [],
   "source": [
    "def metodo_potencias(M,v0,n_iter=10):\n",
    "    \n",
    "    vv=[v0] \n",
    "    \n",
    "    for i in range(n_iter):\n",
    "        vn = M.dot(vv[-1])\n",
    "        vn = vn/np.linalg.norm(vn)\n",
    "        vv.append(vn)\n",
    "        \n",
    "    vec_propio = vv[-1]\n",
    "    val_propio = (M.dot(vec_propio)).dot(vec_propio)/np.linalg.norm(vec_propio)**2\n",
    "        \n",
    "    return val_propio, vec_propio"
   ]
  },
  {
   "cell_type": "code",
   "execution_count": 2,
   "metadata": {
    "scrolled": true
   },
   "outputs": [
    {
     "data": {
      "text/plain": [
       "5.0"
      ]
     },
     "execution_count": 2,
     "metadata": {},
     "output_type": "execute_result"
    }
   ],
   "source": [
    "np.linalg.norm([[3],[4]])"
   ]
  },
  {
   "cell_type": "code",
   "execution_count": 8,
   "metadata": {},
   "outputs": [],
   "source": [
    "M = np.array([[2.0, 1.0] , [1.0, 1.0]])\n",
    "v0 = np.random.rand(np.shape(M)[0])\n",
    "val_p,vec_p = metodo_potencias(M,v0,n_iter=25)"
   ]
  },
  {
   "cell_type": "code",
   "execution_count": 10,
   "metadata": {},
   "outputs": [
    {
     "data": {
      "text/plain": [
       "array([0.85065081, 0.52573111])"
      ]
     },
     "execution_count": 10,
     "metadata": {},
     "output_type": "execute_result"
    }
   ],
   "source": [
    "vec_p"
   ]
  },
  {
   "cell_type": "markdown",
   "metadata": {},
   "source": [
    "## Otros valores propios: \"desinflación\" (deflation)"
   ]
  },
  {
   "cell_type": "markdown",
   "metadata": {},
   "source": [
    "El método de potencias solo nos permite conocer el valor propio más grande en valor absoluto. Si quisiéramos extenderlo para obtener otros valores propios, necesitaríamos construir otra matriz en la cual el valor propio más grande en valor absoluto sea remplazado por un cero, pero todos los demás valores propio sean los mismos."
   ]
  },
  {
   "cell_type": "markdown",
   "metadata": {},
   "source": [
    "#### Ejercicio extra: Vale por un ejercicio extra (no es de programar)\n",
    "\n",
    "Sea $\\mathbf{M}$ una matriz real y simétrica de $n \\times n$ con valores y vectores propios $\\lambda_1, \\ldots, \\lambda_n$ y $\\mathbf{v}_{p,1}, \\ldots, \\mathbf{v}_{p,n}$ tales que $ |\\lambda_1| \\leq |\\lambda_2| \\leq  \\ldots \\leq |\\lambda_n|$.\n",
    "\n",
    "Utiliza el **[teorema espectral](https://en.wikipedia.org/wiki/Spectral_theorem)** para demostrar que la matriz $\\mathbf{B}_k (\\mathbf{M})$, definida como\n",
    "\n",
    "$$\n",
    "\\mathbf{B}_k (\\mathbf{M}) = \\mathbf{M} - \\frac{\\lambda_k}{\\Vert \\mathbf{v}_{p,k} \\Vert^2}\\mathbf{v}_{p,k}^T \\mathbf{v}_{p,k},\n",
    "$$\n",
    "\n",
    "tiene valores propios $\\lambda_k = 0,\\lambda_1,\\ldots,\\lambda_{k-1},\\lambda_{k+1},\\ldots,\\lambda_n$ y sus correspondientes vectores propios asociados son $\\mathbf{v}_{p,k},\\mathbf{v}_{p,1},\\ldots,\\mathbf{v}_{p,k-1}, \\mathbf{v}_{p,k+1},\\ldots,\\mathbf{v}_n$. Es decir, la matriz $\\mathbf{B}_k$ tiene los mismos valores propios y vectores propios de $\\mathbf{M}$ excepto por $\\lambda_k$ que ahora es cero.\n",
    "\n",
    "**_Hint_**: recuerda que\n",
    "$$\n",
    "\\mathbf{v}^T \\mathbf{w} = \\begin{pmatrix}\n",
    "v_1 w_1 & v_1 w_2 & \\ldots & v_1 w_n \\\\\n",
    "v_2 w_1 & v_2 w_2 & \\ldots & v_2 w_n \\\\\n",
    "\\vdots & \\vdots & \\ddots & \\vdots \\\\\n",
    "v_n w_1 & v_n w_2 & \\ldots & v_n w_n \\\\\n",
    "\\end{pmatrix}\n",
    "$$\n",
    "\n",
    "Y que  $(\\mathbf{v}^T \\mathbf{w}) \\mathbf{u} = (\\mathbf{w} \\cdot \\mathbf{u}) \\mathbf{v}^T.  $ "
   ]
  },
  {
   "cell_type": "code",
   "execution_count": null,
   "metadata": {},
   "outputs": [],
   "source": []
  },
  {
   "cell_type": "markdown",
   "metadata": {},
   "source": [
    "Poodemos proponer el siguiente procedimiento para encontrar todos los valores y vectores propios: utilizamos el método de potencias sobre $\\mathbf{M}$ para encontrar el valor propio más grande en magnitud  $\\lambda_n$  y el vector propio asociado $\\mathbf{v}_n$. \n",
    "\n",
    "Desupués, volvemos a aplicar el método de potencias pero ahora a $\\mathbf{B}_n(\\mathbf{M})$, el cuál nos regresara el valor propio más grande en valor absoluto(y su vector propio asociado ) de $\\mathbf{B}_n(\\mathbf{M})$: $\\lambda_{n-1}$, segundo valor propio más grande de $\\mathbf{M}$. \n",
    "\n",
    "Posteriormente, si ahora le volvemos a aplicar el método de potencias a $\\mathbf{B}_n(\\mathbf{B}_n (\\mathbf{M})) $, obtendremos así $\\lambda_{n-2}$ y su vector propio asociado. De forma general, si aplicamos el método de potencias a\n",
    "\n",
    "$$\n",
    "C_i = \\underbrace{\\mathbf{B}_n \\circ \\ldots \\circ \\mathbf{B}_{n}}_{\\text{i veces}}(\\mathbf{M})\n",
    "$$\n",
    "\n",
    "Obtendremos el valor propio $\\lambda_{n-i}$ de $\\mathbf{M}$. A esta técnica se le conoce como la *desinflación* (deflation, en inglés) de la matriz $\\mathbf{M}$"
   ]
  },
  {
   "cell_type": "markdown",
   "metadata": {},
   "source": [
    "#### Ejercicio 2\n",
    "\n",
    "Implementa una función `matrizB(M,w,s)` con $\\mathbf{M}$ una matriz simétrica de $n \\times n$ y $\\mathbf{v}$ un vector de longitud $n$ y $s$ un escalar de tal forma que la función regrese la matriz $\\mathbf{B}$ definida como\n",
    "\n",
    "$$\n",
    "\\mathbf{B} = \\mathbf{M} - \\frac{s}{\\Vert\\mathbf{v}\\Vert^2} \\mathbf{v}^T \\mathbf{v}\n",
    "$$"
   ]
  },
  {
   "cell_type": "code",
   "execution_count": 11,
   "metadata": {},
   "outputs": [],
   "source": [
    "def matrizB(M,v,s):\n",
    "    B = M - s/np.linalg.norm(v)**2*np.outer(v,v)\n",
    "    return B"
   ]
  },
  {
   "cell_type": "markdown",
   "metadata": {},
   "source": [
    "#### Ejercicio 3\n",
    "\n",
    "Implementa una función `valoresPropios(M,v0,n_iter)` con $\\mathbf{M}$ una matriz simétrica de $n \\times n$, `v0`, la adivinanza inicial para cada vector propio y `n_iter` el número de iteraciones (para cada uno de los vectores propios usamos la misma adivinanza incial y el mismo número de iteraciones).\n",
    "\n",
    "Tu función debe de regresar dos arreglos: uno con todos los valores propios $\\lambda_i$ de la matriz $\\mathbf{M}$ y otro con los vectores propios asociados $\\mathbf{v}_{p,i}$ con la técnica de desinflación. Para ello, usa tus funciones `matrizB` y `metodo_potencias`."
   ]
  },
  {
   "cell_type": "code",
   "execution_count": 19,
   "metadata": {},
   "outputs": [],
   "source": [
    "def valoresPropios(M,v0,n_iter):\n",
    "    \n",
    "    val_p = []\n",
    "    vec_p = []\n",
    "    \n",
    "    val1 = metodo_potencias(M,v0,n_iter)[0]\n",
    "    vec1 = metodo_potencias(M,v0,n_iter)[1]\n",
    "    \n",
    "    nm = matrizB(M,vec1,1)\n",
    "    \n",
    "    nv = metodo_potencias(nm,v0,n_iter)[1]\n",
    "    \n",
    "    while nv != vec1:\n",
    "        \n",
    "        val_p.appedn(val1)\n",
    "        vec_p.appedn(vec1)\n",
    "        \n",
    "        val1 = metodo_potencias(matrizB(M,vec1,1),v0,n_iter)[0]\n",
    "        vec1 = metodo_potencias(matrizB(M,vec1,1),v0,n_iter)[1]"
   ]
  },
  {
   "cell_type": "code",
   "execution_count": 20,
   "metadata": {},
   "outputs": [
    {
     "ename": "ValueError",
     "evalue": "The truth value of an array with more than one element is ambiguous. Use a.any() or a.all()",
     "output_type": "error",
     "traceback": [
      "\u001b[0;31m---------------------------------------------------------------------------\u001b[0m",
      "\u001b[0;31mValueError\u001b[0m                                Traceback (most recent call last)",
      "Input \u001b[0;32mIn [20]\u001b[0m, in \u001b[0;36m<cell line: 1>\u001b[0;34m()\u001b[0m\n\u001b[0;32m----> 1\u001b[0m \u001b[43mvaloresPropios\u001b[49m\u001b[43m(\u001b[49m\u001b[43mM\u001b[49m\u001b[43m,\u001b[49m\u001b[43mv0\u001b[49m\u001b[43m,\u001b[49m\u001b[38;5;241;43m10\u001b[39;49m\u001b[43m)\u001b[49m\n",
      "Input \u001b[0;32mIn [19]\u001b[0m, in \u001b[0;36mvaloresPropios\u001b[0;34m(M, v0, n_iter)\u001b[0m\n\u001b[1;32m      9\u001b[0m nm \u001b[38;5;241m=\u001b[39m matrizB(M,vec1,\u001b[38;5;241m1\u001b[39m)\n\u001b[1;32m     11\u001b[0m nv \u001b[38;5;241m=\u001b[39m metodo_potencias(nm,v0,n_iter)[\u001b[38;5;241m1\u001b[39m]\n\u001b[0;32m---> 13\u001b[0m \u001b[38;5;28;01mwhile\u001b[39;00m nv \u001b[38;5;241m!=\u001b[39m vec1:\n\u001b[1;32m     15\u001b[0m     val_p\u001b[38;5;241m.\u001b[39mappedn(val1)\n\u001b[1;32m     16\u001b[0m     vec_p\u001b[38;5;241m.\u001b[39mappedn(vec1)\n",
      "\u001b[0;31mValueError\u001b[0m: The truth value of an array with more than one element is ambiguous. Use a.any() or a.all()"
     ]
    }
   ],
   "source": [
    "valoresPropios(M,v0,10)"
   ]
  },
  {
   "cell_type": "markdown",
   "metadata": {},
   "source": [
    "#### Ejercicio 4\n",
    "\n",
    "Aplica tu función `valoresPropios` a las siguientes matrices para obtener sus valores y vectores propios. Compara con los resultados analíticosy comprueba que tu implementación funciona correctamente.\n",
    "\n",
    "\n",
    "1. $$\n",
    "\\begin{pmatrix}\n",
    "5 &  0 \\\\\n",
    "0 &  3  \\\\\n",
    "\\end{pmatrix}\n",
    "$$\n",
    "\n",
    "Valores propios:\n",
    " \n",
    "$$\n",
    "(\\lambda_1,\\lambda_2)= (3,5)\n",
    "$$\n",
    "\n",
    "Vectores propios **normalizados**:\n",
    "\n",
    "\\begin{gather}\n",
    "\\mathbf{v}_{p,1} =  (0,1) \\\\\n",
    "\\mathbf{v}_{p,2} =  (1,0)\n",
    "\\end{gather}\n",
    "\n",
    "\n",
    "2. $$\n",
    "\\begin{pmatrix}\n",
    "1 &  2 & 3 \\\\\n",
    "2 &  1 & 4 \\\\\n",
    "3 &  4 & 1 \\\\\n",
    "\\end{pmatrix}\n",
    "$$\n",
    "\n",
    "Valores propios: \n",
    "\n",
    "$$\n",
    "(\\lambda_1,\\lambda_2,\\lambda_3)= (-3.18788,-0.88679, 7.07467)\n",
    "$$\n",
    "\n",
    "Vectores propios **normalizados**:\n",
    "\n",
    "\\begin{gather}\n",
    "\\mathbf{v}_{p,1} =  (-0.255232 , -0.601302 ,  0.757161) \\\\\n",
    "\\mathbf{v}_{p,2} =  ( 0.824038 , -0.544925 , -0.154979) \\\\\n",
    "\\mathbf{v}_{p,3} =  (-0.505785 , -0.584374 , -0.634577)\n",
    "\\end{gather}\n",
    "\n",
    "3. $$\n",
    "\\begin{pmatrix}\n",
    "2 & 0 & 4 & 0 \\\\\n",
    "0 & 1 & 3 & 5 \\\\\n",
    "4 & 3 & 5 & 7 \\\\\n",
    "0 & 5 & 7 & 3\n",
    "\\end{pmatrix}\n",
    "$$\n",
    "\n",
    "Valores propios:\n",
    "\n",
    "$$\n",
    "(\\lambda_1,\\lambda_2,\\lambda_3,\\lambda_4) = (-4.70726, -1.79468,  3.34440, 14.15754 )\n",
    "$$\n",
    "\n",
    "Vectores propios **normalizados**:\n",
    "\n",
    "\\begin{gather}\n",
    "\\mathbf{v}_{p,1} = (0.319972 , -0.335648 , -0.536533 ,  0.705046) \\\\\n",
    "\\mathbf{v}_{p,2} = ( 0.452603 ,  0.763066 , -0.429371 , -0.168882) \\\\\n",
    "\\mathbf{v}_{p,3} = ( 0.802188 , -0.401573 ,  0.269615 , -0.350058) \\\\\n",
    "\\mathbf{v}_{p,4} = (-0.221952 , -0.379222 , -0.674597 , -0.593167)\n",
    "\\end{gather}"
   ]
  },
  {
   "cell_type": "code",
   "execution_count": null,
   "metadata": {},
   "outputs": [],
   "source": []
  },
  {
   "cell_type": "markdown",
   "metadata": {},
   "source": [
    "#### Ejercicio 5\n",
    "\n",
    "Repite el ejercicio 4 usando la `np.linalg.eig`. Lee la documentación para saber cómo se usa esta función."
   ]
  },
  {
   "cell_type": "code",
   "execution_count": null,
   "metadata": {},
   "outputs": [],
   "source": []
  }
 ],
 "metadata": {
  "anaconda-cloud": {},
  "hide_input": false,
  "kernelspec": {
   "display_name": "Python 3 (ipykernel)",
   "language": "python",
   "name": "python3"
  },
  "language_info": {
   "codemirror_mode": {
    "name": "ipython",
    "version": 3
   },
   "file_extension": ".py",
   "mimetype": "text/x-python",
   "name": "python",
   "nbconvert_exporter": "python",
   "pygments_lexer": "ipython3",
   "version": "3.10.2"
  },
  "widgets": {
   "state": {
    "64f7cea9-be98-41b3-9e48-04fdbdd48b3d": {
     "views": [
      {
       "cell_index": 29
      }
     ]
    },
    "94140e29-b903-4bda-84b7-b25e71dc1afc": {
     "views": [
      {
       "cell_index": 20
      }
     ]
    }
   },
   "version": "1.2.0"
  }
 },
 "nbformat": 4,
 "nbformat_minor": 1
}

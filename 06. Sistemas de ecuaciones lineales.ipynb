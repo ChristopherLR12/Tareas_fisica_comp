{
 "cells": [
  {
   "cell_type": "code",
   "execution_count": 2,
   "id": "ea28c180",
   "metadata": {},
   "outputs": [],
   "source": [
    "import numpy as np"
   ]
  },
  {
   "cell_type": "markdown",
   "id": "9f707609",
   "metadata": {},
   "source": [
    "# Sistemas lineales de ecuaciones algebráicas\n",
    "\n",
    "Consideremos el sistema de m ecuaciones y n incógnitas dado por\n",
    "\n",
    "$$\\begin{align}\n",
    "f_1(x_1,x_2,&\\dots,x_n) =& 0,\\\\\n",
    "f_2(x_1,x_2,&\\dots,x_n) =& 0,\\\\\n",
    "&\\dots&\\\\\n",
    "f_m(x_1,x_2,&\\dots,x_n) =& 0,\\\\\n",
    "\\end{align}$$"
   ]
  },
  {
   "cell_type": "markdown",
   "id": "3205ecbc",
   "metadata": {},
   "source": [
    "Decimos que este sistema de ecuaciones es un sistema lineal de ecuaciones (algebráicas) si todas las funciones $f_j$ son combinaciones lineales de las variables $x_i$ y solucionar el sistema implica encontrar el conjunto de $x_i$ que cumplen todas las ecuaciones de manera simultanea. En general, un sistema de ecuaciones lineales puede tener una única solución, ninguna solución o una infinidad de soluciones."
   ]
  },
  {
   "cell_type": "markdown",
   "id": "b4540c28",
   "metadata": {},
   "source": [
    "Durante esta sesión nos enfocaremos en el caso en el que nuestro sistema de ecuaciones tiene una única solución, lo cual ocurre cuando tenemos la misma cantidad de ecuaciones linealmente independientes y de incognitas. Podemos entonces escribir nuestro sistema como   \n",
    "   \n",
    "   \n",
    "$$\\begin{align}\n",
    "a_{11}x_1 + a_{12}x_2 + &\\dots& + a_{1n}x_n = b_1, \\\\\n",
    "a_{21}x_1 + a_{22}x_2 + &\\dots& + a_{2n}x_n = b_2, \\\\\n",
    "&\\dots&\\\\\n",
    "a_{n1}x_1 + a_{n2}x_2 + &\\dots& + a_{nn}x_n = b_n.   \\\\\n",
    "\\end{align}$$  \n",
    "\n",
    "Notemos que podemos representar este sistema de ecuaciones en forma matricial como  $$\\boldsymbol{\\mathrm{M}}\\cdot \\boldsymbol{\\mathrm{x}}= \\boldsymbol{\\mathrm{b}},$$\n",
    "\n",
    "con \n",
    "\n",
    "$$\\boldsymbol{\\mathrm{M}} =  \\begin{pmatrix} a_{11} &a_{12} &\\dots &a_{1n} \\\\ a_{21} &a_{22} &\\dots &a_{2n} \\\\ \\vdots &\\vdots &\\ddots &\\vdots \\\\ a_{n1} &a_{n2} &\\dots &a_{nn} \\end{pmatrix}, \\quad \\boldsymbol{\\mathrm{x}} = \\begin{pmatrix} x_1 \\\\ x_2 \\\\ \\vdots \\\\ x_n \\end{pmatrix}, \\quad \\boldsymbol{\\mathrm{b}}=\\begin{pmatrix} b_1 \\\\ b_2 \\\\ \\vdots \\\\ b_n \\end{pmatrix},$$\n",
    "\n",
    "es decir\n",
    "  \n",
    "$$ \\begin{pmatrix} a_{11} &a_{12} &\\dots &a_{1n} \\\\ a_{21} &a_{22} &\\dots &a_{2n} \\\\ \\vdots &\\vdots &\\ddots &\\vdots \\\\ a_{n1} &a_{n2} &\\dots &a_{nn} \\end{pmatrix} \\begin{pmatrix} x_1 \\\\ x_2 \\\\ \\vdots \\\\ x_n \\end{pmatrix} = \\begin{pmatrix} b_1 \\\\ b_2 \\\\ \\vdots \\\\ b_n \\end{pmatrix}. $$\n",
    "\n"
   ]
  },
  {
   "cell_type": "markdown",
   "id": "75a3a949",
   "metadata": {},
   "source": [
    "### Repaso de álgebra\n",
    "\n",
    "Llamamos  **operaciones elementales** a ciertas operaciones que podemos hacer a los renglones de una ecuación matricial sin alterar la igualdad. Estas operaciones son:\n",
    "\n",
    "- multiplicar por un escalar no nulo,\n",
    "- sumar a un renglon una combinación lineal de los otros renglones (por ejemplo, solo uno de los renglones multiplicado por una constante),\n",
    "- intercambiar dos renglones de lugar.\n",
    "\n",
    "Estas operaciones tienen que realizarse tanto para el renglon de la matriz $\\boldsymbol{\\mathrm{M}}$ como el renglon correspondiente del vector $\\boldsymbol{\\mathrm{b}}$\n",
    "\n",
    "Usaremos un conjunto de estas operaciones elementales para obtener la solución de nuestro sistema mediante el método de eliminación Gaussiana que recordarán de sus clases álgebra de los primeros semestres."
   ]
  },
  {
   "cell_type": "markdown",
   "id": "faa6d336",
   "metadata": {},
   "source": [
    "##### Ejercicio 1 (no es de programar)\n",
    "\n",
    "Muestra que las operaciones elementales mantienen la igualdad de la ecuación matricial."
   ]
  },
  {
   "cell_type": "code",
   "execution_count": null,
   "id": "e9e4badf",
   "metadata": {},
   "outputs": [],
   "source": []
  },
  {
   "cell_type": "markdown",
   "id": "af8de60f",
   "metadata": {},
   "source": [
    "### Método de eliminación Gaussiana\n",
    "\n",
    "Buscamos, a través de operaciones elementales, transformar un sistema lineal de ecuaciones algebráicas en otro de la forma\n",
    "\n",
    "$$ \\begin{pmatrix} a'_{11} &a'_{12} &\\dots &a'_{1n} \\\\ 0 &a'_{22} &\\dots &a'_{2n} \\\\ \\vdots &\\vdots &\\ddots &\\vdots \\\\ 0 & 0 &\\dots &a'_{nn} \\end{pmatrix} \\begin{pmatrix} x_1 \\\\ x_2 \\\\ \\vdots \\\\ x_n \\end{pmatrix} = \\begin{pmatrix} b'_1 \\\\ b'_2 \\\\ \\vdots \\\\ b'_n \\end{pmatrix}, $$\n",
    "\n",
    "\n",
    "con $a'_{ij}\\neq0$ para $i\\leq j\\leq n$ y $a'_{ij}=0$ en cualquier otro caso. A una matriz como la de la relación anterior, se le llama **triangular superior**. Como la última ecuación de este nuevo sistema tiene sólo una incógnita, es sencillo despejar, obteniendo\n",
    "\n",
    "$$x_n = \\frac{b'_n}{a'_{nn}}.$$"
   ]
  },
  {
   "cell_type": "markdown",
   "id": "1e0a8041",
   "metadata": {},
   "source": [
    "Entonces para el penúltimo renglón tenemos que\n",
    "\n",
    "$$a'_{n-1,n-1} \\cdot x_{n_1} + a'_{n-1,n} \\cdot x_{n}=b'_{n-1}$$"
   ]
  },
  {
   "cell_type": "markdown",
   "id": "ddec7ef8",
   "metadata": {},
   "source": [
    "##### Ejercicio 2 (tampoco es de programar)\n",
    "\n",
    "Despeja a $x_{n-1}$ de la penúltima ecuación de manera que quede en términos de $x_n$. Realiza lo mismo para el resto de las $x_i$ ($i<n$) de manera que obtengas una expresión para $x_i$ en términos de las todas las $x_j$ ($j>i$). Demuestra que esta expresión es igual a:\n",
    "\n",
    "\\begin{equation}\n",
    "x_i=\\frac{1}{a'_{ii}}\\left( b'_{i}-\\sum\\limits_{j>i} a'_{ij} \\cdot x_{j} \\right ).\n",
    "\\end{equation}\n",
    "\n",
    "\n",
    "Nota que esta expresión depende de $a'_{ii},...,a'_{in}$ y de $b_i$."
   ]
  },
  {
   "cell_type": "code",
   "execution_count": null,
   "id": "311c8fd7",
   "metadata": {},
   "outputs": [],
   "source": []
  },
  {
   "cell_type": "markdown",
   "id": "ae2df77c",
   "metadata": {},
   "source": [
    "## Preámbulo: matrices en python usando numpy"
   ]
  },
  {
   "cell_type": "markdown",
   "id": "53980889",
   "metadata": {},
   "source": [
    "Usando numpy es posible definir areglos de areglos que de manera efectiva nos permiten representar matrices. Estos arreglos de arreglos (un arreglo de numpy de dos dimensiones) admiten operaciones vectorizadas además de indexación por lo que su uso es muy similar al de los vectores que hemos estado usando hasta ahora."
   ]
  },
  {
   "cell_type": "code",
   "execution_count": 21,
   "id": "5d741b4c",
   "metadata": {
    "scrolled": true
   },
   "outputs": [
    {
     "data": {
      "text/plain": [
       "array([[1, 2, 3],\n",
       "       [4, 5, 6],\n",
       "       [7, 8, 9]])"
      ]
     },
     "execution_count": 21,
     "metadata": {},
     "output_type": "execute_result"
    }
   ],
   "source": [
    "M = np.array( [[1,2,3],[4,5,6],[7,8,9]])\n",
    "M"
   ]
  },
  {
   "cell_type": "code",
   "execution_count": 22,
   "id": "43964902",
   "metadata": {
    "scrolled": true
   },
   "outputs": [
    {
     "data": {
      "text/plain": [
       "array([  1,  10, 100])"
      ]
     },
     "execution_count": 22,
     "metadata": {},
     "output_type": "execute_result"
    }
   ],
   "source": [
    "x=np.array([1,10,100])\n",
    "x"
   ]
  },
  {
   "cell_type": "code",
   "execution_count": 23,
   "id": "81330860",
   "metadata": {
    "scrolled": true
   },
   "outputs": [
    {
     "data": {
      "text/plain": [
       "array([[  1,  20, 300],\n",
       "       [  4,  50, 600],\n",
       "       [  7,  80, 900]])"
      ]
     },
     "execution_count": 23,
     "metadata": {},
     "output_type": "execute_result"
    }
   ],
   "source": [
    "M*x"
   ]
  },
  {
   "cell_type": "code",
   "execution_count": 24,
   "id": "823b5d46",
   "metadata": {},
   "outputs": [
    {
     "data": {
      "text/plain": [
       "array([321, 654, 987])"
      ]
     },
     "execution_count": 24,
     "metadata": {},
     "output_type": "execute_result"
    }
   ],
   "source": [
    "M.dot(x)"
   ]
  },
  {
   "cell_type": "code",
   "execution_count": 25,
   "id": "c016b262",
   "metadata": {},
   "outputs": [
    {
     "data": {
      "text/plain": [
       "array([[1, 4, 7],\n",
       "       [2, 5, 8],\n",
       "       [3, 6, 9]])"
      ]
     },
     "execution_count": 25,
     "metadata": {},
     "output_type": "execute_result"
    }
   ],
   "source": [
    "M.T"
   ]
  },
  {
   "cell_type": "code",
   "execution_count": 26,
   "id": "711c3c27",
   "metadata": {
    "scrolled": true
   },
   "outputs": [
    {
     "data": {
      "text/plain": [
       "array([[1, 2, 3],\n",
       "       [4, 5, 6],\n",
       "       [7, 8, 9]])"
      ]
     },
     "execution_count": 26,
     "metadata": {},
     "output_type": "execute_result"
    }
   ],
   "source": [
    "A=M\n",
    "A"
   ]
  },
  {
   "cell_type": "code",
   "execution_count": 27,
   "id": "b033738d",
   "metadata": {
    "scrolled": true
   },
   "outputs": [
    {
     "data": {
      "text/plain": [
       "(array([[100,   2,   3],\n",
       "        [  4,   5,   6],\n",
       "        [  7,   8,   9]]),\n",
       " array([[100,   2,   3],\n",
       "        [  4,   5,   6],\n",
       "        [  7,   8,   9]]))"
      ]
     },
     "execution_count": 27,
     "metadata": {},
     "output_type": "execute_result"
    }
   ],
   "source": [
    "M[0,0]=100\n",
    "M,A"
   ]
  },
  {
   "cell_type": "code",
   "execution_count": 28,
   "id": "6d115d7b",
   "metadata": {},
   "outputs": [
    {
     "data": {
      "text/plain": [
       "array([[100,   2,   3],\n",
       "       [  4,   5,   6],\n",
       "       [  7,   8,   9]])"
      ]
     },
     "execution_count": 28,
     "metadata": {},
     "output_type": "execute_result"
    }
   ],
   "source": [
    "A=M.copy()\n",
    "A"
   ]
  },
  {
   "cell_type": "code",
   "execution_count": 29,
   "id": "c89cbf2b",
   "metadata": {},
   "outputs": [
    {
     "data": {
      "text/plain": [
       "array([[0., 0., 0., 0.],\n",
       "       [0., 0., 0., 0.],\n",
       "       [0., 0., 0., 0.],\n",
       "       [0., 0., 0., 0.],\n",
       "       [0., 0., 0., 0.]])"
      ]
     },
     "execution_count": 29,
     "metadata": {},
     "output_type": "execute_result"
    }
   ],
   "source": [
    "np.zeros((5,4))"
   ]
  },
  {
   "cell_type": "code",
   "execution_count": 32,
   "id": "2f2cd879",
   "metadata": {},
   "outputs": [
    {
     "data": {
      "text/plain": [
       "array([[0.71149961, 0.99976204, 0.05427899],\n",
       "       [0.93179   , 0.07859321, 0.96063282],\n",
       "       [0.16435257, 0.23594422, 0.38571603]])"
      ]
     },
     "execution_count": 32,
     "metadata": {},
     "output_type": "execute_result"
    }
   ],
   "source": [
    "np.random.rand(3,3)"
   ]
  },
  {
   "cell_type": "code",
   "execution_count": 49,
   "id": "d2a24311",
   "metadata": {},
   "outputs": [
    {
     "data": {
      "text/plain": [
       "array([[0, 1, 2],\n",
       "       [3, 4, 5],\n",
       "       [6, 7, 8]])"
      ]
     },
     "execution_count": 49,
     "metadata": {},
     "output_type": "execute_result"
    }
   ],
   "source": [
    "D=np.reshape(np.arange(9),(3,3))\n",
    "D"
   ]
  },
  {
   "cell_type": "code",
   "execution_count": 48,
   "id": "9d604219",
   "metadata": {},
   "outputs": [
    {
     "data": {
      "text/plain": [
       "array([3., 4., 5.])"
      ]
     },
     "execution_count": 48,
     "metadata": {},
     "output_type": "execute_result"
    }
   ],
   "source": [
    "D.mean(axis=0)"
   ]
  },
  {
   "cell_type": "markdown",
   "id": "bfe71c97",
   "metadata": {},
   "source": [
    "En general, pueden hacer areglos de arreglos de arreglos de ... de arreglos. Si ese es un arreglo de numpy, obtenemos lo que en su más burda definición llamariamos un tensor (al menos en estructura)."
   ]
  },
  {
   "cell_type": "markdown",
   "id": "dbebdc5c",
   "metadata": {},
   "source": [
    "##### Ejercicio 3\n",
    "\n",
    "Implementa una función `sol_trisup(A,b)` que tome como argumento un arreglo 2D (un arreglo de arreglos) `A`, que representa a una matriz **triangular superior, sin ceros en la diagonal**, de $n\\times n$ , un vector solución `b` de longitud $n$ y que regresa un arreglo `xx` con la solución del sistema $\\mathbf{A}\\cdot\\mathbf{x} = \\mathbf{b}$ calculada usando la fórmula del ejercicio anterior. **Nota:** recuerda que la fórmula del ejercicio anterior dice que $x_i$ depende de los valores de $x_j$ con $j>i$, por lo que deberás calcular las $x_i$ en un orden específico."
   ]
  },
  {
   "cell_type": "code",
   "execution_count": 174,
   "id": "549ecde8",
   "metadata": {},
   "outputs": [],
   "source": [
    "def sol_trisip(A,b):\n",
    "    M=np.append(A.T,[[b[i] for i in range(len(b))]],axis=0).T\n",
    "    c=len(M[0])-1\n",
    "    f=len(M)-1\n",
    "    \n",
    "    M[f,c]=M[f,c]/M[f,c-1] #Primera retropropagación\n",
    "    \n",
    "    R=0.0\n",
    "    \n",
    "    for j in reversed(range(f,0)):\n",
    "        for i in range(j,f):\n",
    "           R=R+M[i+1,c]*M[j,i+1] #Sumas de sustituciones anteriores\n",
    "    \n",
    "        if M[j,j]!=0:\n",
    "            M[j,c]=(M[j,c]-R)/M[j,j] #Despeje de incógnitas\n",
    "            R=0.0\n",
    "        else:\n",
    "            continue\n",
    "    \n",
    "    return M"
   ]
  },
  {
   "cell_type": "code",
   "execution_count": 175,
   "id": "f37ea926",
   "metadata": {},
   "outputs": [
    {
     "data": {
      "text/plain": [
       "array([[ 3,  1, -5,  1],\n",
       "       [ 0, -2,  4, 10],\n",
       "       [ 0,  0,  2,  3]])"
      ]
     },
     "execution_count": 175,
     "metadata": {},
     "output_type": "execute_result"
    }
   ],
   "source": [
    "A=np.array([[3,1,-5],[0,-2,4],[0,0,2]])\n",
    "b=np.array([1,10,6])\n",
    "\n",
    "sol_trisip(A,b)"
   ]
  },
  {
   "cell_type": "code",
   "execution_count": 169,
   "id": "f99b8e8d",
   "metadata": {},
   "outputs": [
    {
     "name": "stdout",
     "output_type": "stream",
     "text": [
      "3\n",
      "2\n",
      "1\n"
     ]
    }
   ],
   "source": [
    "for i in reversed(range(1,3+1)):\n",
    "    print(i)"
   ]
  },
  {
   "cell_type": "markdown",
   "id": "3ceccda3",
   "metadata": {},
   "source": [
    "Aquí les dejo un par de ejemplos para que prueben su función `sol_trisup`"
   ]
  },
  {
   "cell_type": "markdown",
   "id": "30e4317b",
   "metadata": {},
   "source": [
    "##### Ejemplo 1\n",
    "\n",
    "$$\n",
    "\\begin{pmatrix}\n",
    "3 & 1 & -5 \\\\\n",
    "0 & -2 & 4 \\\\\n",
    "0 & 0 & 2 \\\\\n",
    "\\end{pmatrix} \n",
    "\\begin{pmatrix}\n",
    "x \\\\\n",
    "y \\\\\n",
    "z \\\\\n",
    "\\end{pmatrix} \n",
    "=\n",
    "\\begin{pmatrix}\n",
    "1 \\\\\n",
    "10 \\\\\n",
    "6 \\\\\n",
    "\\end{pmatrix} \n",
    "$$\n",
    "\n",
    "Solución: $x=5$, $y=1$, $z = 3$"
   ]
  },
  {
   "cell_type": "markdown",
   "id": "08123587",
   "metadata": {},
   "source": [
    "##### Ejemplo 2\n",
    "\n",
    "$$\n",
    "\\begin{pmatrix}\n",
    "3 & -2 & 1 & -1 \\\\\n",
    "0 & 4 & -1 & 2 \\\\\n",
    "0 & 0 & 2 & 3 \\\\\n",
    "0 & 0 & 0 & 5 \\\\\n",
    "\\end{pmatrix} \n",
    "\\begin{pmatrix}\n",
    "x \\\\\n",
    "y \\\\\n",
    "z \\\\\n",
    "w \\\\\n",
    "\\end{pmatrix} \n",
    "=\n",
    "\\begin{pmatrix}\n",
    "8 \\\\\n",
    "-3 \\\\\n",
    "11 \\\\\n",
    "15 \\\\\n",
    "\\end{pmatrix} \n",
    "$$\n",
    "\n",
    "Solucion: $x=2$, $y=-2$, $z=1$,  $w=3$\n",
    "\n"
   ]
  },
  {
   "cell_type": "markdown",
   "id": "2b38ac77",
   "metadata": {},
   "source": [
    "Muy lindo y todo, pero nuestra funcón nos permite solucionar solo problemas en los que la matriz es triangular superior. Cómo hacemos para resolver un sistema arbitrario? Lo primero que se nos puede ocurrir es si podemos pasar de un sistema arbitrario a uno con representación matricial mediante una cantidad finíta de operaciones elementales (por eso las vimos al inicio :P)."
   ]
  },
  {
   "cell_type": "markdown",
   "id": "be01ddb4",
   "metadata": {},
   "source": [
    "## ¿Cómo volver una matriz cualquiera en una matriz diagonal superior?\n",
    "\n",
    "### La matriz aumentada\n",
    "\n",
    "Llamamos **matriz aumentada** y la denotadamos por $\\mathbf{C}$, a la matriz que obtenemos al añadir el vector solución $\\mathbf{b}$ como una columna adicional a la matriz $\\mathbf{M}$ de un sistema de ecuaciones,\n",
    "\n",
    "$$\n",
    "\\mathbf{C} = \n",
    "\\begin{pmatrix}\n",
    "  a_{1,1} & a_{1,2} & \\cdots & a_{1,n} & b_1 \\\\\n",
    "  a_{2,1} & a_{2,2} & \\cdots & a_{2,n} & b_2 \\\\\n",
    "  \\vdots  &   & \\ddots &   & \\vdots \\\\\n",
    "  a_{n,1} & a_{n,2} & \\cdots & a_{n,n} & b_n \n",
    " \\end{pmatrix} \n",
    " $$\n",
    "\n",
    "Mediante operaciones elementales de renglones (intercambiar renglones, multiplicarlos por un escalar o sumarlos), buscamos reducir la matriz $\\mathbf{C}$ a una forma **escalonada**, denotada $\\mathbf{C}^*$, en la que todos los elementos por debajo de la diagonal sean $0$:\n",
    "\n",
    "$$\n",
    "\\mathbf{C}^* = \n",
    "\\begin{pmatrix}\n",
    "  a^*_{1,1} & a^*_{1,2} & \\cdots & a^*_{1,n} & b^*_1 \\\\\n",
    "  0 & a^*_{2,2} & \\cdots & a^*_{2,n} & b^*_2 \\\\\n",
    "  \\vdots  &   & \\ddots &   & \\vdots \\\\\n",
    "  0 & 0 & \\cdots & a^*_{n,n} & b^*_n \n",
    " \\end{pmatrix} \n",
    " $$\n",
    " \n",
    " Esa matriz aumenta representa al sistema de ecuaciones:\n",
    " \n",
    " $$\n",
    "\\begin{pmatrix}\n",
    "  a^*_{1,1} & a^*_{1,2} & \\cdots & a^*_{1,n} \\\\\n",
    "  0 & a^*_{2,2} & \\cdots & a^*_{2,n} \\\\\n",
    "  \\vdots  &   & \\ddots &   \\vdots \\\\\n",
    "  0 & 0 & \\cdots & a^*_{n,n} \n",
    " \\end{pmatrix} \n",
    " \\begin{pmatrix}\n",
    "x_1 \\\\\n",
    "x_2 \\\\\n",
    "\\vdots \\\\\n",
    "x_n \n",
    " \\end{pmatrix}=\n",
    " \\begin{pmatrix}\n",
    "b^*_1 \\\\\n",
    "b^*_2 \\\\\n",
    "\\vdots \\\\\n",
    "b^*_n \n",
    " \\end{pmatrix}\n",
    " $$\n",
    " \n",
    "\n",
    "El sistema de ecuaciones representado por $\\mathbf{C}^*$ es equivalente al representado por $\\mathbf{C}$, por lo que sus soluciones son las mismas. Sin embargo, el sistema asociado a la matriz escalonada es triangular superior, por lo que es mucho más fácil de resolver, como vimos en los ejercicios anteriores."
   ]
  },
  {
   "cell_type": "markdown",
   "id": "c76f9d5d",
   "metadata": {},
   "source": [
    "## Preámbulo 2: Extender un arreglo de numpy"
   ]
  },
  {
   "cell_type": "code",
   "execution_count": 50,
   "id": "a184b0f1",
   "metadata": {},
   "outputs": [
    {
     "data": {
      "text/plain": [
       "array([1, 2, 3])"
      ]
     },
     "execution_count": 50,
     "metadata": {},
     "output_type": "execute_result"
    }
   ],
   "source": [
    "pr2 = np.array([1,2,3])\n",
    "pr2"
   ]
  },
  {
   "cell_type": "code",
   "execution_count": 51,
   "id": "eb2cc56f",
   "metadata": {},
   "outputs": [
    {
     "ename": "AttributeError",
     "evalue": "'numpy.ndarray' object has no attribute 'append'",
     "output_type": "error",
     "traceback": [
      "\u001b[0;31m---------------------------------------------------------------------------\u001b[0m",
      "\u001b[0;31mAttributeError\u001b[0m                            Traceback (most recent call last)",
      "Input \u001b[0;32mIn [51]\u001b[0m, in \u001b[0;36m<cell line: 1>\u001b[0;34m()\u001b[0m\n\u001b[0;32m----> 1\u001b[0m \u001b[43mpr2\u001b[49m\u001b[38;5;241;43m.\u001b[39;49m\u001b[43mappend\u001b[49m(\u001b[38;5;241m4\u001b[39m)\n",
      "\u001b[0;31mAttributeError\u001b[0m: 'numpy.ndarray' object has no attribute 'append'"
     ]
    }
   ],
   "source": [
    "pr2.append(4)"
   ]
  },
  {
   "cell_type": "code",
   "execution_count": 52,
   "id": "2f4db2f2",
   "metadata": {
    "scrolled": true
   },
   "outputs": [
    {
     "data": {
      "text/plain": [
       "array([1, 2, 3, 4])"
      ]
     },
     "execution_count": 52,
     "metadata": {},
     "output_type": "execute_result"
    }
   ],
   "source": [
    "np.append(pr2,4)"
   ]
  },
  {
   "cell_type": "code",
   "execution_count": 60,
   "id": "601ba65b",
   "metadata": {},
   "outputs": [
    {
     "data": {
      "text/plain": [
       "array([[ 0,  1,  2,  3],\n",
       "       [ 4,  5,  6,  7],\n",
       "       [ 8,  9, 10, 11],\n",
       "       [12, 13, 14, 15]])"
      ]
     },
     "execution_count": 60,
     "metadata": {},
     "output_type": "execute_result"
    }
   ],
   "source": [
    "pr3=np.reshape(np.arange(16),(4,4))\n",
    "pr3"
   ]
  },
  {
   "cell_type": "code",
   "execution_count": 61,
   "id": "42f40f88",
   "metadata": {},
   "outputs": [
    {
     "data": {
      "text/plain": [
       "array([[ 0,  1,  2,  3],\n",
       "       [ 4,  5,  6,  7],\n",
       "       [ 8,  9, 10, 11],\n",
       "       [12, 13, 14, 15],\n",
       "       [ 1,  1,  1,  1]])"
      ]
     },
     "execution_count": 61,
     "metadata": {},
     "output_type": "execute_result"
    }
   ],
   "source": [
    "np.append(pr3,[[1,1,1,1]],axis=0)"
   ]
  },
  {
   "cell_type": "code",
   "execution_count": 63,
   "id": "4c59bd68",
   "metadata": {},
   "outputs": [
    {
     "data": {
      "text/plain": [
       "array([[ 0,  1,  2,  3,  1],\n",
       "       [ 4,  5,  6,  7,  1],\n",
       "       [ 8,  9, 10, 11,  1],\n",
       "       [12, 13, 14, 15,  1]])"
      ]
     },
     "execution_count": 63,
     "metadata": {},
     "output_type": "execute_result"
    }
   ],
   "source": [
    "np.append(pr3.T,[[1,1,1,1]],axis=0).T"
   ]
  },
  {
   "cell_type": "markdown",
   "id": "4a3e43a9",
   "metadata": {},
   "source": [
    "##### Ejercicio 4 (no es de programar)\n",
    "\n",
    "(i) Supón que $a_{1,1} \\neq 0$. ¿Qué operación elemental podrías aplicarle al renglón $n$ para hacer que el elemento $a_{n,1}$ se vuelva 0?\n",
    "\n",
    "**Sugerencia** La operación es convertir al renglón $n$ en una combinación lineal del renglón $1$ y el renglón $n$\n",
    "\n",
    "(ii) ¿Puedes aplicar el procedimiento un procedimiento similar al del inciso anterior pero ahora para hacer $a_{n-1,1}=0$? ¿y para cualquier otro $a_{k,1}=0$ con $k \\neq 1$?\n",
    "\n",
    "(iii) Vamos ahora a la segunda columna. Supón que ya realizaste todas las operaciones elementales necesarias para que $a_{k,1} =0$ para $k \\neq 1$. Nuevamente suponiendo que $a_{2,2}\\neq 0$, ¿cómo puedes hacer algo parecido a las operaciones elementales de los incisos anteriores para volver $a_{k,2} =0$ para $k \\neq 2$?\n",
    "\n",
    "(iv) Generaliza todo lo visto anteriormente para encontrar las operaciones elementales necesarias (y el orden de ellas) para convertir a la matriz aumentada $\\mathbf{C}$ en la matriz escalonada $\\mathbf{C}^*$.\n"
   ]
  },
  {
   "cell_type": "markdown",
   "id": "ee56f124",
   "metadata": {},
   "source": [
    "##### Ejercicio 5\n",
    "\n",
    "Implementa una función `elim_gauss_chafa(A,b)` que toma como argumento un arreglo bidimensional (arreglo de arreglos) `M` de $n\\times n$ **suponiendo que no tiene ceros en la diagonal** y un arreglo unidimensional `b` de longitud $n$. La función debe de construir la matriz aumentada $\\mathbf{C}$ obtenida a partir de `A` y `b` y luego realizar las operaciones elementales obtenidas en el ejercicio anterior para generar la matriz escalonada $\\mathbf{C}^*$. La función debe de regresar la matriz escalonada obtenida, que va a ser de $n\\times (n+1)$.\n"
   ]
  },
  {
   "cell_type": "markdown",
   "id": "18472a76",
   "metadata": {},
   "source": [
    "Aquí unos ejemplos para que prueben su `elim_gauss`\n",
    "\n",
    "##### Ejemplo 1\n",
    "\n",
    "$$\n",
    "\\begin{pmatrix}\n",
    "1 & 1 & 1 \\\\\n",
    "1 & 2 & 4 \\\\\n",
    "1 & 3 & 9 \\\\\n",
    "\\end{pmatrix} \n",
    "\\begin{pmatrix}\n",
    "x \\\\\n",
    "y \\\\\n",
    "z \\\\\n",
    "\\end{pmatrix} \n",
    "=\n",
    "\\begin{pmatrix}\n",
    "1 \\\\\n",
    "-1 \\\\\n",
    "1 \\\\\n",
    "\\end{pmatrix} \n",
    "$$"
   ]
  },
  {
   "cell_type": "markdown",
   "id": "3406404b",
   "metadata": {},
   "source": [
    "Se convierte en\n",
    "\n",
    "$$\n",
    "\\begin{pmatrix}\n",
    "1 & 1 & 1 \\\\\n",
    "0 & 1 & 3 \\\\\n",
    "0 & 0 & 2 \\\\\n",
    "\\end{pmatrix} \n",
    "\\begin{pmatrix}\n",
    "x \\\\\n",
    "y \\\\\n",
    "z \\\\\n",
    "\\end{pmatrix} \n",
    "=\n",
    "\\begin{pmatrix}\n",
    "1 \\\\\n",
    "-2 \\\\\n",
    "4 \\\\\n",
    "\\end{pmatrix} \n",
    "$$"
   ]
  },
  {
   "cell_type": "markdown",
   "id": "fe9ea767",
   "metadata": {},
   "source": [
    "##### Ejemplo 2\n",
    "\n",
    "$$\n",
    "\\begin{pmatrix}\n",
    "4 & 8 & 4 & 0 \\\\\n",
    "1 & 5 & 4 & -3 \\\\\n",
    "1 & 4 & 7 & 2 \\\\\n",
    "1 & 3 & 0 & -2 \\\\\n",
    "\\end{pmatrix} \n",
    "\\begin{pmatrix}\n",
    "x \\\\\n",
    "y \\\\\n",
    "z \\\\\n",
    "w \\\\\n",
    "\\end{pmatrix} \n",
    "=\n",
    "\\begin{pmatrix}\n",
    "8 \\\\\n",
    "-4 \\\\\n",
    "10 \\\\\n",
    "-4 \\\\\n",
    "\\end{pmatrix} \n",
    "$$"
   ]
  },
  {
   "cell_type": "markdown",
   "id": "a85c91d2",
   "metadata": {},
   "source": [
    "se convierte en \n",
    "\n",
    "$$\n",
    "\\begin{pmatrix}\n",
    "4 & 8 & 4 & 0 \\\\\n",
    "0 & 3 & 3 & -3 \\\\\n",
    "0 & 0 & 4 & 4 \\\\\n",
    "0 & 0 & 0 & 1 \\\\\n",
    "\\end{pmatrix} \n",
    "\\begin{pmatrix}\n",
    "x \\\\\n",
    "y \\\\\n",
    "z \\\\\n",
    "w \\\\\n",
    "\\end{pmatrix} \n",
    "=\n",
    "\\begin{pmatrix}\n",
    "8 \\\\\n",
    "-6 \\\\\n",
    "12 \\\\\n",
    "2 \\\\\n",
    "\\end{pmatrix} \n",
    "$$"
   ]
  },
  {
   "cell_type": "markdown",
   "id": "a1fc26e2",
   "metadata": {},
   "source": [
    "## ¿Qué sucede si hay elementos $a_{ii}=0$?\n",
    "\n",
    "Es fundamental que los elementos de la diagonal no sean $0$ para que nuestro método funcione. Sin embargo, es posible que se de el caso en el esto no suceda. Si $a_{k,k}=0$, podemos buscar un renglón $l$ en el que $a_{l,k}\\neq 0 $ y luego **intercambiar** el renglón $k$ por el $l$.\n",
    "\n",
    "Debido a que estamos suponiendo que la solución al sistema es única, no puede nunca darse el caso de $a_{l,k}=0$ para toda $l$ pues eso implicaría que no existe solución única para el sistema. Eso garantiza que siempre existirá un renglón que podamos intercambiar.\n",
    "\n",
    "Sin embargo, notemos que el cambio no puede darse de manera tan simple, pues si el renglón $k$ que cumple que $a_{k,l} = 0$ entonces, al cambiar $k$ por $l$, eso pondrá un cero en el elemento $l$ de la diagonal."
   ]
  },
  {
   "cell_type": "markdown",
   "id": "265f5478",
   "metadata": {},
   "source": [
    "##### Ejercicio 6\n",
    "\n",
    "Implementa una función `matrizC(A,b)` que toma como argumento un arreglo 2D `A` de $n\\times n$ y un arreglo 1D `b` de longitud $n$. La función debe de construir la matriz aumentada $\\mathbf{C}$ obtenida a partir de `A` y `b` y luego revisar sus elementos diagonales para ver que no sean $0$. Si encuentra alguno que sea $0$, debe de intercambiar el renglón por otro en el que sea distinto de cero. La función debe de regresar una matriz aumentada  en la que no haya ceros en las diagonales. Revisa que tu función funcione usando un ejemplo sencillo de una matriz de $3\\times3$ (ponle ceros en la diagonal para que estés seguro de que lo hace bien)."
   ]
  },
  {
   "cell_type": "markdown",
   "id": "0f459c4d",
   "metadata": {},
   "source": [
    "Rescatemos todo lo que hemos hecho hasta ahora para al fin escribir nuestra función de eliminación gaussiana que tomo un caso general. Para ello usaremos la función `matrizC` del ejercicio anterior.  \n",
    "<br>\n",
    "\n",
    "##### Ejercicio 7\n",
    "\n",
    "Implementa una función `elim_gauss(A,b)` que toma como argumento un arreglo 2D `A` de $n\\times n$ y un arreglo 1D `b` de longitud $n$. La función primero debe de usar `checarDiagonal(A,b)` para obtener una matriz aumentada sin ceros en las diagonales y luego debe de aplicar las operaciones elementales del ejercicio 3 para obtener una matriz escalonada $\\mathbf{C}^*$. La función debe de regresar dicha matriz escalonada de $n\\times (n+1)$."
   ]
  },
  {
   "cell_type": "markdown",
   "id": "17a4a45d",
   "metadata": {},
   "source": [
    "##### Ejercicio 8\n",
    "\n",
    "Implementa una función `solSEL(A,b)` que toma como argumento un arreglo 2D `A` de $n\\times n$  y un arreglo 1D `b` de longitud $n$. Tu función debe de utilizar las funciones `elim_gauss` y `sol_trisup` para resolver el sistema de ecuaciones lineales y regresar un arreglo 1D de longitud $n$ correspondiente a las soluciones $x_i$. _**Hint**_: `elim_gauss` regresa a la matriz $\\mathbf{C}$ que luego debes partir en una matriz $\\mathbf{A}'$ y un vector solución $\\mathbf{b}'$ y eso es lo que se come `sol_trisup`.\n"
   ]
  },
  {
   "cell_type": "markdown",
   "id": "4572dab2",
   "metadata": {},
   "source": [
    "##### Ejercicio 9\n",
    "\n",
    "Prueba tu función `solSEL(A,b)` para los siguientes sistemas:\n",
    "\n",
    "i) El sistema \n",
    "\n",
    "$$\\begin{cases}5x-3y-z=1 \\\\ x+4y-6z=-1 \\\\ 2x+3y+4z=9 \\end{cases},$$\n",
    "\n",
    "con representación matricial\n",
    "$$\n",
    "\\begin{pmatrix}\n",
    "5 & -3 & -1 \\\\\n",
    "1 & 4 & -6 \\\\\n",
    "2 & 3 & 4 \\\\\n",
    "\\end{pmatrix} \n",
    "\\begin{pmatrix}\n",
    "x \\\\\n",
    "y \\\\\n",
    "z \\\\\n",
    "\\end{pmatrix} \n",
    "=\n",
    "\\begin{pmatrix}\n",
    "1 \\\\\n",
    "-1 \\\\\n",
    "9 \\\\\n",
    "\\end{pmatrix}.\n",
    "$$\n",
    "\n",
    "Solución: $x=1$, $y=1$, $z = 1$  \n",
    "\n",
    "<br>\n",
    "ii) El sistema \n",
    "$$\\begin{cases}x + 5y - z + w & = & -6 \\\\ x + y + z + w & = & 0 \\\\ 2x - 2y + z - w & = & 7 \\\\ x -6y - 3z + 2w & = & -4 \\end{cases},$$\n",
    "\n",
    "con repesentación matricial\n",
    "$$\n",
    "\\begin{pmatrix}\n",
    "1 & 5 & -1 & 1 \\\\\n",
    "1 & 1 & 1 & 1 \\\\\n",
    "2 & -2 & 1 & -1 \\\\\n",
    "1 & -6 & -3 & 2 \\\\\n",
    "\\end{pmatrix} \n",
    "\\begin{pmatrix}\n",
    "x \\\\\n",
    "y \\\\\n",
    "z \\\\\n",
    "w \\\\\n",
    "\\end{pmatrix} \n",
    "=\n",
    "\\begin{pmatrix}\n",
    "-6 \\\\\n",
    "0 \\\\\n",
    "7 \\\\\n",
    "-4 \\\\\n",
    "\\end{pmatrix}.\n",
    "$$\n",
    "\n",
    "Solucion: $x=1$, $y=-2/3$, $z=5/3$,  $w=-2$"
   ]
  },
  {
   "cell_type": "code",
   "execution_count": null,
   "id": "7ed09c13",
   "metadata": {},
   "outputs": [],
   "source": []
  }
 ],
 "metadata": {
  "kernelspec": {
   "display_name": "Python 3 (ipykernel)",
   "language": "python",
   "name": "python3"
  },
  "language_info": {
   "codemirror_mode": {
    "name": "ipython",
    "version": 3
   },
   "file_extension": ".py",
   "mimetype": "text/x-python",
   "name": "python",
   "nbconvert_exporter": "python",
   "pygments_lexer": "ipython3",
   "version": "3.10.4"
  }
 },
 "nbformat": 4,
 "nbformat_minor": 5
}

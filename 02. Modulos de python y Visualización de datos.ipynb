{
 "cells": [
  {
   "cell_type": "markdown",
   "metadata": {},
   "source": [
    "# Visualización de datos"
   ]
  },
  {
   "cell_type": "markdown",
   "metadata": {},
   "source": [
    "_______\n",
    "## Preambulo computacional: Importar módulos (librerías) de python"
   ]
  },
  {
   "cell_type": "markdown",
   "metadata": {},
   "source": [
    "Existen muchas paqueterias de python con algoritmos probados, documentados y desarrolados por una gran comunidad. Muchas veces, a la hora de enseñar a programar, hay ejercicios que requieren que algoritmos ya existentes sean desarrollados \"desde cero\" por la persona que está aprendiendo, y en otras queremos que aprendan a usar herramientas ya existentes. Las sintaxis para importar modulos en python son las siguintes:\n",
    "\n",
    "```\n",
    "import <nombre del módulo>              #importa el módulo y para llamarlo hay que usar su nombre\n",
    "import <nombre del módulo> as <alias>   #importa el módulo y le da un alias\n",
    "from <modulo> import *                  #importa todo el contenido del módulo\n",
    "from <nombre del módulo> import <función o submodulo del módulo>  #importa solo un algo del módulo\n",
    "```\n",
    "\n",
    "Los primeros dos módulos que importaremos en este curso (y los que más usaremos) son `numpy` y `matplotlib.pyplot`. Para ver más información de cada uno, pueden buscar la documentación en internet. Para una breve introducción, pueden teclear `?<alias del modulo>` en una celda del notebook luego de haber importado el modulo. Para usar un modulo en el notebook es necesario importarlo una vez por sesión."
   ]
  },
  {
   "cell_type": "code",
   "execution_count": 3,
   "metadata": {},
   "outputs": [],
   "source": [
    "import numpy"
   ]
  },
  {
   "cell_type": "code",
   "execution_count": 36,
   "metadata": {},
   "outputs": [],
   "source": [
    "?numpy"
   ]
  },
  {
   "cell_type": "code",
   "execution_count": 51,
   "metadata": {},
   "outputs": [],
   "source": [
    "import matplotlib.pyplot as plt"
   ]
  },
  {
   "cell_type": "code",
   "execution_count": 52,
   "metadata": {},
   "outputs": [],
   "source": [
    "?plt"
   ]
  },
  {
   "cell_type": "markdown",
   "metadata": {},
   "source": [
    "Pueden usar los alias que gusten para importar `numpy` y `matplotlib.pyplot`, pero como se darán cuenta si siguen en el ambito de la programación en python, \"la moda\" es usar los alias `np` y `plt`."
   ]
  },
  {
   "cell_type": "code",
   "execution_count": 4,
   "metadata": {},
   "outputs": [],
   "source": [
    "import numpy as np"
   ]
  },
  {
   "cell_type": "markdown",
   "metadata": {},
   "source": [
    "#### Ejercicio 1\n",
    "i) Usando `? <nombre de la función>`, averigua que hacen las siguientes funciones: \n",
    "- `np.linspace`\n",
    "- `np.max`\n",
    "- `np.min`\n",
    "- `np.sum`\n",
    "- `np.prod`\n",
    "- `plt.plot`\n",
    "- `plt.scatter`\n",
    "- `plt.xlabel`\n",
    "- `plt.xlim`\n",
    "- `plt.xscale`"
   ]
  },
  {
   "cell_type": "markdown",
   "metadata": {},
   "source": [
    "Ya conocemos un par de maneras de generar arreglos (a mano, por comprensión y llenando poco a poco una lista). Ahora usaremos `numpy` para generar un arreglo espaciado uniformemente usando la función `linspace`. Para ello, usamos la sintaxis\n",
    "\n",
    "```\n",
    "np.linspace(<inicio>, <final>, <numero de elementos>)\n",
    "```\n",
    "\n",
    "Esto genera un arreglo de `numpy` (nuevo tipo de objeto!) que contiene cierto número de elementos incluyendo a los extremos.\n",
    "\n",
    "Una vez más nos encontramos con la sintaxis de escribir un punto entre dos palabras. Burdamente, podemos pensar en esta sintaxis como la manera de llamar a una función o variable que \"vive\" dentro de otro objeto.\n"
   ]
  },
  {
   "cell_type": "code",
   "execution_count": 6,
   "metadata": {},
   "outputs": [
    {
     "data": {
      "text/plain": [
       "array([0. , 0.1, 0.2, 0.3, 0.4, 0.5, 0.6, 0.7, 0.8, 0.9, 1. ])"
      ]
     },
     "execution_count": 6,
     "metadata": {},
     "output_type": "execute_result"
    }
   ],
   "source": [
    "np.linspace(0,1,11)"
   ]
  },
  {
   "cell_type": "code",
   "execution_count": 13,
   "metadata": {},
   "outputs": [
    {
     "name": "stdout",
     "output_type": "stream",
     "text": [
      "11 <class 'numpy.ndarray'>\n"
     ]
    }
   ],
   "source": [
    "xx = np.linspace(0,1,11)\n",
    "print(len(xx),type(xx))"
   ]
  },
  {
   "cell_type": "markdown",
   "metadata": {},
   "source": [
    "___________"
   ]
  },
  {
   "cell_type": "markdown",
   "metadata": {},
   "source": [
    "Ya que tenemos este nuevo tipo, juguemos un poco con él.  \n",
    "<br>\n",
    "\n",
    "#### Ejercicio 2\n",
    "Para este ejercicio, comienza por crear un arrelgo de `numpy` llamado `arreglo_np` a partir de la lista `[1,2,3.0,4,5]`, luego resuelve las siguientes preguntas.\n",
    "\n",
    "i) Cuál es el tipo de los elementos dentro de tu arreglo?  \n",
    "ii) Qué pasa si sumamos dos arreglos de `numpy` que contienen números?  \n",
    "iii) Qué pasa si multiplicamos un arreglo de `numpy` que contiene números por un número?  "
   ]
  },
  {
   "cell_type": "code",
   "execution_count": 22,
   "metadata": {},
   "outputs": [
    {
     "data": {
      "text/plain": [
       "(array([1, 2, 3, 4, 5]),\n",
       " array([ 2,  4,  6,  8, 10]),\n",
       " array([ 4,  8, 12, 16, 20]))"
      ]
     },
     "execution_count": 22,
     "metadata": {},
     "output_type": "execute_result"
    }
   ],
   "source": [
    "arreglo_np=np.array([1,2,3.0,4,5],dtype=int)\n",
    "\n",
    "\n",
    "arreglo_np, arreglo_np+arreglo_np, arreglo_np*4"
   ]
  },
  {
   "cell_type": "markdown",
   "metadata": {},
   "source": [
    "La ventaja de los arreglos de `numpy` es que acepta operaciones vectoriales. Igual que para las listas, podemos indexar sus elementos usando la misma sintaxis."
   ]
  },
  {
   "cell_type": "markdown",
   "metadata": {},
   "source": [
    "#### Ejercicio 3"
   ]
  },
  {
   "cell_type": "markdown",
   "metadata": {},
   "source": [
    "i) Crea una lista de los números de 1 al 100 que sean múltiplos de 3 o 5 usando una comprensión de arreglo (recuerda que \"o\" se escribe como `or`). Revisa \"a ojo\" que sea correcto.  \n",
    "iii) Calcula su suma. ¿Cómo puedes verificar (además de a mano) que la suma esté bien? Hazlo. ***Hint:*** La suma de los números del 1 al n es $$\\sum_{i=1}^n = \\frac{n(n+1)}{2}.$$ Intenta expresar la suma de los primeros $m$ multiplos de algún número $a$ de manera que te permita usar la ecuación anterior."
   ]
  },
  {
   "cell_type": "code",
   "execution_count": 28,
   "metadata": {},
   "outputs": [
    {
     "name": "stdout",
     "output_type": "stream",
     "text": [
      "[0, 3, 5, 6, 9, 10, 12, 15, 18, 20, 21, 24, 25, 27, 30, 33, 35, 36, 39, 40, 42, 45, 48, 50, 51, 54, 55, 57, 60, 63, 65, 66, 69, 70, 72, 75, 78, 80, 81, 84, 85, 87, 90, 93, 95, 96, 99, 100]\n"
     ]
    }
   ],
   "source": [
    "a=[i for i in range (101) if i%3 == 0 or i%5 == 0]\n",
    "print(a)"
   ]
  },
  {
   "cell_type": "code",
   "execution_count": 29,
   "metadata": {},
   "outputs": [
    {
     "data": {
      "text/plain": [
       "2418"
      ]
     },
     "execution_count": 29,
     "metadata": {},
     "output_type": "execute_result"
    }
   ],
   "source": [
    "sum(a)"
   ]
  },
  {
   "cell_type": "markdown",
   "metadata": {},
   "source": [
    "#### Ejercicio 4"
   ]
  },
  {
   "cell_type": "markdown",
   "metadata": {},
   "source": [
    "(i) Crea un arreglo `xx` con 100 números entre 0 a 10 usando `np.linspace`"
   ]
  },
  {
   "cell_type": "code",
   "execution_count": 106,
   "metadata": {},
   "outputs": [
    {
     "name": "stdout",
     "output_type": "stream",
     "text": [
      "[ 0.          0.1010101   0.2020202   0.3030303   0.4040404   0.50505051\n",
      "  0.60606061  0.70707071  0.80808081  0.90909091  1.01010101  1.11111111\n",
      "  1.21212121  1.31313131  1.41414141  1.51515152  1.61616162  1.71717172\n",
      "  1.81818182  1.91919192  2.02020202  2.12121212  2.22222222  2.32323232\n",
      "  2.42424242  2.52525253  2.62626263  2.72727273  2.82828283  2.92929293\n",
      "  3.03030303  3.13131313  3.23232323  3.33333333  3.43434343  3.53535354\n",
      "  3.63636364  3.73737374  3.83838384  3.93939394  4.04040404  4.14141414\n",
      "  4.24242424  4.34343434  4.44444444  4.54545455  4.64646465  4.74747475\n",
      "  4.84848485  4.94949495  5.05050505  5.15151515  5.25252525  5.35353535\n",
      "  5.45454545  5.55555556  5.65656566  5.75757576  5.85858586  5.95959596\n",
      "  6.06060606  6.16161616  6.26262626  6.36363636  6.46464646  6.56565657\n",
      "  6.66666667  6.76767677  6.86868687  6.96969697  7.07070707  7.17171717\n",
      "  7.27272727  7.37373737  7.47474747  7.57575758  7.67676768  7.77777778\n",
      "  7.87878788  7.97979798  8.08080808  8.18181818  8.28282828  8.38383838\n",
      "  8.48484848  8.58585859  8.68686869  8.78787879  8.88888889  8.98989899\n",
      "  9.09090909  9.19191919  9.29292929  9.39393939  9.49494949  9.5959596\n",
      "  9.6969697   9.7979798   9.8989899  10.        ]\n"
     ]
    }
   ],
   "source": [
    "xx=np.linspace(0,10,100)\n",
    "\n",
    "print(xx)"
   ]
  },
  {
   "cell_type": "markdown",
   "metadata": {},
   "source": [
    "(ii) Define una función `f` que toma `x` como argumento y calcula $4x^3 + 3x^2 + 2x + 1$. Utiliza `f` para crear un arreglo `yy` que contenga los resultados de evaluar $f$ para cada $x$ en el arreglo `xx`. **_Hint_**: Usa una comprensión de arreglo."
   ]
  },
  {
   "cell_type": "code",
   "execution_count": 107,
   "metadata": {},
   "outputs": [],
   "source": [
    "def funf(x):\n",
    "    y=4*x**3+3*x**2+2*x+1\n",
    "    return y\n",
    "\n",
    "yy = [funf(i) for i in xx]"
   ]
  },
  {
   "cell_type": "markdown",
   "metadata": {},
   "source": [
    "(iii) Utiliza la función `plot` de `plt` para graficar la función $f(x)$. `plot` acepta como primer argumento un arreglo con las coordenadas $x$ y como segundo argumento otro arreglo con las coordenadas $y$. Además, etiqueta tus ejes (**SIEMPRE** etiqueten sus ejes) usando las funciones \n",
    "\n",
    "```\n",
    "plt.xlabel(<string del nombre del eje x>)\n",
    "plt.ylabel(<string del nombre del eje y>)\n",
    "```"
   ]
  },
  {
   "cell_type": "code",
   "execution_count": 108,
   "metadata": {},
   "outputs": [
    {
     "data": {
      "image/png": "[encoded data removed]",
      "text/plain": [
       "<Figure size 640x480 with 1 Axes>"
      ]
     },
     "metadata": {},
     "output_type": "display_data"
    }
   ],
   "source": [
    "y=[i for i in range(101)]\n",
    "\n",
    "plt.plot(xx,yy,color=\"gray\",linestyle=\"--\",linewidth=2, label=r\"f(x)=4x³+3x²+2x+1\")\n",
    "plt.xlabel(r\"$x$\")\n",
    "plt.ylabel(r\"$y$\")\n",
    "plt.xlim(-1,11)\n",
    "plt.grid()\n",
    "plt.legend()\n",
    "plt.show()"
   ]
  },
  {
   "cell_type": "markdown",
   "metadata": {},
   "source": [
    "(iv) Crea ahora un arreglo o rango `xx2` que vaya de dos en dos, comience en 0 y termine en 10. Además crea un arreglo `yy2` que contenga los resultados de evaluar $f(x)$ en cada $x$ de `xx2` (de nuevo, usa una comprensión de arreglo)."
   ]
  },
  {
   "cell_type": "code",
   "execution_count": 109,
   "metadata": {},
   "outputs": [],
   "source": [
    "xx2=np.linspace(0,10,6)\n",
    "yy2=[funf(i) for i in xx2]"
   ]
  },
  {
   "cell_type": "markdown",
   "metadata": {},
   "source": [
    "(v) Grafica los pares de puntos $(x,y)$ con $x\\in$ `xx2` y $y\\in$ `yy2`. Para ello usa la función `plt.scatter`. Antes de preguntarme cómo funciona, intenten entenderlo leyendo de nuevo su documentación (corran `? plt.scatter` para acceder a ella desde el notebook). Usa además puntos de color rojo (para ello se usa el *key argument* `c=\"red\"` dentro de la función)"
   ]
  },
  {
   "cell_type": "code",
   "execution_count": 110,
   "metadata": {},
   "outputs": [
    {
     "data": {
      "image/png": "[encoded data removed]",
      "text/plain": [
       "<Figure size 640x480 with 1 Axes>"
      ]
     },
     "metadata": {},
     "output_type": "display_data"
    }
   ],
   "source": [
    "plt.scatter(xx2,yy2,c=\"k\")\n",
    "plt.xlabel(r\"$x$\")\n",
    "plt.ylabel(r\"$y$\")\n",
    "plt.xlim(-1,11)\n",
    "plt.grid()\n",
    "plt.show()\n"
   ]
  },
  {
   "cell_type": "markdown",
   "metadata": {},
   "source": [
    "(vi) Ahora junta tus gráficas en una sola. Para ello basta con que llames a `plt.scatter` en la linea siguiente de `plt.plot`. Esto ocurre porque `plt` agrega nuevas gráficas a la última figura creada."
   ]
  },
  {
   "cell_type": "code",
   "execution_count": 117,
   "metadata": {},
   "outputs": [
    {
     "data": {
      "image/png": "[encoded data removed]",
      "text/plain": [
       "<Figure size 640x480 with 1 Axes>"
      ]
     },
     "metadata": {},
     "output_type": "display_data"
    }
   ],
   "source": [
    "plt.plot(xx,yy)\n",
    "plt.scatter(xx2,yy2,c=\"k\")\n",
    "plt.grid()\n",
    "plt.show()"
   ]
  },
  {
   "cell_type": "markdown",
   "metadata": {},
   "source": [
    "_____________________________"
   ]
  },
  {
   "cell_type": "markdown",
   "metadata": {},
   "source": [
    "Ya estamos en condiciones de poder visualizar sistemas *físicos* en la computadora."
   ]
  },
  {
   "cell_type": "markdown",
   "metadata": {},
   "source": [
    " ### Caida libre con fricción\n",
    " \n",
    "#### Problema 3\n",
    "i) Define una función `freefall_t` que calcula la posición de una partícula en caida libre con una posición inicial $x_0$. `freefall_t` debe tomar como argumentos `y0`, `m`, `b` y `tf`; el primero es la posición inicial, el segundo es la masa, el tercero una constante positiva que depende de la geometría del objeto, y el último es el tiempo final. Lo que tu función debe regresar es un par de arreglos `xx` y `vv`: el primer con las posiciones $y(t)$ y el segundo con las velocidades $v(t)$ desde 0 hasta $t_f$. Las posiciones y velocidades son calculadas a partir de las siguientes reglas:\n",
    "\n",
    "$$y(t_n) = y(t_{n-1}) + v(t_{n-1})\\mathrm{d}t$$\n",
    "$$v(t_n) = v(t_{n-1}) - a_{eff}(t_{n-1})\\mathrm{d}t$$\n",
    "\n",
    "donde $\\mathrm{d}t$ es el intervalo de tiempo entre cada posición que calcularas y $a_{eff}$ es una aceleración efectiva dada por\n",
    "\n",
    "$$a_{eff} = \\frac{b}{m}v^2 - g.$$\n",
    "\n",
    "\n",
    "**Sugerencia 1:** Tendrás que definir dentro de tu función un arreglo con los tiempos en los que calcularas las posiciones, esto puedes hacerlo usando `tt = np.linspace(0,t,<número de tiempos a calcular>`. Ten cuidado con usar suficientes puntos para que la gráfica sea suave, intenta con unos 100 tiempos para empezar. $\\mathrm{d}t$ será entonces `dt = tt[1]-tt[0]` o lo que es lo mismo `dt = tf/(n - 1)` con `n` el número de tiempos a calcular.\n",
    "\n",
    "**Sugerencia 2:** Usa un ciclo for que vaya llenando listas `xx` y `vv` y que calcule posición, aceleración y velocidad a cada tiempo."
   ]
  },
  {
   "cell_type": "code",
   "execution_count": null,
   "metadata": {},
   "outputs": [],
   "source": []
  },
  {
   "cell_type": "markdown",
   "metadata": {},
   "source": [
    "ii) Haz una grafica de la posición contra el tiempo para distintos valores de $b/m$ (en la misma figura)\n",
    "\n",
    "***Hint:*** Para añadir etiquetas usa el _keyword_ `label` dentro de la función plot.\n",
    "\n",
    "iii) Lo mismo que ii), pero para la velocidad."
   ]
  },
  {
   "cell_type": "code",
   "execution_count": null,
   "metadata": {},
   "outputs": [],
   "source": []
  },
  {
   "cell_type": "markdown",
   "metadata": {},
   "source": [
    "### Calculemos $\\pi$"
   ]
  },
  {
   "cell_type": "markdown",
   "metadata": {},
   "source": [
    "También podemos hacer cálculos útiles, por ejemplo podemos calcular el valor de $\\pi$. Hay literalmente miles de maneras de hacer esto. Una de ellas (muy lejos de ser la mejor) es a través de la [siguiente fórmula](https://en.wikipedia.org/wiki/Basel_problem):\n",
    "\n",
    "$$\\sum_{n=1}^\\infty \\frac{1}{n^2} = \\frac{\\pi^2}{6}.$$"
   ]
  },
  {
   "cell_type": "markdown",
   "metadata": {},
   "source": [
    "#### Problema 2"
   ]
  },
  {
   "cell_type": "markdown",
   "metadata": {},
   "source": [
    "(i) Fija una $N$ y calcula $\\pi$ utilizando una suma hasta $N$. Haz de esto una función que se llama `mi_pi` que tome como argumento $N$ y que regrese el valor calculado con la formula anterior."
   ]
  },
  {
   "cell_type": "code",
   "execution_count": 195,
   "metadata": {},
   "outputs": [
    {
     "data": {
      "text/plain": [
       "3.136826306330968"
      ]
     },
     "execution_count": 195,
     "metadata": {},
     "output_type": "execute_result"
    }
   ],
   "source": [
    "def mi_pi(N):\n",
    "    suma=0\n",
    "    for i in range(1,N+1):\n",
    "        suma=suma+(1/i**2)\n",
    "    pi_cal=(suma*6)**(.5)\n",
    "    return pi_cal\n",
    "\n",
    "mi_pi(200)"
   ]
  },
  {
   "cell_type": "markdown",
   "metadata": {},
   "source": [
    "(ii) Ahora repite el cálculo para valores diferentes de $N$ y almacénalos. Puedes hacer esto con una comprensión de arreglo, por ejemplo."
   ]
  },
  {
   "cell_type": "code",
   "execution_count": 196,
   "metadata": {},
   "outputs": [
    {
     "data": {
      "text/plain": [
       "[3.04936163598207,\n",
       " 3.1320765318091053,\n",
       " 3.1406380562059946,\n",
       " 3.141401680950943,\n",
       " 3.1414971639472147,\n",
       " 3.1415735551295705]"
      ]
     },
     "execution_count": 196,
     "metadata": {},
     "output_type": "execute_result"
    }
   ],
   "source": [
    "[mi_pi(n) for n in [10,100,1000,5000,10000,50000]]"
   ]
  },
  {
   "cell_type": "markdown",
   "metadata": {},
   "source": [
    "(iii) Grafica el resultado para los distintos valores de $N$, como función de $N$. ¿Qué observas? Comenta sobre qué le pasa al valor de `mi_pi(N)` conforme aumentas $N$.\n",
    "\n",
    "***Hint:*** Numpy tiene un valor de $\\pi$ al que puedes llamar usando `np.pi` (esto es un número, no una función). Puedes graficar líneas horizontales usando \n",
    "\n",
    "```\n",
    "plt.hlines(<valor en el eje y dónde quieres tu línea>,<x donde empieza tu línea>,<x dónde termina tu línea>)\n",
    "```\n"
   ]
  },
  {
   "cell_type": "markdown",
   "metadata": {},
   "source": [
    "En general podemos darnos una idea de como escala el error al mejorar una aproximación (por aumentar el número de puntos o haciendo el paso más chico o tomando muestras más grandes o lo que sea mejorar el método que uses para aproximar) es observando la distancia entre el valor esperado y el valor obtenido al mejorar la aproximación."
   ]
  },
  {
   "cell_type": "code",
   "execution_count": null,
   "metadata": {},
   "outputs": [],
   "source": [
    "ee = [abs(no.pi)-]"
   ]
  },
  {
   "cell_type": "code",
   "execution_count": 143,
   "metadata": {},
   "outputs": [
    {
     "data": {
      "text/plain": [
       "3.141592653589793"
      ]
     },
     "execution_count": 143,
     "metadata": {},
     "output_type": "execute_result"
    }
   ],
   "source": [
    "np.pi"
   ]
  },
  {
   "cell_type": "markdown",
   "metadata": {},
   "source": [
    "### Tiro parabólico"
   ]
  },
  {
   "cell_type": "markdown",
   "metadata": {},
   "source": [
    "Ya estamos en condiciones de poder visualizar sistemas *físicos* en la computadora."
   ]
  },
  {
   "cell_type": "markdown",
   "metadata": {},
   "source": [
    "#### Problema 1\n",
    "(i) Define una función `trayectoria_t` que calcula la trayectoria de una partícula en tiro parabólico en 2 dimensiones con una posición $(x_0, y_0)$ y rapidez $v_0$ iniciales dadas y lanzado a un ángulo $\\theta$ sobre la horizontal. `pos_t` debe tomar como argumentos una lista y tres valores, el primero con la posición inicial (que es un vector, i.e. un arrglo de dos entradas en este caso), el segundo con la rapidez inicial,  el tercero el ángulo $\\theta$ y el cuarto un tiempo hasta el que se calcula la trayectoria. Lo que tu función debe regresar son dos arreglos, el primero con las coordenadas horizontales ($x(t)$) y el segundo con las coordenadas verticales ($x(t)$) para cada punto de la trayectoria.\n",
    "\n",
    "Utiliza las fórmulas analíticas conocidas para ello.\n",
    "\n",
    "$$\\begin{align}\n",
    "x(t) &= x_0 + v_{x0}t\\\\\n",
    "y(t) &= y_0 + v_{y0}t - \\frac{1}{2}gt^2\\\\\n",
    "\\end{align}$$\n",
    "\n",
    "**Sugerencia 1:** Tendrás que definir dentro de tu función un arreglo con los tiempos en los que calcularas las posiciones, esto puedes hacerlo usando `np.linspace(0,t,<número de tiempos a calcular>`. Ten cuidado con usar suficientes puntos para que la gráfica sea suave.\n",
    "\n",
    "**Sugerencia 2:** Deberás usar las funciones `np.sin` y `np.cos` que calculan el seno y coseno de su argumento. Ojo, a estas funciones hay que pasarles el argumento en radianes, entonces debes decidir si le pasaras $\\theta$ a tu función en grados o en radiantes y dependiendo de lo que decidas, quiza tendrás que hacer una conversión de unidades dentro de tu función."
   ]
  },
  {
   "cell_type": "code",
   "execution_count": null,
   "metadata": {},
   "outputs": [],
   "source": []
  },
  {
   "cell_type": "markdown",
   "metadata": {},
   "source": [
    "(ii) Grafica distintas trayectorias con la misma posición y rapidez inicial pero para distintos ángulos iniciales. Arregla tu gráfica para que sólo muestra la parte hasta que la partícula caiga al suelo.\n",
    "\n",
    "***Hint:*** Para los límites de gráficación usa las funció `plt.xlim` como\n",
    "\n",
    "```\n",
    "plt.xlim(<límite inferior en x>,<límite superior en x>)\n",
    "```\n",
    "que permiten fijar los límites inferior y superior en el eje horizontal. `plt.ylim` es el análogo para el eje vertical."
   ]
  },
  {
   "cell_type": "code",
   "execution_count": null,
   "metadata": {},
   "outputs": [],
   "source": []
  },
  {
   "cell_type": "markdown",
   "metadata": {},
   "source": [
    "(iii) Comprueba gráficamente para cuál ángulo se tiene el máximo **alcance**. ¿Coincide con el valor teórico? Muéstralo."
   ]
  },
  {
   "cell_type": "code",
   "execution_count": null,
   "metadata": {},
   "outputs": [],
   "source": []
  },
  {
   "cell_type": "code",
   "execution_count": null,
   "metadata": {},
   "outputs": [],
   "source": []
  }
 ],
 "metadata": {
  "kernelspec": {
   "display_name": "Python 3 (ipykernel)",
   "language": "python",
   "name": "python3"
  },
  "language_info": {
   "codemirror_mode": {
    "name": "ipython",
    "version": 3
   },
   "file_extension": ".py",
   "mimetype": "text/x-python",
   "name": "python",
   "nbconvert_exporter": "python",
   "pygments_lexer": "ipython3",
   "version": "3.10.4"
  }
 },
 "nbformat": 4,
 "nbformat_minor": 2
}

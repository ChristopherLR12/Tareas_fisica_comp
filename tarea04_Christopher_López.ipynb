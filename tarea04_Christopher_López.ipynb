{
 "cells": [
  {
   "cell_type": "markdown",
   "metadata": {},
   "source": [
    "#  Tarea 04. Álgebra"
   ]
  },
  {
   "cell_type": "markdown",
   "metadata": {},
   "source": [
    "Desafortunadamente y por el tiempo que queda del curso, la implementación \"desde cero\" para resolver sistemas de ecuaciones lineales que quedaría como tarea 04 ya no lo será. En lugar de ello, si así lo deciden, pueden entregar el notebook \"06. Sistemas de ecuaciones lineales\" como tarea extra. Esto contará como reposición de tarea. Para ello tienen hasta la semana de presentación de proyectos. En su lugar, en este notebook hay un ejercicio que utiliza numpy para resolver sistemas de ecuaciones lineales."
   ]
  },
  {
   "cell_type": "markdown",
   "metadata": {},
   "source": [
    "________"
   ]
  },
  {
   "cell_type": "markdown",
   "metadata": {},
   "source": [
    "##### Ejercicio 1\n",
    "\n",
    "\n",
    "i) Revisa la documentación de la función `np.linalg.solve` para que veas que hace. Básicamente, toma como argumentos una matriz y un vector asociados a un sistema de ecuaciones lineales y regresa un vector con las soluciones. Utiliza esta función para resolver los siguientes sistemas de ecuaciones lineales. Cerciorate de que encuentras la solución correcta.\n",
    "\n",
    "1) El sistema \n",
    "\n",
    "$$\\begin{cases}5x-3y-z=1 \\\\ x+4y-6z=-1 \\\\ 2x+3y+4z=9 \\end{cases},$$\n",
    "\n",
    "con representación matricial\n",
    "$$\n",
    "\\begin{pmatrix}\n",
    "5 & -3 & -1 \\\\\n",
    "1 & 4 & -6 \\\\\n",
    "2 & 3 & 4 \\\\\n",
    "\\end{pmatrix} \n",
    "\\begin{pmatrix}\n",
    "x \\\\\n",
    "y \\\\\n",
    "z \\\\\n",
    "\\end{pmatrix} \n",
    "=\n",
    "\\begin{pmatrix}\n",
    "1 \\\\\n",
    "-1 \\\\\n",
    "9 \\\\\n",
    "\\end{pmatrix}.\n",
    "$$\n",
    "\n",
    "Solución: $x=1$, $y=1$, $z = 1$  \n",
    "\n",
    "<br>\n",
    "2) El sistema \n",
    "$$\\begin{cases}x + 5y - z + w & = & -6 \\\\ x + y + z + w & = & 0 \\\\ 2x - 2y + z - w & = & 7 \\\\ x -6y - 3z + 2w & = & -4 \\end{cases},$$\n",
    "\n",
    "con repesentación matricial\n",
    "$$\n",
    "\\begin{pmatrix}\n",
    "1 & 5 & -1 & 1 \\\\\n",
    "1 & 1 & 1 & 1 \\\\\n",
    "2 & -2 & 1 & -1 \\\\\n",
    "1 & -6 & -3 & 2 \\\\\n",
    "\\end{pmatrix} \n",
    "\\begin{pmatrix}\n",
    "x \\\\\n",
    "y \\\\\n",
    "z \\\\\n",
    "w \\\\\n",
    "\\end{pmatrix} \n",
    "=\n",
    "\\begin{pmatrix}\n",
    "-6 \\\\\n",
    "0 \\\\\n",
    "7 \\\\\n",
    "-4 \\\\\n",
    "\\end{pmatrix}.\n",
    "$$\n",
    "\n",
    "Solucion: $x=1$, $y=-2/3$, $z=5/3$,  $w=-2$"
   ]
  },
  {
   "cell_type": "code",
   "execution_count": 2,
   "metadata": {},
   "outputs": [],
   "source": [
    "import numpy as np\n",
    "import matplotlib.pyplot as plt"
   ]
  },
  {
   "cell_type": "code",
   "execution_count": 31,
   "metadata": {
    "scrolled": true
   },
   "outputs": [
    {
     "data": {
      "text/plain": [
       "array([1., 1., 1.])"
      ]
     },
     "execution_count": 31,
     "metadata": {},
     "output_type": "execute_result"
    }
   ],
   "source": [
    "#1)\n",
    "\n",
    "A1 = np.array([[5,-3,-1],[1,4,-6],[2,3,4]])\n",
    "b1 = np.array([1,-1,9])\n",
    "\n",
    "np.linalg.solve(A1,b1)"
   ]
  },
  {
   "cell_type": "code",
   "execution_count": 40,
   "metadata": {},
   "outputs": [
    {
     "data": {
      "text/plain": [
       "array([ 1.        , -0.66666667,  1.66666667, -2.        ])"
      ]
     },
     "execution_count": 40,
     "metadata": {},
     "output_type": "execute_result"
    }
   ],
   "source": [
    "#2)\n",
    "\n",
    "A2 = np.array([[1,5,-1,1],[1,1,1,1],[2,-2,1,-1],[1,-6,-3,2]])\n",
    "b2 = np.array([-6,0,7,-4])\n",
    "\n",
    "np.linalg.solve(A2,b2)"
   ]
  },
  {
   "cell_type": "markdown",
   "metadata": {},
   "source": [
    "Probemos otra forma de resolver sistemas de ecuaciones. Recordemos que un sistema de ecuaciones lineales representado por $\\mathbf{A}\\cdot\\mathbf{x} = \\mathbf{b}$ puede tener una, ninguna o una infinidad de soluciones.\n",
    "\n",
    "ii) ¿Qué condición debe tener el determinante de $\\mathbf{A}$ para que exista una única solución? (no es de programar)"
   ]
  },
  {
   "cell_type": "markdown",
   "metadata": {},
   "source": [
    "Sea $\\mathbf{A} \\in \\mathcal{M}_{n \\times n}$, si $\\det(\\mathbf{A}) \\neq 0$ entonces $\\mathbf{A}\\cdot\\mathbf{x} = \\mathbf{b}$ tiene solución única."
   ]
  },
  {
   "cell_type": "markdown",
   "metadata": {},
   "source": [
    "Notemos que cuando esta condición se cumple podemos escribir $\\mathbf{x} = \\mathbf{A}^{-1}\\cdot\\mathbf{b}$ con $\\mathbf{A}^{-1}$ la matriz inversa de $\\mathbf{A}$ y así entonces\n",
    "\n",
    "\\begin{align}\n",
    "\\mathbf{A}^{-1} \\cdot \\mathbf{A} \\cdot \\mathbf{x} = \\mathbf{A}^{-1} \\cdot \\mathbf{b} \n",
    "\\Rightarrow \\mathbb{I} \\cdot \\mathbf{x} = \\mathbf{A}^{-1} \\cdot \\mathbf{b}\n",
    "\\Rightarrow \\mathbf{x} = \\mathbf{A}^{-1} \\cdot \\mathbf{b}\n",
    "\\end{align}\n",
    "\n",
    "iii) Revisa la documentación de la función `np.linalg.inv` y úsala para encontrar la solución de los mismos sistemas de ecuaciones del inciso i)."
   ]
  },
  {
   "cell_type": "code",
   "execution_count": 46,
   "metadata": {},
   "outputs": [
    {
     "data": {
      "text/plain": [
       "array([1., 1., 1.])"
      ]
     },
     "execution_count": 46,
     "metadata": {},
     "output_type": "execute_result"
    }
   ],
   "source": [
    "#1)\n",
    "\n",
    "np.dot(np.linalg.inv(A1),b1)"
   ]
  },
  {
   "cell_type": "code",
   "execution_count": 47,
   "metadata": {},
   "outputs": [
    {
     "data": {
      "text/plain": [
       "array([ 1.        , -0.66666667,  1.66666667, -2.        ])"
      ]
     },
     "execution_count": 47,
     "metadata": {},
     "output_type": "execute_result"
    }
   ],
   "source": [
    "#2)\n",
    "\n",
    "np.dot(np.linalg.inv(A2),b2)"
   ]
  },
  {
   "cell_type": "markdown",
   "metadata": {},
   "source": [
    "_________"
   ]
  },
  {
   "cell_type": "markdown",
   "metadata": {},
   "source": [
    "#### Ejercicio extra: Vale por un ejercicio extra pero no por un problema (no es de programar)\n",
    "\n",
    "Sea $\\mathbf{M}$ una matriz real y simétrica de $n \\times n$ con valores y vectores propios $\\lambda_1, \\ldots, \\lambda_n$ y $\\mathbf{v}_{p,1}, \\ldots, \\mathbf{v}_{p,n}$ tales que $ |\\lambda_1| \\leq |\\lambda_2| \\leq  \\ldots \\leq |\\lambda_n|$.\n",
    "\n",
    "Utiliza el **[teorema espectral](https://en.wikipedia.org/wiki/Spectral_theorem)** para demostrar que la matriz $\\mathbf{B}_k (\\mathbf{M})$, definida como\n",
    "\n",
    "$$\n",
    "\\mathbf{B}_k (\\mathbf{M}) = \\mathbf{M} - \\frac{\\lambda_k}{\\Vert \\mathbf{v}_{p,k} \\Vert^2}\\mathbf{v}_{p,k}^T \\mathbf{v}_{p,k},\n",
    "$$\n",
    "\n",
    "tiene valores propios $\\lambda_k = 0,\\lambda_1,\\ldots,\\lambda_{k-1},\\lambda_{k+1},\\ldots,\\lambda_n$ y sus correspondientes vectores propios asociados son $\\mathbf{v}_{p,k},\\mathbf{v}_{p,1},\\ldots,\\mathbf{v}_{p,k-1}, \\mathbf{v}_{p,k+1},\\ldots,\\mathbf{v}_n$. Es decir, la matriz $\\mathbf{B}_k$ tiene los mismos valores propios y vectores propios de $\\mathbf{M}$ excepto por $\\lambda_k$ que ahora es cero.\n",
    "\n",
    "**_Hint_**: recuerda que\n",
    "$$\n",
    "\\mathbf{v}^T \\mathbf{w} = \\begin{pmatrix}\n",
    "v_1 w_1 & v_1 w_2 & \\ldots & v_1 w_n \\\\\n",
    "v_2 w_1 & v_2 w_2 & \\ldots & v_2 w_n \\\\\n",
    "\\vdots & \\vdots & \\ddots & \\vdots \\\\\n",
    "v_n w_1 & v_n w_2 & \\ldots & v_n w_n \\\\\n",
    "\\end{pmatrix}\n",
    "$$\n",
    "\n",
    "Y que  $(\\mathbf{v}^T \\mathbf{w}) \\mathbf{u} = (\\mathbf{w} \\cdot \\mathbf{u}) \\mathbf{v}^T.  $ "
   ]
  },
  {
   "cell_type": "code",
   "execution_count": null,
   "metadata": {},
   "outputs": [],
   "source": []
  },
  {
   "cell_type": "markdown",
   "metadata": {},
   "source": [
    "___________"
   ]
  },
  {
   "cell_type": "markdown",
   "metadata": {},
   "source": [
    "#### Ejercicio 2\n",
    "\n",
    "Repite el ejercicio 4 del notebook \"07. Vectores y valores propios\" usando la `np.linalg.eig`. Lee la documentación para saber cómo se usa esta función. Comprueba que tus soluciones son correctas comprobando que $\\mathbf{M} \\cdot \\mathbf{v}_p = \\lambda \\, \\mathbf{v}_p$ "
   ]
  },
  {
   "cell_type": "code",
   "execution_count": 98,
   "metadata": {},
   "outputs": [
    {
     "data": {
      "text/plain": [
       "(array([5., 3.]),\n",
       " array([[1., 0.],\n",
       "        [0., 1.]]),\n",
       " array([[5., 0.],\n",
       "        [0., 3.]]),\n",
       " array([[5., 0.],\n",
       "        [0., 3.]]))"
      ]
     },
     "execution_count": 98,
     "metadata": {},
     "output_type": "execute_result"
    }
   ],
   "source": [
    "#1)\n",
    "\n",
    "M1 = np.array([[5,0],[0,3]])\n",
    "\n",
    "l1,v1 = np.linalg.eig(M1)\n",
    "\n",
    "l1,v1,np.dot(M1,v1),l1*v1"
   ]
  },
  {
   "cell_type": "code",
   "execution_count": 110,
   "metadata": {},
   "outputs": [
    {
     "data": {
      "text/plain": [
       "(array([ 7.07467358, -0.88679099, -3.1878826 ]),\n",
       " array([[ 0.50578521,  0.82403773, -0.25523155],\n",
       "        [ 0.58437383, -0.54492509, -0.60130182],\n",
       "        [ 0.63457746, -0.15497893,  0.75716113]]),\n",
       " array([[ True,  True,  True],\n",
       "        [ True,  True,  True],\n",
       "        [ True,  True,  True]]))"
      ]
     },
     "execution_count": 110,
     "metadata": {},
     "output_type": "execute_result"
    }
   ],
   "source": [
    "#2)\n",
    "\n",
    "M2 = np.array([[1,2,3],[2,1,4],[3,4,1]])\n",
    "\n",
    "l2,v2 = np.linalg.eig(M2)\n",
    "\n",
    "l2,v2,np.round(np.dot(M2,v2),12)==np.round(l2*v2,12) #Redondeado a 12 decimales para comprobar la igualdad"
   ]
  },
  {
   "cell_type": "code",
   "execution_count": 112,
   "metadata": {},
   "outputs": [
    {
     "data": {
      "text/plain": [
       "(array([14.15753708,  3.3443981 , -4.70725818, -1.794677  ]),\n",
       " array([[ 0.22195176,  0.80218821, -0.31997168, -0.45260315],\n",
       "        [ 0.37922193, -0.401573  ,  0.33564845, -0.76306616],\n",
       "        [ 0.67459667,  0.26961508,  0.53653317,  0.42937069],\n",
       "        [ 0.59316732, -0.35005844, -0.70504638,  0.16888227]]),\n",
       " array([[ True,  True,  True,  True],\n",
       "        [ True,  True,  True,  True],\n",
       "        [ True,  True,  True,  True],\n",
       "        [ True,  True,  True,  True]]))"
      ]
     },
     "execution_count": 112,
     "metadata": {},
     "output_type": "execute_result"
    }
   ],
   "source": [
    "#3)\n",
    "\n",
    "M3 = np.array([[2,0,4,0],[0,1,3,5],[4,3,5,7],[0,5,7,3]])\n",
    "\n",
    "l3,v3 = np.linalg.eig(M3)\n",
    "\n",
    "l3,v3,np.round(np.dot(M3,v3),12)==np.round(l3*v3,12) #Redondeado a 12 decimales para comprobar la igualdad"
   ]
  },
  {
   "cell_type": "markdown",
   "metadata": {},
   "source": [
    "_________"
   ]
  },
  {
   "cell_type": "markdown",
   "metadata": {},
   "source": [
    "#### Problema 1: osciladores armónicos acoplados\n",
    "\n",
    "Considera el sistema de dos carros de masas $m_1$ y $m_2$, acoplados entre si y a dos paredes por tres resortes Hookeanos (que siguen la ley de Hooke) con constantes $k_1$, $k_2$ y $k_3$. El siguiente diagrama representa al sistema:\n",
    "\n",
    "<div>\n",
    "<img src=\"https://d2vlcm61l7u1fs.cloudfront.net/media%2F146%2F146c6723-0056-4cb5-8b20-dc4eccefd526%2FphpM4if1A.png\" width=\"500\"/>\n",
    "</div>\n",
    "\n",
    "La solución de este sistema está dada por las ecuaciones\n",
    "\n",
    "$$\n",
    "\\begin{align}\n",
    "x_1(t) &= \\alpha_1 \\cos{(\\omega t - \\delta_1)} \\\\\n",
    "x_2(t) &= \\alpha_2 \\cos{(\\omega t - \\delta_2)},\n",
    "\\end{align}\n",
    "$$\n",
    "\n",
    "con $x_1(t)$ y $x_2(t)$ los desplazamientos de cada carrito respecto a sus posiciones de equilibrio.  \n",
    "\n",
    "\n",
    "Supongamos que los carros son de masas iguales $m_1 = m_2 = m$ y que $\\delta_1 = \\delta_2 = 0$. Así, la frecuencia $\\omega$ y el vector de amplitudes $\\mathbf{A} = [\\alpha_1, \\alpha_2]$ se puede encontrar de la siguiente manera:\n",
    "\n",
    "$\\mathbf{A}$ es un vector propio, y $m \\omega^2$  su valor propio asociado, de la **matriz de constante de resortes** $\\mathbf{K}$, definida como\n",
    "\n",
    "$$\n",
    "\\mathbf{K} = \\begin{pmatrix}\n",
    "k_1 + k_2 & -k_2 \\\\\n",
    "-k_2 & k_2 + k_3 \\\\\n",
    "\\end{pmatrix}\n",
    "$$"
   ]
  },
  {
   "cell_type": "markdown",
   "metadata": {},
   "source": [
    "Notemos que, por ser simétrica, la matriz $\\mathbf{K} $ tendrá dos  vectores propios distintos, asociados a valores propios distintos. Cada uno de ellos define dos movimientos distintos de los carros acoplados que corresponden a sus **modos normales**."
   ]
  },
  {
   "cell_type": "markdown",
   "metadata": {},
   "source": [
    "\n",
    "i) Utilizando la función `np.linalg.eig`, escribe una función `carrosAcoplados(k1,k2,k3,m)` que tome como argumento los valores de las constantes $k_1$, $k_2$, $k_3$ y de la masa $m$ y que regrese las dos frecuencias $\\omega_1, \\omega_2$ y sus vectores de amplitudes correspondientes $\\mathbf{A}_1, \\mathbf{A}_2$.\n",
    "\n",
    "Revisa que para el caso $k_1=k_2=k_3=k$, se cumpla\n",
    "\n",
    "$$\n",
    "\\omega_1 = \\sqrt{\\frac{k}{m}} \\quad , \\quad \\mathbf{A}_1 = \\frac{1}{\\sqrt{2}} (1,1)\n",
    "$$\n",
    "\n",
    "$$\n",
    "\\omega_2 = \\sqrt{\\frac{3k}{m}} \\quad , \\quad \\mathbf{A}_2 = \\frac{1}{\\sqrt{2}} (1,-1)\n",
    "$$\n",
    "\n",
    "**Sugerencia**: para comprobar que se cumplen esas relaciones, deberán darle valores arbitrarios a $k$ y $m$"
   ]
  },
  {
   "cell_type": "code",
   "execution_count": 118,
   "metadata": {},
   "outputs": [],
   "source": [
    "def carrosAcoplados(k1,k2,k3,m):\n",
    "    K=np.array([[k1+k2,-k2],[-k2,k2+k3]])\n",
    "    l,A = np.linalg.eig(K)\n",
    "    ω = np.sqrt(l/m)\n",
    "    return ω,A"
   ]
  },
  {
   "cell_type": "markdown",
   "metadata": {},
   "source": [
    "Sea $k_1=k_2=k_3=k=4$ y $m=1$ entonces analíticamente\n",
    "\n",
    "$$\n",
    "\\omega_1 = \\sqrt{4} = 2 \\quad , \\quad \\mathbf{A}_1 = \\frac{1}{\\sqrt{2}} (1,1) = (0.70710,0.70710)\n",
    "$$\n",
    "\n",
    "$$\n",
    "\\omega_2 = \\sqrt{3 \\times 4} = \\sqrt{12} = 3.4641 \\quad , \\quad \\mathbf{A}_2 = \\frac{1}{\\sqrt{2}}(1,-1) = (0.70710,-0.70710)\n",
    "$$\n",
    "\n",
    "y usando la función `carrosAcoplados` se tiene"
   ]
  },
  {
   "cell_type": "code",
   "execution_count": 119,
   "metadata": {
    "scrolled": true
   },
   "outputs": [
    {
     "data": {
      "text/plain": [
       "(array([3.46410162, 2.        ]),\n",
       " array([[ 0.70710678,  0.70710678],\n",
       "        [-0.70710678,  0.70710678]]))"
      ]
     },
     "execution_count": 119,
     "metadata": {},
     "output_type": "execute_result"
    }
   ],
   "source": [
    "carrosAcoplados(4,4,4,1)"
   ]
  },
  {
   "cell_type": "markdown",
   "metadata": {},
   "source": [
    "Lo cual coincide con el resultado analítico."
   ]
  }
 ],
 "metadata": {
  "kernelspec": {
   "display_name": "Python 3 (ipykernel)",
   "language": "python",
   "name": "python3"
  },
  "language_info": {
   "codemirror_mode": {
    "name": "ipython",
    "version": 3
   },
   "file_extension": ".py",
   "mimetype": "text/x-python",
   "name": "python",
   "nbconvert_exporter": "python",
   "pygments_lexer": "ipython3",
   "version": "3.10.2"
  }
 },
 "nbformat": 4,
 "nbformat_minor": 2
}
